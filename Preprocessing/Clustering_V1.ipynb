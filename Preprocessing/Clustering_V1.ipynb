{
 "cells": [
  {
   "cell_type": "code",
   "execution_count": 1,
   "metadata": {},
   "outputs": [],
   "source": [
    "import pandas as pd\n",
    "import numpy as np\n",
    "import matplotlib.pyplot as plt\n",
    "from sklearn.cluster import KMeans"
   ]
  },
  {
   "cell_type": "code",
   "execution_count": 2,
   "metadata": {},
   "outputs": [],
   "source": [
    "data=pd.read_csv('../cleaned_customized_daily_rainfall_data .csv')"
   ]
  },
  {
   "cell_type": "code",
   "execution_count": 3,
   "metadata": {},
   "outputs": [],
   "source": [
    "X=data.values[:,2:5]\n",
    "y=data.values[:,5]\n",
    "y=y.reshape(-1,1)"
   ]
  },
  {
   "cell_type": "code",
   "execution_count": 4,
   "metadata": {},
   "outputs": [],
   "source": [
    "kmeans=KMeans(n_clusters=4)\n",
    "kmeans=kmeans.fit(X)\n",
    "\n"
   ]
  },
  {
   "cell_type": "code",
   "execution_count": 5,
   "metadata": {},
   "outputs": [],
   "source": [
    "centeroid=kmeans.cluster_centers_\n",
    "labels=kmeans.labels_\n",
    "\n",
    "new_data=data[['Year','Month','Day']]\n",
    "new_data=new_data.values\n",
    "\n",
    "new_labels=labels.reshape(-1,1)"
   ]
  },
  {
   "cell_type": "code",
   "execution_count": 6,
   "metadata": {},
   "outputs": [],
   "source": [
    "clustered_data=np.concatenate((new_data,new_labels,y),axis=1)"
   ]
  },
  {
   "cell_type": "code",
   "execution_count": 7,
   "metadata": {},
   "outputs": [],
   "source": [
    "clustered_data_frame=pd.DataFrame(clustered_data,columns=['Year','Month','Day','Cluster','Rainfall'])\n"
   ]
  },
  {
   "cell_type": "code",
   "execution_count": 8,
   "metadata": {},
   "outputs": [],
   "source": [
    "cluster1=clustered_data_frame.loc[clustered_data_frame['Cluster']==0]\n",
    "cluster2=clustered_data_frame.loc[clustered_data_frame['Cluster']==1]\n",
    "cluster3=clustered_data_frame.loc[clustered_data_frame['Cluster']==2]\n",
    "cluster4=clustered_data_frame.loc[clustered_data_frame['Cluster']==3]"
   ]
  },
  {
   "cell_type": "code",
   "execution_count": 9,
   "metadata": {},
   "outputs": [],
   "source": [
    "cluster1.to_csv('cluster1.csv')\n",
    "cluster2.to_csv('cluster2.csv')\n",
    "cluster3.to_csv('cluster3.csv')\n",
    "cluster4.to_csv('cluster4.csv')"
   ]
  }
 ],
 "metadata": {
  "kernelspec": {
   "display_name": "Python|StatisticalML",
   "language": "python",
   "name": "statisticalml"
  },
  "language_info": {
   "codemirror_mode": {
    "name": "ipython",
    "version": 3
   },
   "file_extension": ".py",
   "mimetype": "text/x-python",
   "name": "python",
   "nbconvert_exporter": "python",
   "pygments_lexer": "ipython3",
   "version": "3.7.1"
  }
 },
 "nbformat": 4,
 "nbformat_minor": 2
}
