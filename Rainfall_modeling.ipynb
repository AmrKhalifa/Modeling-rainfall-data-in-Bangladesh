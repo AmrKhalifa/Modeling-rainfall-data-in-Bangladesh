{
 "cells": [
  {
   "cell_type": "code",
   "execution_count": 464,
   "metadata": {},
   "outputs": [],
   "source": [
    "# import library\n",
    "import numpy as np\n",
    "import csv\n",
    "import seaborn as sns\n",
    "import matplotlib.pyplot as plt\n",
    "from bokeh.plotting import figure, show, output_file\n",
    "from math import pi\n",
    "\n",
    "import pandas as pd\n",
    "\n",
    "from bokeh.io import output_file, show\n",
    "from bokeh.palettes import Category20c\n",
    "from bokeh.plotting import figure\n",
    "from bokeh.transform import cumsum\n",
    "import random\n",
    "from bokeh.core.properties import value\n",
    "from sklearn.model_selection import train_test_split\n",
    "from sklearn import datasets\n",
    "from sklearn import svm\n",
    "\n",
    "from keras.models import Sequential\n",
    "from keras.wrappers.scikit_learn import KerasRegressor\n",
    "from sklearn.model_selection import cross_val_score\n",
    "from sklearn.model_selection import KFold\n",
    "from sklearn.preprocessing import StandardScaler\n",
    "from sklearn.pipeline import Pipeline\n",
    "from subprocess import check_output\n",
    "from keras.layers.core import Dense, Activation, Dropout\n",
    "from keras.layers.recurrent import LSTM\n",
    "from keras.layers.recurrent import RNN, SimpleRNN\n",
    "from sklearn.preprocessing import MinMaxScaler\n",
    "from keras.layers import Layer\n",
    "from keras import Input\n",
    "from sklearn.neural_network import  MLPRegressor"
   ]
  },
  {
   "cell_type": "code",
   "execution_count": 507,
   "metadata": {},
   "outputs": [],
   "source": [
    "#write a function that allows to load the data in the 35 files for each station\n",
    "def loadData():\n",
    "    df = pd.read_csv('cleaned_customized_daily_rainfall_data .csv')\n",
    "    df = df[[\"StationIndex\", \"Year\", \"Month\", \"Day\", \"Rainfall\"]]\n",
    "    df = df.as_matrix()\n",
    "    return df"
   ]
  },
  {
   "cell_type": "markdown",
   "metadata": {},
   "source": [
    "# split data in training, validation and  testing data.\n",
    "90% for training data\n",
    "\n",
    "10% for testing data"
   ]
  },
  {
   "cell_type": "code",
   "execution_count": 508,
   "metadata": {},
   "outputs": [],
   "source": [
    "def split_data_target():\n",
    "    rainfalls = loadData()\n",
    "    data = rainfalls[:,:4]\n",
    "    target = rainfalls[:,4:]\n",
    "    train_data,test_data, train_target, test_target = train_test_split(data, target, test_size=0.1, random_state=1)\n",
    "    return train_data, train_target, test_data, test_target"
   ]
  },
  {
   "cell_type": "code",
   "execution_count": 509,
   "metadata": {
    "scrolled": false
   },
   "outputs": [
    {
     "data": {
      "text/plain": [
       "((209250, 4), (209250, 1), (23250, 4))"
      ]
     },
     "execution_count": 509,
     "metadata": {},
     "output_type": "execute_result"
    }
   ],
   "source": [
    "train_data, train_target, test_data, test_target = split_data_target()\n",
    "#train_target = train_target.reshape(1,35, 4820)\n",
    "train_data.shape, train_target.shape, test_data.shape"
   ]
  },
  {
   "cell_type": "code",
   "execution_count": null,
   "metadata": {
    "scrolled": false
   },
   "outputs": [],
   "source": [
    "##Using a simple RNN\n",
    "from keras import optimizers\n",
    "model = Sequential()\n",
    "model.add(SimpleRNN(100, return_sequences=True, input_shape=(1,4)))\n",
    "model.add(Dropout(0.2))\n",
    "model.add(Dense(100))\n",
    "model.add(Dropout(0.2))\n",
    "\n",
    "model.add(Dense(1))\n",
    "rmsprop = optimizers.RMSprop(lr=0.01)\n",
    "adam = optimizers.Adam(lr=0.01)\n",
    "sgd = optimizers.SGD(lr=0.01)\n",
    "model.add(Activation('tanh'))\n",
    "model.compile(loss='mse',metrics=['acc'],optimizer=sgd)\n",
    "\n",
    "model.fit(train_data.reshape(-1,1,4),train_target.reshape(-1,1,1),batch_size=100, epochs=20,validation_split=.1)"
   ]
  },
  {
   "cell_type": "code",
   "execution_count": 518,
   "metadata": {},
   "outputs": [
    {
     "name": "stdout",
     "output_type": "stream",
     "text": [
      "0.09077613128357676\n"
     ]
    }
   ],
   "source": [
    "from sklearn.ensemble import RandomForestRegressor\n",
    "from sklearn import metrics\n",
    "model = RandomForestRegressor(max_depth=2, random_state=0,\n",
    "                            n_estimators=1000,  max_features=4)\n",
    "X1 = train_data\n",
    "y1 = train_target\n",
    "y1 = y1.ravel()\n",
    "Xtest = test_data\n",
    "ytest = test_target\n",
    "ytest =ytest.reshape(-1,1)\n",
    "model.fit(X1,y1)\n",
    "predict1 = model.predict(Xtest)\n",
    "print(regr.score(test_data,ytest))\n",
    "\n",
    "#print(metrics.accuracy_score(pred,test_target))\n",
    "#X.shape, y.shape, X1.shape, y1.shape"
   ]
  },
  {
   "cell_type": "code",
   "execution_count": 519,
   "metadata": {},
   "outputs": [
    {
     "name": "stdout",
     "output_type": "stream",
     "text": [
      "349.70503381132454 0.008597433924867337\n"
     ]
    }
   ],
   "source": [
    "from sklearn.linear_model import LinearRegression\n",
    "\n",
    "model = LinearRegression(fit_intercept=True, normalize=True)\n",
    "X1 = train_data\n",
    "y1 = train_target\n",
    "y1 = y1.ravel()\n",
    "Xtest = test_data\n",
    "ytest = test_target\n",
    "ytest =ytest.reshape(-1,1)\n",
    "model.fit(X1, y1)\n",
    "\n",
    "predict = model.predict(Xtest)\n",
    "print(metrics.mean_squared_error(ytest,predict), metrics.r2_score(ytest, predict))"
   ]
  },
  {
   "cell_type": "code",
   "execution_count": null,
   "metadata": {},
   "outputs": [],
   "source": []
  }
 ],
 "metadata": {
  "kernelspec": {
   "display_name": "Python 3",
   "language": "python",
   "name": "python3"
  },
  "language_info": {
   "codemirror_mode": {
    "name": "ipython",
    "version": 3
   },
   "file_extension": ".py",
   "mimetype": "text/x-python",
   "name": "python",
   "nbconvert_exporter": "python",
   "pygments_lexer": "ipython3",
   "version": "3.5.3"
  }
 },
 "nbformat": 4,
 "nbformat_minor": 2
}
