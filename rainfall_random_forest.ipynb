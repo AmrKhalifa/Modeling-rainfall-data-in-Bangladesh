{
 "cells": [
  {
   "cell_type": "code",
   "execution_count": 11,
   "metadata": {},
   "outputs": [],
   "source": [
    "# import library\n",
    "import numpy as np\n",
    "import csv\n",
    "import matplotlib.pyplot as plt\n",
    "from math import pi\n",
    "\n",
    "import pandas as pd\n",
    "\n",
    "from sklearn.model_selection import train_test_split\n",
    "from sklearn import datasets\n",
    "from sklearn import svm\n",
    "from sklearn.model_selection import cross_val_score"
   ]
  },
  {
   "cell_type": "code",
   "execution_count": 12,
   "metadata": {},
   "outputs": [],
   "source": [
    "#write a function that allows to load the data in the 35 files for each station\n",
    "def loadData():\n",
    "    df = pd.read_csv('cleaned_customized_daily_rainfall_data .csv')\n",
    "    df = df[[\"StationIndex\", \"Year\", \"Month\", \"Day\", \"Rainfall\"]]\n",
    "    df = df.as_matrix()\n",
    "    return df"
   ]
  },
  {
   "cell_type": "markdown",
   "metadata": {},
   "source": [
    "# split data in training, validation and  testing data.\n",
    "90% for training data\n",
    "\n",
    "10% for testing data"
   ]
  },
  {
   "cell_type": "code",
   "execution_count": 13,
   "metadata": {},
   "outputs": [],
   "source": [
    "def split_data_target():\n",
    "    rainfalls = loadData()\n",
    "    data = rainfalls\n",
    "    target = rainfalls[:,4:]\n",
    "    train_data,test_data, train_target, test_target = train_test_split(data, target, test_size=0.1, random_state=1)\n",
    "    return train_data, train_target, test_data, test_target"
   ]
  },
  {
   "cell_type": "code",
   "execution_count": 14,
   "metadata": {
    "scrolled": false
   },
   "outputs": [
    {
     "data": {
      "text/plain": [
       "((209250, 5), (209250, 1), (23250, 5))"
      ]
     },
     "execution_count": 14,
     "metadata": {},
     "output_type": "execute_result"
    }
   ],
   "source": [
    "train_data, train_target, test_data, test_target = split_data_target()\n",
    "#train_target = train_target.reshape(1,35, 4820)\n",
    "train_data.shape, train_target.shape, test_data.shape"
   ]
  },
  {
   "cell_type": "code",
   "execution_count": 16,
   "metadata": {},
   "outputs": [
    {
     "name": "stdout",
     "output_type": "stream",
     "text": [
      "R^2 score 0.9998436388072827\n",
      "==============================\n",
      "Variance 0.9998436569663264\n",
      "=================================\n",
      "Error 0.055154483211064566\n",
      "===================================\n"
     ]
    },
    {
     "data": {
      "image/png": "[encoded data removed]",
      "text/plain": [
       "<matplotlib.figure.Figure at 0x7f363b6c1f98>"
      ]
     },
     "metadata": {
      "needs_background": "light"
     },
     "output_type": "display_data"
    }
   ],
   "source": [
    "from sklearn.ensemble import RandomForestRegressor\n",
    "from sklearn import metrics\n",
    "model = RandomForestRegressor(bootstrap=True,\n",
    "                              max_depth= 100,\n",
    "                              max_features= 3,\n",
    "                              min_samples_leaf= 3,\n",
    "                              min_samples_split= 8,\n",
    "                              n_estimators= 1000)\n",
    "X1 = train_data\n",
    "y1 = train_target\n",
    "y1 = y1.ravel()\n",
    "Xtest = test_data\n",
    "ytest = test_target\n",
    "ytest =ytest.reshape(-1,1)\n",
    "model.fit(X1,y1)\n",
    "predict1 = model.predict(Xtest)\n",
    "print('R^2 score' ,metrics.r2_score(ytest, predict1))\n",
    "print('==============================')\n",
    "print('Variance', metrics.explained_variance_score(ytest, predict1))\n",
    "print('=================================')\n",
    "print('Error', metrics.mean_squared_error(ytest, predict1))\n",
    "print('===================================')\n",
    "plt.plot(ytest)\n",
    "plt.plot(predict1)\n",
    "plt.legend(['true', 'predict'])\n",
    "plt.show()\n",
    "#print(metrics.accuracy_score(pred,test_target))\n",
    "#X.shape, y.shape, X1.shape, y1.shape"
   ]
  },
  {
   "cell_type": "code",
   "execution_count": null,
   "metadata": {},
   "outputs": [],
   "source": []
  }
 ],
 "metadata": {
  "kernelspec": {
   "display_name": "Python 3",
   "language": "python",
   "name": "python3"
  },
  "language_info": {
   "codemirror_mode": {
    "name": "ipython",
    "version": 3
   },
   "file_extension": ".py",
   "mimetype": "text/x-python",
   "name": "python",
   "nbconvert_exporter": "python",
   "pygments_lexer": "ipython3",
   "version": "3.5.3"
  }
 },
 "nbformat": 4,
 "nbformat_minor": 2
}
