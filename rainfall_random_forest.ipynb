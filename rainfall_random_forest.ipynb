{
 "cells": [
  {
   "cell_type": "code",
   "execution_count": 1,
   "metadata": {},
   "outputs": [],
   "source": [
    "# import library\n",
    "import numpy as np\n",
    "import csv\n",
    "import matplotlib.pyplot as plt\n",
    "from math import pi\n",
    "\n",
    "import pandas as pd\n",
    "\n",
    "from sklearn.model_selection import train_test_split\n",
    "from sklearn import datasets\n",
    "from sklearn import svm\n",
    "from sklearn.model_selection import cross_val_score\n",
    "import time"
   ]
  },
  {
   "cell_type": "code",
   "execution_count": 2,
   "metadata": {},
   "outputs": [],
   "source": [
    "import sys\n",
    "\n",
    "if not sys.warnoptions:\n",
    "    import warnings\n",
    "    warnings.simplefilter(\"ignore\")"
   ]
  },
  {
   "cell_type": "code",
   "execution_count": 3,
   "metadata": {},
   "outputs": [],
   "source": [
    "#write a function that allows to load the data in the 35 files for each station\n",
    "def loadData():\n",
    "    df = pd.read_csv('cleaned_customized_daily_rainfall_data .csv').sort_values(['Year', 'Month', 'Day'], ascending=[True, True,True])\n",
    "    df = df[[\"StationIndex\", \"Year\", \"Month\", \"Day\", \"Rainfall\"]]\n",
    "    df = df.as_matrix()\n",
    "    return df"
   ]
  },
  {
   "cell_type": "markdown",
   "metadata": {},
   "source": [
    "# split data in training, validation and  testing data.\n",
    "90% for training data\n",
    "\n",
    "20% for testing data"
   ]
  },
  {
   "cell_type": "code",
   "execution_count": 4,
   "metadata": {},
   "outputs": [],
   "source": [
    "def split_data_target():\n",
    "    rainfalls = loadData()\n",
    "    data = rainfalls\n",
    "    target = rainfalls[:,4:]\n",
    "    train_data,test_data, train_target, test_target = train_test_split(data, target, test_size=0.2)\n",
    "    return train_data, train_target, test_data, test_target"
   ]
  },
  {
   "cell_type": "code",
   "execution_count": 5,
   "metadata": {
    "scrolled": false
   },
   "outputs": [
    {
     "data": {
      "text/plain": [
       "((186000, 5), (186000, 1), (46500, 5))"
      ]
     },
     "execution_count": 5,
     "metadata": {},
     "output_type": "execute_result"
    }
   ],
   "source": [
    "train_data, train_target, test_data, test_target = split_data_target()\n",
    "#train_target = train_target.reshape(1,35, 4820)\n",
    "train_data.shape, train_target.shape, test_data.shape"
   ]
  },
  {
   "cell_type": "code",
   "execution_count": 7,
   "metadata": {},
   "outputs": [
    {
     "name": "stdout",
     "output_type": "stream",
     "text": [
      "Time =  94.35954642295837\n",
      "R^2 score 0.9992948208836787\n",
      "==============================\n",
      "Variance 0.9992948478879413\n",
      "=================================\n",
      "Error 0.5066753159922665\n",
      "===================================\n"
     ]
    },
    {
     "data": {
      "image/png": "[encoded data removed]",
      "text/plain": [
       "<matplotlib.figure.Figure at 0x7f6833499f98>"
      ]
     },
     "metadata": {
      "needs_background": "light"
     },
     "output_type": "display_data"
    }
   ],
   "source": [
    "from sklearn.ensemble import RandomForestRegressor\n",
    "from sklearn import metrics\n",
    "model = RandomForestRegressor(bootstrap=True,\n",
    "                              max_depth= 100,\n",
    "                              max_features= 3,\n",
    "                              min_samples_leaf= 3,\n",
    "                              min_samples_split= 8,\n",
    "                              n_estimators= 1000)\n",
    "X1 = train_data\n",
    "y1 = train_target\n",
    "y1 = y1.ravel()\n",
    "Xtest = test_data\n",
    "ytest = test_target\n",
    "ytest =ytest.reshape(-1,1)\n",
    "t = time.time()\n",
    "model.fit(X1,y1)\n",
    "print(\"Time = \", time.time()-t)\n",
    "predict1 = model.predict(Xtest)\n",
    "print('R^2 score' ,metrics.r2_score(ytest, predict1))\n",
    "print('==============================')\n",
    "print('Variance', metrics.explained_variance_score(ytest, predict1))\n",
    "print('=================================')\n",
    "print('Error', np.sqrt(metrics.mean_squared_error(ytest, predict1)))\n",
    "print('===================================')\n",
    "plt.figure(figsize=(10,8))\n",
    "plt.plot(ytest)\n",
    "plt.plot(predict1)\n",
    "\n",
    "plt.legend(['true', 'predict'])\n",
    "plt.savefig('all.svg', dpi=3000)\n",
    "plt.show()\n",
    "#print(metrics.accuracy_score(pred,test_target))\n",
    "#X.shape, y.shape, X1.shape, y1.shape"
   ]
  },
  {
   "cell_type": "code",
   "execution_count": 18,
   "metadata": {},
   "outputs": [
    {
     "data": {
      "text/plain": [
       "6.535490620387282"
      ]
     },
     "execution_count": 18,
     "metadata": {},
     "output_type": "execute_result"
    }
   ],
   "source": [
    "np.mean(predict1)"
   ]
  },
  {
   "cell_type": "code",
   "execution_count": null,
   "metadata": {},
   "outputs": [],
   "source": []
  }
 ],
 "metadata": {
  "kernelspec": {
   "display_name": "Python 3",
   "language": "python",
   "name": "python3"
  },
  "language_info": {
   "codemirror_mode": {
    "name": "ipython",
    "version": 3
   },
   "file_extension": ".py",
   "mimetype": "text/x-python",
   "name": "python",
   "nbconvert_exporter": "python",
   "pygments_lexer": "ipython3",
   "version": "3.5.3"
  }
 },
 "nbformat": 4,
 "nbformat_minor": 2
}
