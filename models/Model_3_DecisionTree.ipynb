{
 "cells": [
  {
   "cell_type": "code",
   "execution_count": 22,
   "metadata": {},
   "outputs": [],
   "source": [
    "import numpy as np\n",
    "import pandas as pd\n",
    "import matplotlib.pyplot as plt \n",
    "from sklearn import tree\n",
    "from sklearn.model_selection import train_test_split\n",
    "from sklearn.metrics import mean_squared_error"
   ]
  },
  {
   "cell_type": "code",
   "execution_count": 23,
   "metadata": {},
   "outputs": [],
   "source": [
    "# Loading The Data of clusters.\n",
    "cluster1=pd.read_csv('clustered_data/cluster1_v2.csv')\n",
    "cluster2=pd.read_csv('clustered_data/cluster2_v2.csv')\n",
    "cluster3=pd.read_csv('clustered_data/cluster3_v2.csv')\n",
    "cluster4=pd.read_csv('clustered_data/cluster4_v2.csv')"
   ]
  },
  {
   "cell_type": "code",
   "execution_count": 25,
   "metadata": {},
   "outputs": [],
   "source": [
    "# Xn will contain 'Year, Month, Day, Cluster'\n",
    "\n",
    "X1=cluster1.values[:,:5]\n",
    "X2=cluster2.values[:,:5]\n",
    "X3=cluster3.values[:,:5]\n",
    "X4=cluster4.values[:,:5]\n",
    "\n",
    "y1=cluster1.values[:,5]\n",
    "y2=cluster2.values[:,5]\n",
    "y3=cluster3.values[:,5]\n",
    "y4=cluster4.values[:,5]"
   ]
  },
  {
   "cell_type": "code",
   "execution_count": 26,
   "metadata": {},
   "outputs": [],
   "source": [
    "# Define the tree model for every cluster\n",
    "\n",
    "tree1=tree.DecisionTreeRegressor()\n",
    "tree2=tree.DecisionTreeRegressor()\n",
    "tree3=tree.DecisionTreeRegressor()\n",
    "tree4=tree.DecisionTreeRegressor()"
   ]
  },
  {
   "cell_type": "code",
   "execution_count": 27,
   "metadata": {},
   "outputs": [],
   "source": [
    "# Apply the cross validation for every cluster data | splitting the data\n",
    "\n",
    "X1_train,X1_test,y1_train,y1_test=train_test_split(X1,y1)\n",
    "X2_train,X2_test,y2_train,y2_test=train_test_split(X2,y2)\n",
    "X3_train,X3_test,y3_train,y3_test=train_test_split(X3,y3)\n",
    "X4_train,X4_test,y4_train,y4_test=train_test_split(X4,y4)"
   ]
  },
  {
   "cell_type": "code",
   "execution_count": 46,
   "metadata": {},
   "outputs": [
    {
     "data": {
      "text/plain": [
       "DecisionTreeRegressor(criterion='mse', max_depth=None, max_features=None,\n",
       "           max_leaf_nodes=None, min_impurity_decrease=0.0,\n",
       "           min_impurity_split=None, min_samples_leaf=1,\n",
       "           min_samples_split=2, min_weight_fraction_leaf=0.0,\n",
       "           presort=False, random_state=None, splitter='best')"
      ]
     },
     "execution_count": 46,
     "metadata": {},
     "output_type": "execute_result"
    }
   ],
   "source": [
    "# Fit the models\n",
    "\n",
    "tree1.fit(X1_train,y1_train)\n",
    "tree2.fit(X2_train,y2_train)\n",
    "tree3.fit(X3_train,y3_train)\n",
    "tree4.fit(X4_train,y4_train)"
   ]
  },
  {
   "cell_type": "code",
   "execution_count": 47,
   "metadata": {},
   "outputs": [],
   "source": [
    "# Test the models\n",
    "y1_pred=tree1.predict(X1_test)\n",
    "y2_pred=tree2.predict(X2_test)\n",
    "y3_pred=tree3.predict(X3_test)\n",
    "y4_pred=tree4.predict(X4_test)"
   ]
  },
  {
   "cell_type": "code",
   "execution_count": 48,
   "metadata": {},
   "outputs": [],
   "source": [
    "# Compute the RMSE\n",
    "error1=np.sqrt(mean_squared_error(y1_test, y1_pred))\n",
    "error2=np.sqrt(mean_squared_error(y2_test, y2_pred))\n",
    "error3=np.sqrt(mean_squared_error(y3_test, y3_pred))\n",
    "error4=np.sqrt(mean_squared_error(y4_test, y4_pred))"
   ]
  },
  {
   "cell_type": "code",
   "execution_count": 49,
   "metadata": {},
   "outputs": [
    {
     "name": "stdout",
     "output_type": "stream",
     "text": [
      "Error 1 18.81590006452243\n",
      "Error 2 18.893230126709707\n",
      "Error 3 20.531856531168522\n",
      "Error 4 20.58218511446298\n"
     ]
    }
   ],
   "source": [
    "print(\"Error 1\",error1)\n",
    "print(\"Error 2\",error2)\n",
    "print(\"Error 3\",error3)\n",
    "print(\"Error 4\",error4)"
   ]
  }
 ],
 "metadata": {
  "kernelspec": {
   "display_name": "Python|StatisticalML",
   "language": "python",
   "name": "statisticalml"
  },
  "language_info": {
   "codemirror_mode": {
    "name": "ipython",
    "version": 3
   },
   "file_extension": ".py",
   "mimetype": "text/x-python",
   "name": "python",
   "nbconvert_exporter": "python",
   "pygments_lexer": "ipython3",
   "version": "3.7.1"
  }
 },
 "nbformat": 4,
 "nbformat_minor": 2
}
