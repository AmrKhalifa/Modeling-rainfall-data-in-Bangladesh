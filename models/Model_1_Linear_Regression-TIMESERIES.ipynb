{
 "cells": [
  {
   "cell_type": "code",
   "execution_count": 201,
   "metadata": {},
   "outputs": [],
   "source": [
    "import numpy as np\n",
    "import pandas as pd\n",
    "import matplotlib.pyplot as plt \n",
    "from sklearn import linear_model\n",
    "from sklearn.model_selection import train_test_split\n",
    "from sklearn.metrics import mean_squared_error , mean_absolute_error\n",
    "\n",
    "############################################################################################\n",
    "from DataPreprocessing import DataPreprocessing\n",
    "from sklearn.preprocessing import MinMaxScaler\n",
    "\n",
    "\n",
    "from sklearn.metrics import r2_score, explained_variance_score"
   ]
  },
  {
   "cell_type": "code",
   "execution_count": 52,
   "metadata": {},
   "outputs": [],
   "source": [
    "# Loading The Data of clusters.\n",
    "cluster1=pd.read_csv('Data/cluster_1.csv')\n",
    "cluster2=pd.read_csv('Data/cluster_2.csv')\n",
    "cluster3=pd.read_csv('Data/cluster_3.csv')\n",
    "cluster4=pd.read_csv('Data/cluster_4.csv')\n",
    "cluster5=pd.read_csv('Data/cluster_5.csv')"
   ]
  },
  {
   "cell_type": "code",
   "execution_count": 53,
   "metadata": {},
   "outputs": [],
   "source": [
    "DP1 = DataPreprocessing()\n",
    "time_series_df1 = cluster1[[\"Rainfall\"]]\n",
    "\n",
    "DP2 = DataPreprocessing()\n",
    "time_series_df2 = cluster2[[\"Rainfall\"]]\n",
    "\n",
    "DP3 = DataPreprocessing()\n",
    "time_series_df3 = cluster3[[\"Rainfall\"]]\n",
    "\n",
    "DP4 = DataPreprocessing()\n",
    "time_series_df4 = cluster4[[\"Rainfall\"]]\n",
    "\n",
    "DP5 = DataPreprocessing()\n",
    "time_series_df5 = cluster5[[\"Rainfall\"]]"
   ]
  },
  {
   "cell_type": "code",
   "execution_count": 54,
   "metadata": {},
   "outputs": [],
   "source": [
    "X1, y1 = DP1.create_dataset_in_time_series_form(entire_dataframe=time_series_df1[['Rainfall']], time_series_column=\"Rainfall\", time_horizon=40)\n",
    "\n",
    "X2, y2 = DP2.create_dataset_in_time_series_form(entire_dataframe=time_series_df2[['Rainfall']], time_series_column=\"Rainfall\", time_horizon=40)\n",
    "\n",
    "X3, y3 = DP3.create_dataset_in_time_series_form(entire_dataframe=time_series_df3[['Rainfall']], time_series_column=\"Rainfall\", time_horizon=40)\n",
    "\n",
    "X4, y4 = DP4.create_dataset_in_time_series_form(entire_dataframe=time_series_df4[['Rainfall']], time_series_column=\"Rainfall\", time_horizon=40)\n",
    "\n",
    "X5, y5 = DP5.create_dataset_in_time_series_form(entire_dataframe=time_series_df5[['Rainfall']], time_series_column=\"Rainfall\", time_horizon=40)"
   ]
  },
  {
   "cell_type": "code",
   "execution_count": 171,
   "metadata": {},
   "outputs": [],
   "source": [
    "# Define linear model for every cluster\n",
    "\n",
    "linear_reg1 = linear_model.LinearRegression()\n",
    "linear_reg2 = linear_model.LinearRegression()\n",
    "linear_reg3 = linear_model.LinearRegression()\n",
    "linear_reg4 = linear_model.LinearRegression()\n",
    "linear_reg5 = linear_model.LinearRegression()"
   ]
  },
  {
   "cell_type": "code",
   "execution_count": 172,
   "metadata": {},
   "outputs": [],
   "source": [
    "# Apply the cross validation for every cluster data\n",
    "\n",
    "X1_train,X1_test,y1_train,y1_test=train_test_split(X1,y1,shuffle=False)\n",
    "X2_train,X2_test,y2_train,y2_test=train_test_split(X2,y2,shuffle=False)\n",
    "X3_train,X3_test,y3_train,y3_test=train_test_split(X3,y3,shuffle=False)\n",
    "X4_train,X4_test,y4_train,y4_test=train_test_split(X4,y4,shuffle=False)\n",
    "X5_train,X5_test,y5_train,y5_test=train_test_split(X5,y5,shuffle=False)"
   ]
  },
  {
   "cell_type": "code",
   "execution_count": 173,
   "metadata": {},
   "outputs": [
    {
     "name": "stderr",
     "output_type": "stream",
     "text": [
      "/home/waleed/CondaEnvironments/StatisticalML/lib/python3.6/site-packages/sklearn/utils/validation.py:595: DataConversionWarning: Data with input dtype int64 was converted to float64 by MinMaxScaler.\n",
      "  warnings.warn(msg, DataConversionWarning)\n",
      "/home/waleed/CondaEnvironments/StatisticalML/lib/python3.6/site-packages/sklearn/utils/validation.py:595: DataConversionWarning: Data with input dtype int64 was converted to float64 by MinMaxScaler.\n",
      "  warnings.warn(msg, DataConversionWarning)\n",
      "/home/waleed/CondaEnvironments/StatisticalML/lib/python3.6/site-packages/sklearn/utils/validation.py:595: DataConversionWarning: Data with input dtype int64 was converted to float64 by MinMaxScaler.\n",
      "  warnings.warn(msg, DataConversionWarning)\n",
      "/home/waleed/CondaEnvironments/StatisticalML/lib/python3.6/site-packages/sklearn/utils/validation.py:595: DataConversionWarning: Data with input dtype int64 was converted to float64 by MinMaxScaler.\n",
      "  warnings.warn(msg, DataConversionWarning)\n",
      "/home/waleed/CondaEnvironments/StatisticalML/lib/python3.6/site-packages/sklearn/utils/validation.py:595: DataConversionWarning: Data with input dtype int64 was converted to float64 by MinMaxScaler.\n",
      "  warnings.warn(msg, DataConversionWarning)\n",
      "/home/waleed/CondaEnvironments/StatisticalML/lib/python3.6/site-packages/sklearn/preprocessing/data.py:323: DataConversionWarning: Data with input dtype object were all converted to float64 by MinMaxScaler.\n",
      "  return self.partial_fit(X, y)\n",
      "/home/waleed/CondaEnvironments/StatisticalML/lib/python3.6/site-packages/sklearn/preprocessing/data.py:323: DataConversionWarning: Data with input dtype object were all converted to float64 by MinMaxScaler.\n",
      "  return self.partial_fit(X, y)\n",
      "/home/waleed/CondaEnvironments/StatisticalML/lib/python3.6/site-packages/sklearn/preprocessing/data.py:323: DataConversionWarning: Data with input dtype object were all converted to float64 by MinMaxScaler.\n",
      "  return self.partial_fit(X, y)\n",
      "/home/waleed/CondaEnvironments/StatisticalML/lib/python3.6/site-packages/sklearn/preprocessing/data.py:323: DataConversionWarning: Data with input dtype object were all converted to float64 by MinMaxScaler.\n",
      "  return self.partial_fit(X, y)\n",
      "/home/waleed/CondaEnvironments/StatisticalML/lib/python3.6/site-packages/sklearn/preprocessing/data.py:323: DataConversionWarning: Data with input dtype object were all converted to float64 by MinMaxScaler.\n",
      "  return self.partial_fit(X, y)\n"
     ]
    }
   ],
   "source": [
    "# Apply Min Max scaler\n",
    "\n",
    "scaler_X1 = MinMaxScaler()\n",
    "scaler_X2 = MinMaxScaler()\n",
    "scaler_X3 = MinMaxScaler()\n",
    "scaler_X4 = MinMaxScaler()\n",
    "scaler_X5 = MinMaxScaler()\n",
    "\n",
    "\n",
    "\n",
    "scaler_y1 = MinMaxScaler()\n",
    "scaler_y2 = MinMaxScaler()\n",
    "scaler_y3 = MinMaxScaler()\n",
    "scaler_y4 = MinMaxScaler()\n",
    "scaler_y5 = MinMaxScaler()\n",
    "\n",
    "# Transform the X\n",
    "\n",
    "scaler_X1.fit(X1_train)\n",
    "X1_train=scaler_X1.transform(X1_train)\n",
    "\n",
    "scaler_X2.fit(X2_train)\n",
    "X2_train=scaler_X2.transform(X2_train)\n",
    "\n",
    "scaler_X3.fit(X3_train)\n",
    "X3_train=scaler_X3.transform(X3_train)\n",
    "\n",
    "scaler_X4.fit(X4_train)\n",
    "X4_train=scaler_X4.transform(X4_train)\n",
    "\n",
    "scaler_X5.fit(X5_train)\n",
    "X5_train=scaler_X5.transform(X5_train)\n",
    "\n",
    "\n",
    "# Transform the y\n",
    "\n",
    "\n",
    "\n",
    "scaler_y1.fit(y1_train)\n",
    "y1_train=scaler_y1.transform(y1_train)\n",
    "\n",
    "scaler_y2.fit(y2_train)\n",
    "y2_train=scaler_y2.transform(y2_train)\n",
    "\n",
    "scaler_y3.fit(y3_train)\n",
    "y3_train=scaler_y3.transform(y3_train)\n",
    "\n",
    "scaler_y4.fit(y4_train)\n",
    "y4_train=scaler_y4.transform(y4_train)\n",
    "\n",
    "scaler_y5.fit(y5_train)\n",
    "y5_train=scaler_y5.transform(y5_train)\n",
    "\n",
    "\n"
   ]
  },
  {
   "cell_type": "code",
   "execution_count": 174,
   "metadata": {},
   "outputs": [
    {
     "data": {
      "text/plain": [
       "LinearRegression(copy_X=True, fit_intercept=True, n_jobs=None,\n",
       "         normalize=False)"
      ]
     },
     "execution_count": 174,
     "metadata": {},
     "output_type": "execute_result"
    }
   ],
   "source": [
    "# Fit the models\n",
    "linear_reg1.fit(X1_train,y1_train)\n",
    "linear_reg2.fit(X2_train,y2_train)\n",
    "linear_reg3.fit(X3_train,y3_train)\n",
    "linear_reg4.fit(X4_train,y4_train)\n",
    "linear_reg5.fit(X5_train,y5_train)"
   ]
  },
  {
   "cell_type": "markdown",
   "metadata": {},
   "source": [
    "# Evaluation and Plotting"
   ]
  },
  {
   "cell_type": "code",
   "execution_count": 175,
   "metadata": {},
   "outputs": [],
   "source": [
    "nb_rows1 = len(cluster1) \n",
    "test_index1 = round( 0.8 * nb_rows1) \n",
    "\n",
    "nb_rows2 = len(cluster2) \n",
    "test_index2 = round( 0.8 * nb_rows2) \n",
    "\n",
    "nb_rows3 = len(cluster3) \n",
    "test_index3 = round( 0.8 * nb_rows3) \n",
    "\n",
    "nb_rows4 = len(cluster4) \n",
    "test_index4 = round( 0.8 * nb_rows4) \n",
    "\n",
    "nb_rows5 = len(cluster5) \n",
    "test_index5 = round( 0.8 * nb_rows5) \n",
    "\n",
    "\n",
    "test_data_cluster1 = cluster1[test_index1:][['StationIndex' ,'Station','Year','Month' ,'Day','Rainfall']]\n",
    "\n",
    "test_data_cluster2 = cluster2[test_index2:][['StationIndex' ,'Station','Year','Month' ,'Day','Rainfall']]\n",
    "\n",
    "test_data_cluster3 = cluster3[test_index3:][['StationIndex' ,'Station','Year','Month' ,'Day','Rainfall']]\n",
    "\n",
    "\n",
    "test_data_cluster4 = cluster4[test_index4:][['StationIndex' ,'Station','Year','Month' ,'Day','Rainfall']]\n",
    "\n",
    "test_data_cluster5 = cluster5[test_index5:][['StationIndex' ,'Station','Year','Month' ,'Day','Rainfall']]\n"
   ]
  },
  {
   "cell_type": "code",
   "execution_count": 176,
   "metadata": {},
   "outputs": [],
   "source": [
    "single_station_from_cluster1 = test_data_cluster1[test_data_cluster1.Station == \"Dhaka\"]\n",
    "single_station_from_cluster2 = test_data_cluster2[test_data_cluster2.Station == \"Sylhet\"]\n",
    "single_station_from_cluster3 = test_data_cluster3[test_data_cluster3.Station == \"Bhola\"]\n",
    "single_station_from_cluster4 = test_data_cluster4[test_data_cluster4.Station == \"CoxsBazar\"]\n",
    "single_station_from_cluster5 = test_data_cluster5[test_data_cluster5.Station == \"Chittagong\"]"
   ]
  },
  {
   "cell_type": "code",
   "execution_count": 177,
   "metadata": {},
   "outputs": [],
   "source": [
    "X1_station_cluster1, y1_station_cluster1 = DP1.create_dataset_in_time_series_form(entire_dataframe=single_station_from_cluster1[['Rainfall']], time_series_column=\"Rainfall\", time_horizon=40)\n",
    "\n",
    "X2_station_cluster2, y2_station_cluster2 = DP2.create_dataset_in_time_series_form(entire_dataframe=single_station_from_cluster2[['Rainfall']], time_series_column=\"Rainfall\", time_horizon=40)\n",
    "\n",
    "X3_station_cluster3, y3_station_cluster3 = DP3.create_dataset_in_time_series_form(entire_dataframe=single_station_from_cluster3[['Rainfall']], time_series_column=\"Rainfall\", time_horizon=40)\n",
    "\n",
    "X4_station_cluster4, y4_station_cluster4 = DP4.create_dataset_in_time_series_form(entire_dataframe=single_station_from_cluster4[['Rainfall']], time_series_column=\"Rainfall\", time_horizon=40)\n",
    "\n",
    "X5_station_cluster5, y5_station_cluster5 = DP5.create_dataset_in_time_series_form(entire_dataframe=single_station_from_cluster5[['Rainfall']], time_series_column=\"Rainfall\", time_horizon=40)"
   ]
  },
  {
   "cell_type": "code",
   "execution_count": 178,
   "metadata": {},
   "outputs": [
    {
     "name": "stdout",
     "output_type": "stream",
     "text": [
      "Y_t_plus_1    122.0\n",
      "dtype: float64\n"
     ]
    }
   ],
   "source": [
    "print(y1_station_cluster1.max())"
   ]
  },
  {
   "cell_type": "markdown",
   "metadata": {},
   "source": [
    "## Apply Transformation for the test data"
   ]
  },
  {
   "cell_type": "code",
   "execution_count": 179,
   "metadata": {},
   "outputs": [],
   "source": [
    "X1_station_cluster1=scaler_X1.transform(X1_station_cluster1)\n",
    "\n",
    "X2_station_cluster2=scaler_X2.transform(X2_station_cluster2)\n",
    "\n",
    "X3_station_cluster3=scaler_X3.transform(X3_station_cluster3)\n",
    "\n",
    "X4_station_cluster4=scaler_X4.transform(X4_station_cluster4)\n",
    "\n",
    "X5_station_cluster5=scaler_X5.transform(X5_station_cluster5)\n",
    "\n",
    "\n",
    "\n",
    "y1_station_cluster1=scaler_y1.transform(y1_station_cluster1)\n",
    "\n",
    "y2_station_cluster2=scaler_y2.transform(y2_station_cluster2)\n",
    "\n",
    "y3_station_cluster3=scaler_y3.transform(y3_station_cluster3)\n",
    "\n",
    "y4_station_cluster4=scaler_y4.transform(y4_station_cluster4)\n",
    "\n",
    "y5_station_cluster5=scaler_y5.transform(y5_station_cluster5)"
   ]
  },
  {
   "cell_type": "code",
   "execution_count": 180,
   "metadata": {},
   "outputs": [
    {
     "name": "stdout",
     "output_type": "stream",
     "text": [
      "0.35777126099706746\n"
     ]
    }
   ],
   "source": [
    "print(y1_station_cluster1.max())"
   ]
  },
  {
   "cell_type": "code",
   "execution_count": 181,
   "metadata": {},
   "outputs": [],
   "source": [
    "# Test the models\n",
    "y1_pred_station_cluster1=linear_reg1.predict(X1_station_cluster1)\n",
    "y2_pred_station_cluster2=linear_reg1.predict(X2_station_cluster2)\n",
    "y3_pred_station_cluster3=linear_reg1.predict(X3_station_cluster3)\n",
    "y4_pred_station_cluster4=linear_reg1.predict(X4_station_cluster4)\n",
    "y5_pred_station_cluster5=linear_reg1.predict(X5_station_cluster5)"
   ]
  },
  {
   "cell_type": "code",
   "execution_count": 182,
   "metadata": {},
   "outputs": [],
   "source": [
    "mbe_error1=mean_absolute_error(y1_station_cluster1, y1_pred_station_cluster1)  \n",
    "mbe_error2=mean_absolute_error(y2_station_cluster2, y2_pred_station_cluster2) \n",
    "mbe_error3=mean_absolute_error(y3_station_cluster3, y3_pred_station_cluster3) \n",
    "mbe_error4=mean_absolute_error(y4_station_cluster4, y4_pred_station_cluster4) \n",
    "mbe_error5=mean_absolute_error(y5_station_cluster5, y5_pred_station_cluster5) "
   ]
  },
  {
   "cell_type": "code",
   "execution_count": 183,
   "metadata": {},
   "outputs": [],
   "source": [
    "# Compute the RMSE\n",
    "rmse_error1=np.sqrt(mean_squared_error(y1_station_cluster1, y1_pred_station_cluster1)  )\n",
    "rmse_error2=np.sqrt(mean_squared_error(y2_station_cluster2, y2_pred_station_cluster2)  )\n",
    "rmse_error3=np.sqrt(mean_squared_error(y3_station_cluster3, y3_pred_station_cluster3)  )\n",
    "rmse_error4=np.sqrt(mean_squared_error(y4_station_cluster4, y4_pred_station_cluster4)  )\n",
    "rmse_error5=np.sqrt(mean_squared_error(y5_station_cluster5, y5_pred_station_cluster5)  )"
   ]
  },
  {
   "cell_type": "code",
   "execution_count": 184,
   "metadata": {},
   "outputs": [
    {
     "name": "stdout",
     "output_type": "stream",
     "text": [
      "MBE Error 1:  0.01415632284422564\n",
      "MBE Error 2:  0.031069628201304423\n",
      "MBE Error 3:  0.017407118100539572\n",
      "MBE Error 4:  0.01805045827936897\n",
      "MBE Error 5:  0.020349466707348714\n"
     ]
    }
   ],
   "source": [
    "print(\"MBE Error 1: \",mbe_error1)\n",
    "print(\"MBE Error 2: \",mbe_error2)\n",
    "print(\"MBE Error 3: \",mbe_error3)\n",
    "print(\"MBE Error 4: \",mbe_error4)\n",
    "print(\"MBE Error 5: \",mbe_error5)"
   ]
  },
  {
   "cell_type": "code",
   "execution_count": 185,
   "metadata": {},
   "outputs": [
    {
     "name": "stdout",
     "output_type": "stream",
     "text": [
      "RMSE Error 1:  0.02854537859580047\n",
      "RMSE Error 2:  0.060553390517664715\n",
      "RMSE Error 3:  0.03779359496608004\n",
      "RMSE Error 4:  0.04278061347421939\n",
      "RMSE Error 5:  0.04850811073733173\n"
     ]
    }
   ],
   "source": [
    "print(\"RMSE Error 1: \",rmse_error1)\n",
    "print(\"RMSE Error 2: \",rmse_error2)\n",
    "print(\"RMSE Error 3: \",rmse_error3)\n",
    "print(\"RMSE Error 4: \",rmse_error4)\n",
    "print(\"RMSE Error 5: \",rmse_error5)"
   ]
  },
  {
   "cell_type": "code",
   "execution_count": 186,
   "metadata": {},
   "outputs": [],
   "source": [
    "# scaler_y2.data_max_"
   ]
  },
  {
   "cell_type": "code",
   "execution_count": 187,
   "metadata": {},
   "outputs": [],
   "source": [
    "max_y1=scaler_y1.data_max_\n",
    "max_y2=scaler_y2.data_max_\n",
    "max_y3=scaler_y3.data_max_\n",
    "max_y4=scaler_y4.data_max_\n",
    "max_y5=scaler_y5.data_max_\n",
    "\n",
    "y1_station_cluster1=max_y1*y1_station_cluster1\n",
    "y1_pred_station_cluster1=max_y1*y1_pred_station_cluster1\n",
    "\n",
    "\n",
    "y2_station_cluster2=max_y2*y2_station_cluster2\n",
    "y2_pred_station_cluster2=max_y2*y2_pred_station_cluster2\n",
    "\n",
    "y3_station_cluster3=max_y3*y3_station_cluster3\n",
    "y3_pred_station_cluster3=max_y3*y3_pred_station_cluster3\n",
    "\n",
    "\n",
    "y4_station_cluster4=max_y4*y4_station_cluster4\n",
    "y4_pred_station_cluster4=max_y4*y4_pred_station_cluster4\n",
    "\n",
    "y5_station_cluster5=max_y5*y5_station_cluster5\n",
    "y5_pred_station_cluster5=max_y5*y5_pred_station_cluster5\n",
    "\n",
    "\n",
    "\n"
   ]
  },
  {
   "cell_type": "code",
   "execution_count": 199,
   "metadata": {},
   "outputs": [],
   "source": [
    "# Compute the RMSE\n",
    "rmse_error1=np.sqrt(mean_squared_error(y1_station_cluster1, y1_pred_station_cluster1)  )\n",
    "rmse_error2=np.sqrt(mean_squared_error(y2_station_cluster2, y2_pred_station_cluster2)  )\n",
    "rmse_error3=np.sqrt(mean_squared_error(y3_station_cluster3, y3_pred_station_cluster3)  )\n",
    "rmse_error4=np.sqrt(mean_squared_error(y4_station_cluster4, y4_pred_station_cluster4)  )\n",
    "rmse_error5=np.sqrt(mean_squared_error(y5_station_cluster5, y5_pred_station_cluster5)  )"
   ]
  },
  {
   "cell_type": "code",
   "execution_count": 206,
   "metadata": {},
   "outputs": [
    {
     "name": "stdout",
     "output_type": "stream",
     "text": [
      "RMSE Error 1:  9.733974101167961\n",
      "RMSE Error 2:  21.920327367394627\n",
      "RMSE Error 3:  15.873309885753617\n",
      "RMSE Error 4:  25.24056194978944\n",
      "RMSE Error 5:  22.459255271384585\n"
     ]
    },
    {
     "data": {
      "text/plain": [
       "19.045485715098046"
      ]
     },
     "execution_count": 206,
     "metadata": {},
     "output_type": "execute_result"
    }
   ],
   "source": [
    "print(\"RMSE Error 1: \",rmse_error1)\n",
    "print(\"RMSE Error 2: \",rmse_error2)\n",
    "print(\"RMSE Error 3: \",rmse_error3)\n",
    "print(\"RMSE Error 4: \",rmse_error4)\n",
    "print(\"RMSE Error 5: \",rmse_error5)\n",
    "\n",
    "np.mean([ 9.733974101167961,21.920327367394627,15.873309885753617,25.24056194978944,22.459255271384585])"
   ]
  },
  {
   "cell_type": "code",
   "execution_count": 205,
   "metadata": {},
   "outputs": [
    {
     "name": "stdout",
     "output_type": "stream",
     "text": [
      "R2 Error 1:  0.3436250856633103\n",
      "R2  Error 2:  0.16524759418383583\n",
      "R2  Error 3:  0.17180838862104097\n",
      "R2  Error 4:  0.28940098285252425\n",
      "R2  Error 5:  0.26896006116338744\n",
      "EV1 Error 1:  0.34366157149201815\n",
      "EV2 Error 2:  0.1660870471016389\n",
      "EV3 Error 3:  0.17181510358235097\n",
      "EV4 Error 4:  0.28940184668502533\n",
      "EV5 Error 5:  0.2689799660429518\n",
      "0.24780842249681978\n",
      "0.24798910698079704\n"
     ]
    }
   ],
   "source": [
    "R21=r2_score(y1_station_cluster1, y1_pred_station_cluster1)  \n",
    "R22=r2_score(y2_station_cluster2, y2_pred_station_cluster2)  \n",
    "R23=r2_score(y3_station_cluster3, y3_pred_station_cluster3)  \n",
    "R24=r2_score(y4_station_cluster4, y4_pred_station_cluster4)  \n",
    "R25=r2_score(y5_station_cluster5, y5_pred_station_cluster5) \n",
    "\n",
    "\n",
    "EV1=explained_variance_score(y1_station_cluster1, y1_pred_station_cluster1)  \n",
    "EV2=explained_variance_score(y2_station_cluster2, y2_pred_station_cluster2)  \n",
    "EV3=explained_variance_score(y3_station_cluster3, y3_pred_station_cluster3)  \n",
    "EV4=explained_variance_score(y4_station_cluster4, y4_pred_station_cluster4)  \n",
    "EV5=explained_variance_score(y5_station_cluster5, y5_pred_station_cluster5)  \n",
    "\n",
    "\n",
    "print(\"R2 Error 1: \",R21)\n",
    "print(\"R2  Error 2: \",R22)\n",
    "print(\"R2  Error 3: \",R23)\n",
    "print(\"R2  Error 4: \",R24)\n",
    "print(\"R2  Error 5: \",R25)\n",
    "\n",
    "\n",
    "\n",
    "\n",
    "\n",
    "print(\"EV1 Error 1: \",EV1)\n",
    "print(\"EV2 Error 2: \",EV2)\n",
    "print(\"EV3 Error 3: \",EV3)\n",
    "print(\"EV4 Error 4: \",EV4)\n",
    "print(\"EV5 Error 5: \",EV5)\n",
    "\n",
    "\n",
    "\n",
    "print(np.mean([R21,R22,R23,R24,R25]))\n",
    "\n",
    "print(np.mean([EV1,EV2,EV3,EV4,EV5]))\n",
    "\n",
    "# r2 = r2_score(test_df[\"Rainfall\"], y_pred)\n",
    "# ev = explained_variance_score(test_df[\"Rainfall\"], y_pred)\n",
    "\n",
    "# print(\"R2 : \", r2, \" - EV : \", ev)"
   ]
  },
  {
   "cell_type": "code",
   "execution_count": 188,
   "metadata": {},
   "outputs": [
    {
     "name": "stdout",
     "output_type": "stream",
     "text": [
      "0.35777126099706746\n"
     ]
    }
   ],
   "source": [
    "\n",
    "\n",
    "print(y1_station_cluster_y1.max())"
   ]
  },
  {
   "cell_type": "markdown",
   "metadata": {},
   "source": [
    "## 2- Plot"
   ]
  },
  {
   "cell_type": "code",
   "execution_count": 194,
   "metadata": {},
   "outputs": [
    {
     "data": {
      "image/png": "[encoded data removed]",
      "text/plain": [
       "<Figure size 432x288 with 1 Axes>"
      ]
     },
     "metadata": {
      "needs_background": "light"
     },
     "output_type": "display_data"
    }
   ],
   "source": [
    "y1_station_cluster1 = np.array(y1_station_cluster1)\n",
    "plt.plot(y1_station_cluster1,label='True value')\n",
    "# plt.figure()\n",
    "plt.plot(y1_pred_station_cluster1,label='Predicted value')\n",
    "\n",
    "plt.legend()\n",
    "\n",
    "plt.savefig('Plots/linear_regression_cluster_1_prediction_TIMESERIES.svg',format='svg')"
   ]
  },
  {
   "cell_type": "code",
   "execution_count": 195,
   "metadata": {},
   "outputs": [
    {
     "data": {
      "image/png": "[encoded data removed]",
      "text/plain": [
       "<Figure size 432x288 with 1 Axes>"
      ]
     },
     "metadata": {
      "needs_background": "light"
     },
     "output_type": "display_data"
    }
   ],
   "source": [
    "y2_station_cluster2 = np.array(y2_station_cluster2)\n",
    "plt.plot(y2_station_cluster2,label='True value')\n",
    "# plt.figure()\n",
    "plt.plot(y2_pred_station_cluster2,label='Predicted value')\n",
    "\n",
    "plt.legend()\n",
    "\n",
    "plt.savefig('Plots/linear_regression_cluster_2_prediction_TIMESERIES.svg',format='svg')"
   ]
  },
  {
   "cell_type": "code",
   "execution_count": 196,
   "metadata": {},
   "outputs": [
    {
     "data": {
      "image/png": "[encoded data removed]",
      "text/plain": [
       "<Figure size 432x288 with 1 Axes>"
      ]
     },
     "metadata": {
      "needs_background": "light"
     },
     "output_type": "display_data"
    }
   ],
   "source": [
    "y3_station_cluster3 = np.array(y3_station_cluster3)\n",
    "plt.plot(y3_station_cluster3,label='True value')\n",
    "# plt.figure()\n",
    "plt.plot(y3_pred_station_cluster3,label='Predicted value')\n",
    "\n",
    "plt.legend()\n",
    "\n",
    "\n",
    "plt.savefig('Plots/linear_regression_cluster_3_prediction_TIMESERIES.svg',format='svg')"
   ]
  },
  {
   "cell_type": "code",
   "execution_count": 197,
   "metadata": {},
   "outputs": [
    {
     "data": {
      "image/png": "[encoded data removed]",
      "text/plain": [
       "<Figure size 432x288 with 1 Axes>"
      ]
     },
     "metadata": {
      "needs_background": "light"
     },
     "output_type": "display_data"
    }
   ],
   "source": [
    "y4_station_cluster4 = np.array(y4_station_cluster4)\n",
    "plt.plot(y4_station_cluster4,label='True value')\n",
    "# plt.figure()\n",
    "plt.plot(y4_pred_station_cluster4,label='Predicted value')\n",
    "\n",
    "\n",
    "plt.legend()\n",
    "\n",
    "\n",
    "plt.savefig('Plots/linear_regression_cluster_4_prediction_TIMESERIES.svg',format='svg')"
   ]
  },
  {
   "cell_type": "code",
   "execution_count": 198,
   "metadata": {},
   "outputs": [
    {
     "data": {
      "image/png": "[encoded data removed]",
      "text/plain": [
       "<Figure size 432x288 with 1 Axes>"
      ]
     },
     "metadata": {
      "needs_background": "light"
     },
     "output_type": "display_data"
    }
   ],
   "source": [
    "y5_station_cluster5 = np.array(y5_station_cluster5)\n",
    "plt.plot(y5_station_cluster5,label='True value')\n",
    "# plt.figure()\n",
    "plt.plot(y5_pred_station_cluster5,label='Predicted value')\n",
    "\n",
    "\n",
    "plt.legend()\n",
    "\n",
    "\n",
    "plt.savefig('Plots/linear_regression_cluster_5_prediction_TIMESERIES.svg',format='svg')"
   ]
  },
  {
   "cell_type": "code",
   "execution_count": null,
   "metadata": {},
   "outputs": [],
   "source": [
    "save1=np.hstack((y1_test.reshape(-1,1),y1_pred.reshape(-1,1)))\n",
    "save2=np.hstack((y2_test.reshape(-1,1),y2_pred.reshape(-1,1)))\n",
    "save3=np.hstack((y3_test.reshape(-1,1),y3_pred.reshape(-1,1)))\n",
    "save4=np.hstack((y4_test.reshape(-1,1),y4_pred.reshape(-1,1)))\n",
    "save5=np.hstack((y5_test.reshape(-1,1),y5_pred.reshape(-1,1)))\n",
    "\n",
    "\n",
    "np.savetxt('Results/linear_regression_results_cluster_1_TIMESERIES.csv',save1,delimiter=',')\n",
    "np.savetxt('Results/linear_regression_results_cluster_2_TIMESERIES.csv',save2,delimiter=',')\n",
    "np.savetxt('Results/linear_regression_results_cluster_3_TIMESERIES.csv',save3,delimiter=',')\n",
    "np.savetxt('Results/linear_regression_results_cluster_4_TIMESERIES.csv',save4,delimiter=',')\n",
    "np.savetxt('Results/linear_regression_results_cluster_5_TIMESERIES.csv',save5,delimiter=',')"
   ]
  },
  {
   "cell_type": "code",
   "execution_count": null,
   "metadata": {},
   "outputs": [],
   "source": []
  }
 ],
 "metadata": {
  "kernelspec": {
   "display_name": "Python|StatisticalML",
   "language": "python",
   "name": "statisticalml"
  },
  "language_info": {
   "codemirror_mode": {
    "name": "ipython",
    "version": 3
   },
   "file_extension": ".py",
   "mimetype": "text/x-python",
   "name": "python",
   "nbconvert_exporter": "python",
   "pygments_lexer": "ipython3",
   "version": "3.6.7"
  }
 },
 "nbformat": 4,
 "nbformat_minor": 2
}
