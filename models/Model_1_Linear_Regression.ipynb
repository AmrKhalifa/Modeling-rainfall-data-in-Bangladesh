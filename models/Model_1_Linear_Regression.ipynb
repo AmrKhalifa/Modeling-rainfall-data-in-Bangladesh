{
 "cells": [
  {
   "cell_type": "code",
   "execution_count": 1,
   "metadata": {},
   "outputs": [],
   "source": [
    "import numpy as np\n",
    "import pandas as pd\n",
    "import matplotlib.pyplot as plt \n",
    "from sklearn import linear_model\n",
    "from sklearn.model_selection import train_test_split\n",
    "from sklearn.metrics import mean_squared_error"
   ]
  },
  {
   "cell_type": "code",
   "execution_count": 4,
   "metadata": {},
   "outputs": [],
   "source": [
    "# Loading The Data of clusters.\n",
    "cluster1=pd.read_csv('../clustered_data/cluster1_v2.csv')\n",
    "cluster2=pd.read_csv('../clustered_data/cluster2_v2.csv')\n",
    "cluster3=pd.read_csv('../clustered_data/cluster3_v2.csv')\n",
    "cluster4=pd.read_csv('../clustered_data/cluster4_v2.csv')"
   ]
  },
  {
   "cell_type": "code",
   "execution_count": 5,
   "metadata": {},
   "outputs": [],
   "source": [
    "# Xn will contain 'Year, Month, Day, Cluster'\n",
    "\n",
    "X1=cluster1.values[:,1:5]\n",
    "X2=cluster2.values[:,1:5]\n",
    "X3=cluster3.values[:,1:5]\n",
    "X4=cluster4.values[:,1:5]\n",
    "\n",
    "# y will contain 'Rainfall'\n",
    "\n",
    "y1=cluster1.values[:,5]\n",
    "y2=cluster2.values[:,5]\n",
    "y3=cluster3.values[:,5]\n",
    "y4=cluster4.values[:,5]"
   ]
  },
  {
   "cell_type": "code",
   "execution_count": 6,
   "metadata": {},
   "outputs": [],
   "source": [
    "# Define linear model for every cluster\n",
    "\n",
    "linear_reg1 = linear_model.LinearRegression()\n",
    "linear_reg2 = linear_model.LinearRegression()\n",
    "linear_reg3 = linear_model.LinearRegression()\n",
    "linear_reg4 = linear_model.LinearRegression()"
   ]
  },
  {
   "cell_type": "code",
   "execution_count": 7,
   "metadata": {},
   "outputs": [],
   "source": [
    "# Apply the cross validation for every cluster data\n",
    "\n",
    "X1_train,X1_test,y1_train,y1_test=train_test_split(X1,y1)\n",
    "X2_train,X2_test,y2_train,y2_test=train_test_split(X2,y2)\n",
    "X3_train,X3_test,y3_train,y3_test=train_test_split(X3,y3)\n",
    "X4_train,X4_test,y4_train,y4_test=train_test_split(X4,y4)"
   ]
  },
  {
   "cell_type": "code",
   "execution_count": 8,
   "metadata": {},
   "outputs": [
    {
     "data": {
      "text/plain": [
       "LinearRegression(copy_X=True, fit_intercept=True, n_jobs=1, normalize=False)"
      ]
     },
     "execution_count": 8,
     "metadata": {},
     "output_type": "execute_result"
    }
   ],
   "source": [
    "# Fit the models\n",
    "linear_reg1.fit(X1_train,y1_train)\n",
    "linear_reg2.fit(X2_train,y2_train)\n",
    "linear_reg3.fit(X3_train,y3_train)\n",
    "linear_reg4.fit(X4_train,y4_train)"
   ]
  },
  {
   "cell_type": "code",
   "execution_count": 14,
   "metadata": {},
   "outputs": [
    {
     "data": {
      "image/png": "[encoded data removed]",
      "text/plain": [
       "<matplotlib.figure.Figure at 0x7fcd9581a240>"
      ]
     },
     "metadata": {
      "needs_background": "light"
     },
     "output_type": "display_data"
    }
   ],
   "source": []
  },
  {
   "cell_type": "code",
   "execution_count": 9,
   "metadata": {},
   "outputs": [],
   "source": [
    "# Test the models\n",
    "y1_pred=linear_reg1.predict(X1_test)\n",
    "y2_pred=linear_reg1.predict(X2_test)\n",
    "y3_pred=linear_reg1.predict(X3_test)\n",
    "y4_pred=linear_reg1.predict(X4_test)"
   ]
  },
  {
   "cell_type": "code",
   "execution_count": 10,
   "metadata": {},
   "outputs": [],
   "source": [
    "# Compute the RMSE\n",
    "error1=np.sqrt(mean_squared_error(y1_test, y1_pred))\n",
    "error2=np.sqrt(mean_squared_error(y2_test, y2_pred))\n",
    "error3=np.sqrt(mean_squared_error(y3_test, y3_pred))\n",
    "error4=np.sqrt(mean_squared_error(y4_test, y4_pred))"
   ]
  },
  {
   "cell_type": "code",
   "execution_count": 11,
   "metadata": {},
   "outputs": [
    {
     "name": "stdout",
     "output_type": "stream",
     "text": [
      "Error 1 19.572655272500132\n",
      "Error 2 18.312813554883448\n",
      "Error 3 20.182314516564034\n",
      "Error 4 19.894270775037647\n"
     ]
    }
   ],
   "source": [
    "print(\"Error 1\",error1)\n",
    "print(\"Error 2\",error2)\n",
    "print(\"Error 3\",error3)\n",
    "print(\"Error 4\",error4)"
   ]
  },
  {
   "cell_type": "code",
   "execution_count": null,
   "metadata": {},
   "outputs": [],
   "source": []
  }
 ],
 "metadata": {
  "kernelspec": {
   "display_name": "Python 3",
   "language": "python",
   "name": "python3"
  },
  "language_info": {
   "codemirror_mode": {
    "name": "ipython",
    "version": 3
   },
   "file_extension": ".py",
   "mimetype": "text/x-python",
   "name": "python",
   "nbconvert_exporter": "python",
   "pygments_lexer": "ipython3",
   "version": "3.5.3"
  }
 },
 "nbformat": 4,
 "nbformat_minor": 2
}
