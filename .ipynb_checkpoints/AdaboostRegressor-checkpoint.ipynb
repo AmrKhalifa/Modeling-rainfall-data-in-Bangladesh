{
 "cells": [
  {
   "cell_type": "code",
   "execution_count": 47,
   "metadata": {},
   "outputs": [],
   "source": [
    "# import library\n",
    "import numpy as np\n",
    "import csv\n",
    "import matplotlib.pyplot as plt\n",
    "from math import pi\n",
    "\n",
    "import pandas as pd\n",
    "\n",
    "from sklearn.model_selection import train_test_split\n",
    "from sklearn import datasets\n",
    "from sklearn import svm\n",
    "from sklearn.model_selection import cross_val_score\n",
    "import sys\n",
    "\n",
    "if not sys.warnoptions:\n",
    "    import warnings\n",
    "    warnings.simplefilter(\"ignore\")\n",
    "    \n",
    "from sklearn.ensemble import AdaBoostRegressor\n",
    "from sklearn import metrics\n",
    "import time"
   ]
  },
  {
   "cell_type": "code",
   "execution_count": 2,
   "metadata": {},
   "outputs": [],
   "source": [
    "#IMPORTANT : import the DataPreprocessing class\n",
    "from DataPreprocessing import DataPreprocessing"
   ]
  },
  {
   "cell_type": "code",
   "execution_count": 5,
   "metadata": {},
   "outputs": [],
   "source": [
    "cluster1=pd.read_csv('./clustered_data/cluster_1.csv').sort_values(['Year', 'Month', 'Day'], ascending=[True, True,True])\n",
    "cluster2=pd.read_csv('./clustered_data/cluster_2.csv').sort_values(['Year', 'Month', 'Day'], ascending=[True, True,True])\n",
    "cluster3=pd.read_csv('./clustered_data/cluster_3.csv').sort_values(['Year', 'Month', 'Day'], ascending=[True, True,True])\n",
    "cluster4=pd.read_csv('./clustered_data/cluster_4.csv').sort_values(['Year', 'Month', 'Day'], ascending=[True, True,True])\n",
    "cluster5=pd.read_csv('./clustered_data/cluster_5.csv').sort_values(['Year', 'Month', 'Day'], ascending=[True, True,True])"
   ]
  },
  {
   "cell_type": "code",
   "execution_count": 6,
   "metadata": {},
   "outputs": [],
   "source": [
    "#Data preprocessing\n",
    "DP = DataPreprocessing()"
   ]
  },
  {
   "cell_type": "code",
   "execution_count": 7,
   "metadata": {},
   "outputs": [],
   "source": [
    "#We will only use the \"Rainfall\" column\n",
    "time_series_df1 = cluster1[[\"Rainfall\"]]\n",
    "time_series_df2 = cluster2[[\"Rainfall\"]]\n",
    "time_series_df3 = cluster3[[\"Rainfall\"]]\n",
    "time_series_df4 = cluster4[[\"Rainfall\"]]\n",
    "time_series_df5 = cluster5[[\"Rainfall\"]]"
   ]
  },
  {
   "cell_type": "code",
   "execution_count": 8,
   "metadata": {},
   "outputs": [],
   "source": [
    "#We need to specify the column that corresponds to the time series (Rainfall) and the time horizon (40)\n",
    "X1, y1 = DP.create_dataset_in_time_series_form(entire_dataframe=time_series_df1, time_series_column=\"Rainfall\", time_horizon=40)\n",
    "X2, y2 = DP.create_dataset_in_time_series_form(entire_dataframe=time_series_df2, time_series_column=\"Rainfall\", time_horizon=40)\n",
    "X3, y3 = DP.create_dataset_in_time_series_form(entire_dataframe=time_series_df3, time_series_column=\"Rainfall\", time_horizon=40)\n",
    "X4, y4 = DP.create_dataset_in_time_series_form(entire_dataframe=time_series_df4, time_series_column=\"Rainfall\", time_horizon=40)\n",
    "X5, y5 = DP.create_dataset_in_time_series_form(entire_dataframe=time_series_df5, time_series_column=\"Rainfall\", time_horizon=40)"
   ]
  },
  {
   "cell_type": "markdown",
   "metadata": {},
   "source": [
    "# split data in training, validation and  testing data.\n",
    "90% for training data\n",
    "\n",
    "20% for testing data"
   ]
  },
  {
   "cell_type": "code",
   "execution_count": 24,
   "metadata": {},
   "outputs": [],
   "source": [
    "Xtrain1,Xtest1, ytrain1, ytest1 = train_test_split(X1, y1,test_size=0.2 )\n",
    "Xtrain2,Xtest2, ytrain2, ytest2 = train_test_split(X2, y2,test_size=0.2 )\n",
    "Xtrain3,Xtest3, ytrain3, ytest3 = train_test_split(X3, y3,test_size=0.2 )\n",
    "Xtrain4,Xtest4, ytrain4, ytest4 = train_test_split(X4, y4,test_size=0.2 )\n",
    "Xtrain5,Xtest5, ytrain5, ytest5 = train_test_split(X5, y5,test_size=0.2 )"
   ]
  },
  {
   "cell_type": "code",
   "execution_count": 17,
   "metadata": {},
   "outputs": [
    {
     "name": "stdout",
     "output_type": "stream",
     "text": [
      "Fitting 2 folds for each of 30 candidates, totalling 60 fits\n",
      "[CV] learning_rate=0.01, loss=linear, n_estimators=50 ................\n",
      "[CV] learning_rate=0.01, loss=linear, n_estimators=50 ................\n",
      "[CV] learning_rate=0.01, loss=linear, n_estimators=100 ...............\n",
      "[CV] learning_rate=0.01, loss=linear, n_estimators=100 ...............\n",
      "[CV] learning_rate=0.01, loss=square, n_estimators=50 ................\n",
      "[CV] learning_rate=0.01, loss=square, n_estimators=50 ................\n",
      "[CV] learning_rate=0.01, loss=square, n_estimators=100 ...............\n",
      "[CV] learning_rate=0.01, loss=square, n_estimators=100 ...............\n",
      "[CV] ....... learning_rate=0.01, loss=linear, n_estimators=50 -   1.0s\n",
      "[CV] learning_rate=0.01, loss=exponential, n_estimators=50 ...........\n",
      "[CV] ....... learning_rate=0.01, loss=linear, n_estimators=50 -   1.0s\n",
      "[CV] learning_rate=0.01, loss=exponential, n_estimators=50 ...........\n",
      "[CV] ....... learning_rate=0.01, loss=square, n_estimators=50 -   0.9s\n",
      "[CV] learning_rate=0.01, loss=exponential, n_estimators=100 ..........\n",
      "[CV] ....... learning_rate=0.01, loss=square, n_estimators=50 -   1.0s\n",
      "[CV] learning_rate=0.01, loss=exponential, n_estimators=100 ..........\n",
      "[CV] ...... learning_rate=0.01, loss=square, n_estimators=100 -   2.1s\n",
      "[CV] learning_rate=0.05, loss=linear, n_estimators=50 ................\n",
      "[CV] .. learning_rate=0.01, loss=exponential, n_estimators=50 -   1.2s\n",
      "[CV] learning_rate=0.05, loss=linear, n_estimators=50 ................\n",
      "[CV] .. learning_rate=0.01, loss=exponential, n_estimators=50 -   1.1s\n",
      "[CV] learning_rate=0.05, loss=linear, n_estimators=100 ...............\n",
      "[CV] ...... learning_rate=0.01, loss=linear, n_estimators=100 -   2.4s\n",
      "[CV] learning_rate=0.05, loss=linear, n_estimators=100 ...............\n",
      "[CV] ...... learning_rate=0.01, loss=square, n_estimators=100 -   2.3s\n",
      "[CV] learning_rate=0.05, loss=square, n_estimators=50 ................\n",
      "[CV] ...... learning_rate=0.01, loss=linear, n_estimators=100 -   2.8s\n",
      "[CV] learning_rate=0.05, loss=square, n_estimators=50 ................\n",
      "[CV] ....... learning_rate=0.05, loss=linear, n_estimators=50 -   0.9s\n",
      "[CV] learning_rate=0.05, loss=square, n_estimators=100 ...............\n",
      "[CV] ....... learning_rate=0.05, loss=linear, n_estimators=50 -   0.9s\n",
      "[CV] learning_rate=0.05, loss=square, n_estimators=100 ...............\n",
      "[CV] . learning_rate=0.01, loss=exponential, n_estimators=100 -   2.0s\n",
      "[CV] learning_rate=0.05, loss=exponential, n_estimators=50 ...........\n",
      "[CV] ....... learning_rate=0.05, loss=square, n_estimators=50 -   0.9s\n",
      "[CV] learning_rate=0.05, loss=exponential, n_estimators=50 ...........\n",
      "[CV] ....... learning_rate=0.05, loss=square, n_estimators=50 -   1.0s\n",
      "[CV] learning_rate=0.05, loss=exponential, n_estimators=100 ..........\n",
      "[CV] . learning_rate=0.01, loss=exponential, n_estimators=100 -   2.3s\n",
      "[CV] learning_rate=0.05, loss=exponential, n_estimators=100 ..........\n",
      "[CV] .. learning_rate=0.05, loss=exponential, n_estimators=50 -   3.7s\n",
      "[CV] learning_rate=0.1, loss=linear, n_estimators=50 .................\n",
      "[CV] .. learning_rate=0.05, loss=exponential, n_estimators=50 -   2.8s\n",
      "[CV] learning_rate=0.1, loss=linear, n_estimators=50 .................\n",
      "[CV] ...... learning_rate=0.05, loss=linear, n_estimators=100 -   6.6s\n",
      "[CV] learning_rate=0.1, loss=linear, n_estimators=100 ................\n",
      "[CV] ...... learning_rate=0.05, loss=linear, n_estimators=100 -   3.0s\n",
      "[CV] learning_rate=0.1, loss=linear, n_estimators=100 ................\n",
      "[CV] ...... learning_rate=0.05, loss=square, n_estimators=100 -   2.0s\n",
      "[CV] learning_rate=0.1, loss=square, n_estimators=50 .................\n",
      "[CV] ...... learning_rate=0.05, loss=square, n_estimators=100 -   2.0s\n",
      "[CV] learning_rate=0.1, loss=square, n_estimators=50 .................\n",
      "[CV] ........ learning_rate=0.1, loss=linear, n_estimators=50 -   1.0s\n",
      "[CV] learning_rate=0.1, loss=square, n_estimators=100 ................\n",
      "[CV] ........ learning_rate=0.1, loss=linear, n_estimators=50 -   0.9s\n",
      "[CV] learning_rate=0.1, loss=square, n_estimators=100 ................\n",
      "[CV] . learning_rate=0.05, loss=exponential, n_estimators=100 -   1.8s\n",
      "[CV] learning_rate=0.1, loss=exponential, n_estimators=50 ............\n"
     ]
    },
    {
     "name": "stderr",
     "output_type": "stream",
     "text": [
      "[Parallel(n_jobs=-1)]: Done  25 tasks      | elapsed:  2.7min\n"
     ]
    },
    {
     "name": "stdout",
     "output_type": "stream",
     "text": [
      "[CV] . learning_rate=0.05, loss=exponential, n_estimators=100 -   2.2s\n",
      "[CV] learning_rate=0.1, loss=exponential, n_estimators=50 ............\n",
      "[CV] ........ learning_rate=0.1, loss=square, n_estimators=50 -   1.0s\n",
      "[CV] learning_rate=0.1, loss=exponential, n_estimators=100 ...........\n",
      "[CV] ........ learning_rate=0.1, loss=square, n_estimators=50 -   0.9s\n",
      "[CV] learning_rate=0.1, loss=exponential, n_estimators=100 ...........\n",
      "[CV] ... learning_rate=0.1, loss=exponential, n_estimators=50 -   1.3s\n",
      "[CV] learning_rate=0.3, loss=linear, n_estimators=50 .................\n",
      "[CV] ... learning_rate=0.1, loss=exponential, n_estimators=50 -   1.9s\n",
      "[CV] learning_rate=0.3, loss=linear, n_estimators=50 .................\n",
      "[CV] ....... learning_rate=0.1, loss=linear, n_estimators=100 -   6.8s\n",
      "[CV] learning_rate=0.3, loss=linear, n_estimators=100 ................\n",
      "[CV] ....... learning_rate=0.1, loss=linear, n_estimators=100 -   2.3s\n",
      "[CV] learning_rate=0.3, loss=linear, n_estimators=100 ................\n",
      "[CV] ....... learning_rate=0.1, loss=square, n_estimators=100 -   2.1s\n",
      "[CV] learning_rate=0.3, loss=square, n_estimators=50 .................\n",
      "[CV] ........ learning_rate=0.3, loss=linear, n_estimators=50 -   0.9s\n",
      "[CV] learning_rate=0.3, loss=square, n_estimators=50 .................\n",
      "[CV] ....... learning_rate=0.1, loss=square, n_estimators=100 -   2.0s\n",
      "[CV] learning_rate=0.3, loss=square, n_estimators=100 ................\n",
      "[CV] ........ learning_rate=0.3, loss=linear, n_estimators=50 -   0.9s\n",
      "[CV] learning_rate=0.3, loss=square, n_estimators=100 ................\n",
      "[CV] .. learning_rate=0.1, loss=exponential, n_estimators=100 -   2.1s\n",
      "[CV] learning_rate=0.3, loss=exponential, n_estimators=50 ............\n",
      "[CV] .. learning_rate=0.1, loss=exponential, n_estimators=100 -   1.9s\n",
      "[CV] learning_rate=0.3, loss=exponential, n_estimators=50 ............\n",
      "[CV] ........ learning_rate=0.3, loss=square, n_estimators=50 -   0.9s\n",
      "[CV] learning_rate=0.3, loss=exponential, n_estimators=100 ...........\n",
      "[CV] ........ learning_rate=0.3, loss=square, n_estimators=50 -   1.0s\n",
      "[CV] learning_rate=0.3, loss=exponential, n_estimators=100 ...........\n",
      "[CV] ....... learning_rate=0.3, loss=linear, n_estimators=100 -   5.8s\n",
      "[CV] learning_rate=1, loss=linear, n_estimators=50 ...................\n",
      "[CV] ....... learning_rate=0.3, loss=linear, n_estimators=100 -   2.1s\n",
      "[CV] learning_rate=1, loss=linear, n_estimators=50 ...................\n",
      "[CV] ... learning_rate=0.3, loss=exponential, n_estimators=50 -   0.9s\n",
      "[CV] learning_rate=1, loss=linear, n_estimators=100 ..................\n",
      "[CV] ... learning_rate=0.3, loss=exponential, n_estimators=50 -   0.9s\n",
      "[CV] learning_rate=1, loss=linear, n_estimators=100 ..................\n",
      "[CV] ....... learning_rate=0.3, loss=square, n_estimators=100 -   2.3s\n",
      "[CV] learning_rate=1, loss=square, n_estimators=50 ...................\n",
      "[CV] ....... learning_rate=0.3, loss=square, n_estimators=100 -   2.2s\n",
      "[CV] learning_rate=1, loss=square, n_estimators=50 ...................\n",
      "[CV] .......... learning_rate=1, loss=linear, n_estimators=50 -   0.9s\n",
      "[CV] learning_rate=1, loss=square, n_estimators=100 ..................\n",
      "[CV] .......... learning_rate=1, loss=linear, n_estimators=50 -   0.9s\n",
      "[CV] learning_rate=1, loss=square, n_estimators=100 ..................\n",
      "[CV] ......... learning_rate=1, loss=linear, n_estimators=100 -   1.1s\n",
      "[CV] learning_rate=1, loss=exponential, n_estimators=50 ..............\n",
      "[CV] .......... learning_rate=1, loss=square, n_estimators=50 -   0.9s\n",
      "[CV] learning_rate=1, loss=exponential, n_estimators=50 ..............\n",
      "[CV] .. learning_rate=0.3, loss=exponential, n_estimators=100 -   2.0s\n",
      "[CV] learning_rate=1, loss=exponential, n_estimators=100 .............\n",
      "[CV] .......... learning_rate=1, loss=square, n_estimators=50 -   1.0s\n",
      "[CV] learning_rate=1, loss=exponential, n_estimators=100 .............\n",
      "[CV] .. learning_rate=0.3, loss=exponential, n_estimators=100 -   1.9s\n",
      "[CV] ......... learning_rate=1, loss=linear, n_estimators=100 -   1.4s\n",
      "[CV] ......... learning_rate=1, loss=square, n_estimators=100 -   1.8s\n",
      "[CV] ..... learning_rate=1, loss=exponential, n_estimators=50 -   0.9s\n",
      "[CV] ..... learning_rate=1, loss=exponential, n_estimators=50 -   0.7s\n",
      "[CV] ......... learning_rate=1, loss=square, n_estimators=100 -   1.7s\n",
      "[CV] .... learning_rate=1, loss=exponential, n_estimators=100 -   1.0s\n",
      "[CV] .... learning_rate=1, loss=exponential, n_estimators=100 -   1.1s\n"
     ]
    },
    {
     "name": "stderr",
     "output_type": "stream",
     "text": [
      "[Parallel(n_jobs=-1)]: Done  60 out of  60 | elapsed:  6.7min finished\n"
     ]
    },
    {
     "data": {
      "text/plain": [
       "GridSearchCV(cv=2, error_score='raise',\n",
       "       estimator=AdaBoostRegressor(base_estimator=None, learning_rate=1.0, loss='linear',\n",
       "         n_estimators=50, random_state=42),\n",
       "       fit_params={}, iid=True, n_jobs=-1,\n",
       "       param_grid={'n_estimators': [50, 100], 'learning_rate': [0.01, 0.05, 0.1, 0.3, 1], 'loss': ['linear', 'square', 'exponential']},\n",
       "       pre_dispatch='2*n_jobs', refit=True, return_train_score=True,\n",
       "       scoring=None, verbose=2)"
      ]
     },
     "execution_count": 17,
     "metadata": {},
     "output_type": "execute_result"
    }
   ],
   "source": [
    "from sklearn.model_selection import GridSearchCV\n",
    "param_grid = {\n",
    " 'n_estimators': [50, 100],\n",
    " 'learning_rate' : [0.01,0.05,0.1,0.3,1],\n",
    " 'loss' : ['linear', 'square', 'exponential']\n",
    " }\n",
    "adaboost = AdaBoostRegressor(random_state=42)\n",
    "pre_gs_inst = GridSearchCV(estimator=adaboost,\n",
    " param_grid = param_grid,\n",
    " cv=2,\n",
    " n_jobs=-1,\n",
    " verbose=2)\n",
    "\n",
    "pre_gs_inst.fit(Xtrain1, ytrain1)"
   ]
  },
  {
   "cell_type": "code",
   "execution_count": 19,
   "metadata": {},
   "outputs": [
    {
     "data": {
      "text/plain": [
       "{'learning_rate': 0.05, 'loss': 'exponential', 'n_estimators': 50}"
      ]
     },
     "execution_count": 19,
     "metadata": {},
     "output_type": "execute_result"
    }
   ],
   "source": [
    "pre_gs_inst.best_params_"
   ]
  },
  {
   "cell_type": "code",
   "execution_count": 48,
   "metadata": {
    "scrolled": false
   },
   "outputs": [
    {
     "name": "stdout",
     "output_type": "stream",
     "text": [
      "Cluster 1\n",
      "==============================\n",
      "Time =  31.60488748550415\n",
      "==============================\n",
      "R^2 score 0.32673529653536404\n",
      "==============================\n",
      "MSE 12.259304254036193\n",
      "===================================\n"
     ]
    },
    {
     "data": {
      "image/png": "[encoded data removed]",
      "text/plain": [
       "<matplotlib.figure.Figure at 0x7f7cda3d5358>"
      ]
     },
     "metadata": {
      "needs_background": "light"
     },
     "output_type": "display_data"
    }
   ],
   "source": [
    "model =AdaBoostRegressor(n_estimators=50, loss='exponential', learning_rate=0.05)\n",
    "ytest1 = np.array(ytest1)\n",
    "#ytest1 =ytest1.reshape(-1,1)\n",
    "t = time.time()\n",
    "model.fit(Xtrain1,ytrain1)\n",
    "print('Cluster 1')\n",
    "print('==============================')\n",
    "print('Time = ', time.time() - t)\n",
    "predict1 = model.predict(Xtest1)\n",
    "print('==============================')\n",
    "print('R^2 score' ,metrics.r2_score(ytest1, predict1))\n",
    "print('==============================')\n",
    "print('MSE', np.sqrt(metrics.mean_squared_error(ytest1, predict1)))\n",
    "print('===================================')\n",
    "plt.figure(figsize=(10,8))\n",
    "plt.plot(ytest1)\n",
    "plt.plot(predict1)\n",
    "plt.legend(['True value', 'pedicted value'])\n",
    "plt.savefig('adaboostCl1.svg', dpi=2000)\n",
    "plt.show()\n",
    "#X.shape, y.shape, X1.shape, y1.shape"
   ]
  },
  {
   "cell_type": "markdown",
   "metadata": {},
   "source": [
    "# cluster 2"
   ]
  },
  {
   "cell_type": "code",
   "execution_count": 32,
   "metadata": {},
   "outputs": [
    {
     "name": "stdout",
     "output_type": "stream",
     "text": [
      "Fitting 2 folds for each of 30 candidates, totalling 60 fits\n",
      "[CV] learning_rate=0.01, loss=linear, n_estimators=50 ................\n",
      "[CV] learning_rate=0.01, loss=linear, n_estimators=50 ................\n",
      "[CV] learning_rate=0.01, loss=linear, n_estimators=100 ...............\n",
      "[CV] learning_rate=0.01, loss=linear, n_estimators=100 ...............\n",
      "[CV] learning_rate=0.01, loss=square, n_estimators=50 ................\n",
      "[CV] learning_rate=0.01, loss=square, n_estimators=50 ................\n",
      "[CV] learning_rate=0.01, loss=square, n_estimators=100 ...............\n",
      "[CV] learning_rate=0.01, loss=square, n_estimators=100 ...............\n",
      "[CV] ....... learning_rate=0.01, loss=linear, n_estimators=50 -   0.1s\n",
      "[CV] learning_rate=0.01, loss=exponential, n_estimators=50 ...........\n",
      "[CV] ....... learning_rate=0.01, loss=square, n_estimators=50 -   0.1s\n",
      "[CV] learning_rate=0.01, loss=exponential, n_estimators=50 ...........\n",
      "[CV] ....... learning_rate=0.01, loss=linear, n_estimators=50 -   0.2s\n",
      "[CV] learning_rate=0.01, loss=exponential, n_estimators=100 ..........\n",
      "[CV] ....... learning_rate=0.01, loss=square, n_estimators=50 -   0.2s\n",
      "[CV] learning_rate=0.01, loss=exponential, n_estimators=100 ..........\n",
      "[CV] .. learning_rate=0.01, loss=exponential, n_estimators=50 -   0.1s\n",
      "[CV] ...... learning_rate=0.01, loss=square, n_estimators=100 -   0.2s\n",
      "[CV] ...... learning_rate=0.01, loss=square, n_estimators=100 -   0.3s\n",
      "[CV] .. learning_rate=0.01, loss=exponential, n_estimators=50 -   0.1s\n",
      "[CV] learning_rate=0.05, loss=linear, n_estimators=50 ................\n",
      "[CV] learning_rate=0.05, loss=linear, n_estimators=50 ................\n",
      "[CV] learning_rate=0.05, loss=linear, n_estimators=100 ...............\n",
      "[CV] learning_rate=0.05, loss=linear, n_estimators=100 ...............\n",
      "[CV] ...... learning_rate=0.01, loss=linear, n_estimators=100 -   0.2s\n",
      "[CV] learning_rate=0.05, loss=square, n_estimators=50 ................\n",
      "[CV] ...... learning_rate=0.01, loss=linear, n_estimators=100 -   0.2s\n",
      "[CV] learning_rate=0.05, loss=square, n_estimators=50 ................\n",
      "[CV] ....... learning_rate=0.05, loss=linear, n_estimators=50 -   0.1s\n",
      "[CV] learning_rate=0.05, loss=square, n_estimators=100 ...............\n",
      "[CV] ....... learning_rate=0.05, loss=linear, n_estimators=50 -   0.1s\n",
      "[CV] learning_rate=0.05, loss=square, n_estimators=100 ...............\n",
      "[CV] ....... learning_rate=0.05, loss=square, n_estimators=50 -   0.1s\n",
      "[CV] learning_rate=0.05, loss=exponential, n_estimators=50 ...........\n",
      "[CV] . learning_rate=0.01, loss=exponential, n_estimators=100 -   0.2s\n",
      "[CV] learning_rate=0.05, loss=exponential, n_estimators=50 ...........\n",
      "[CV] . learning_rate=0.01, loss=exponential, n_estimators=100 -   0.3s\n",
      "[CV] ....... learning_rate=0.05, loss=square, n_estimators=50 -   0.1s\n",
      "[CV] learning_rate=0.05, loss=exponential, n_estimators=100 ..........\n",
      "[CV] learning_rate=0.05, loss=exponential, n_estimators=100 ..........\n",
      "[CV] .. learning_rate=0.05, loss=exponential, n_estimators=50 -   0.1s\n",
      "[CV] learning_rate=0.1, loss=linear, n_estimators=50 .................\n",
      "[CV] ...... learning_rate=0.05, loss=linear, n_estimators=100 -   0.2s\n",
      "[CV] learning_rate=0.1, loss=linear, n_estimators=50 .................\n",
      "[CV] ...... learning_rate=0.05, loss=linear, n_estimators=100 -   0.2s\n",
      "[CV] learning_rate=0.1, loss=linear, n_estimators=100 ................\n",
      "[CV] .. learning_rate=0.05, loss=exponential, n_estimators=50 -   0.1s\n",
      "[CV] learning_rate=0.1, loss=linear, n_estimators=100 ................\n",
      "[CV] ...... learning_rate=0.05, loss=square, n_estimators=100 -   0.1s\n",
      "[CV] learning_rate=0.1, loss=square, n_estimators=50 .................\n",
      "[CV] ...... learning_rate=0.05, loss=square, n_estimators=100 -   0.2s\n",
      "[CV] learning_rate=0.1, loss=square, n_estimators=50 .................\n",
      "[CV] ........ learning_rate=0.1, loss=linear, n_estimators=50 -   0.0s\n",
      "[CV] learning_rate=0.1, loss=square, n_estimators=100 ................\n",
      "[CV] ........ learning_rate=0.1, loss=linear, n_estimators=50 -   0.1s\n",
      "[CV] learning_rate=0.1, loss=square, n_estimators=100 ................\n",
      "[CV] . learning_rate=0.05, loss=exponential, n_estimators=100 -   0.1s\n",
      "[CV] learning_rate=0.1, loss=exponential, n_estimators=50 ............\n",
      "[CV] . learning_rate=0.05, loss=exponential, n_estimators=100 -   0.1s\n",
      "[CV] learning_rate=0.1, loss=exponential, n_estimators=50 ............\n"
     ]
    },
    {
     "name": "stderr",
     "output_type": "stream",
     "text": [
      "[Parallel(n_jobs=-1)]: Done  25 tasks      | elapsed:   14.7s\n"
     ]
    },
    {
     "name": "stdout",
     "output_type": "stream",
     "text": [
      "[CV] ........ learning_rate=0.1, loss=square, n_estimators=50 -   0.1s\n",
      "[CV] learning_rate=0.1, loss=exponential, n_estimators=100 ...........\n",
      "[CV] ........ learning_rate=0.1, loss=square, n_estimators=50 -   0.1s\n",
      "[CV] learning_rate=0.1, loss=exponential, n_estimators=100 ...........\n",
      "[CV] ....... learning_rate=0.1, loss=linear, n_estimators=100 -   0.1s\n",
      "[CV] learning_rate=0.3, loss=linear, n_estimators=50 .................\n",
      "[CV] ....... learning_rate=0.1, loss=linear, n_estimators=100 -   0.2s\n",
      "[CV] ... learning_rate=0.1, loss=exponential, n_estimators=50 -   0.1s\n",
      "[CV] learning_rate=0.3, loss=linear, n_estimators=50 .................\n",
      "[CV] learning_rate=0.3, loss=linear, n_estimators=100 ................\n",
      "[CV] ... learning_rate=0.1, loss=exponential, n_estimators=50 -   0.0s\n",
      "[CV] learning_rate=0.3, loss=linear, n_estimators=100 ................\n",
      "[CV] ....... learning_rate=0.1, loss=square, n_estimators=100 -   0.1s\n",
      "[CV] learning_rate=0.3, loss=square, n_estimators=50 .................\n",
      "[CV] ....... learning_rate=0.1, loss=square, n_estimators=100 -   0.1s\n",
      "[CV] ........ learning_rate=0.3, loss=linear, n_estimators=50 -   0.1s\n",
      "[CV] learning_rate=0.3, loss=square, n_estimators=100 ................\n",
      "[CV] learning_rate=0.3, loss=square, n_estimators=50 .................\n",
      "[CV] ........ learning_rate=0.3, loss=linear, n_estimators=50 -   0.1s\n",
      "[CV] learning_rate=0.3, loss=square, n_estimators=100 ................\n",
      "[CV] ....... learning_rate=0.3, loss=linear, n_estimators=100 -   0.1s\n",
      "[CV] learning_rate=0.3, loss=exponential, n_estimators=50 ............\n",
      "[CV] .. learning_rate=0.1, loss=exponential, n_estimators=100 -   0.1s\n",
      "[CV] learning_rate=0.3, loss=exponential, n_estimators=50 ............\n",
      "[CV] .. learning_rate=0.1, loss=exponential, n_estimators=100 -   0.1s\n",
      "[CV] learning_rate=0.3, loss=exponential, n_estimators=100 ...........\n",
      "[CV] ........ learning_rate=0.3, loss=square, n_estimators=50 -   0.0s\n",
      "[CV] learning_rate=0.3, loss=exponential, n_estimators=100 ...........\n",
      "[CV] ........ learning_rate=0.3, loss=square, n_estimators=50 -   0.0s\n",
      "[CV] learning_rate=1, loss=linear, n_estimators=50 ...................\n",
      "[CV] ....... learning_rate=0.3, loss=linear, n_estimators=100 -   0.1s\n",
      "[CV] learning_rate=1, loss=linear, n_estimators=50 ...................\n",
      "[CV] ... learning_rate=0.3, loss=exponential, n_estimators=50 -   0.1s\n",
      "[CV] learning_rate=1, loss=linear, n_estimators=100 ..................\n",
      "[CV] ... learning_rate=0.3, loss=exponential, n_estimators=50 -   0.1s\n",
      "[CV] learning_rate=1, loss=linear, n_estimators=100 ..................\n",
      "[CV] .......... learning_rate=1, loss=linear, n_estimators=50 -   0.0s\n",
      "[CV] learning_rate=1, loss=square, n_estimators=50 ...................\n",
      "[CV] ....... learning_rate=0.3, loss=square, n_estimators=100 -   0.1s\n",
      "[CV] learning_rate=1, loss=square, n_estimators=50 ...................\n",
      "[CV] ....... learning_rate=0.3, loss=square, n_estimators=100 -   0.1s\n",
      "[CV] learning_rate=1, loss=square, n_estimators=100 ..................\n",
      "[CV] ......... learning_rate=1, loss=linear, n_estimators=100 -   0.0s\n",
      "[CV] learning_rate=1, loss=square, n_estimators=100 ..................\n",
      "[CV] .......... learning_rate=1, loss=linear, n_estimators=50 -   0.1s\n",
      "[CV] learning_rate=1, loss=exponential, n_estimators=50 ..............\n",
      "[CV] .......... learning_rate=1, loss=square, n_estimators=50 -   0.1s\n",
      "[CV] learning_rate=1, loss=exponential, n_estimators=50 ..............\n",
      "[CV] .......... learning_rate=1, loss=square, n_estimators=50 -   0.1s\n",
      "[CV] .. learning_rate=0.3, loss=exponential, n_estimators=100 -   0.1s\n",
      "[CV] learning_rate=1, loss=exponential, n_estimators=100 .............\n",
      "[CV] learning_rate=1, loss=exponential, n_estimators=100 .............\n",
      "[CV] .. learning_rate=0.3, loss=exponential, n_estimators=100 -   0.1s\n",
      "[CV] ..... learning_rate=1, loss=exponential, n_estimators=50 -   0.1s\n",
      "[CV] ......... learning_rate=1, loss=linear, n_estimators=100 -   0.1s\n",
      "[CV] ......... learning_rate=1, loss=square, n_estimators=100 -   0.1s\n",
      "[CV] ..... learning_rate=1, loss=exponential, n_estimators=50 -   0.1s\n",
      "[CV] ......... learning_rate=1, loss=square, n_estimators=100 -   0.2s\n",
      "[CV] .... learning_rate=1, loss=exponential, n_estimators=100 -   0.1s\n",
      "[CV] .... learning_rate=1, loss=exponential, n_estimators=100 -   0.1s\n"
     ]
    },
    {
     "name": "stderr",
     "output_type": "stream",
     "text": [
      "[Parallel(n_jobs=-1)]: Done  60 out of  60 | elapsed:   26.6s finished\n"
     ]
    },
    {
     "data": {
      "text/plain": [
       "GridSearchCV(cv=2, error_score='raise',\n",
       "       estimator=AdaBoostRegressor(base_estimator=None, learning_rate=1.0, loss='linear',\n",
       "         n_estimators=50, random_state=42),\n",
       "       fit_params={}, iid=True, n_jobs=-1,\n",
       "       param_grid={'n_estimators': [50, 100], 'learning_rate': [0.01, 0.05, 0.1, 0.3, 1], 'loss': ['linear', 'square', 'exponential']},\n",
       "       pre_dispatch='2*n_jobs', refit=True, return_train_score=True,\n",
       "       scoring=None, verbose=2)"
      ]
     },
     "execution_count": 32,
     "metadata": {},
     "output_type": "execute_result"
    }
   ],
   "source": [
    "pre_gs_inst.fit(Xtrain2, ytrain2)"
   ]
  },
  {
   "cell_type": "code",
   "execution_count": 33,
   "metadata": {},
   "outputs": [
    {
     "data": {
      "text/plain": [
       "{'learning_rate': 0.01, 'loss': 'square', 'n_estimators': 50}"
      ]
     },
     "execution_count": 33,
     "metadata": {},
     "output_type": "execute_result"
    }
   ],
   "source": [
    "pre_gs_inst.best_params_"
   ]
  },
  {
   "cell_type": "code",
   "execution_count": 50,
   "metadata": {},
   "outputs": [
    {
     "name": "stdout",
     "output_type": "stream",
     "text": [
      "Cluster 2\n",
      "==============================\n",
      "Time =  1.745788335800171\n",
      "==============================\n",
      "R^2 score 0.171722908805364\n",
      "==============================\n",
      "MSE 22.74677966096478\n",
      "===================================\n"
     ]
    },
    {
     "data": {
      "image/png": "[encoded data removed]",
      "text/plain": [
       "<matplotlib.figure.Figure at 0x7f7cda4fd4a8>"
      ]
     },
     "metadata": {
      "needs_background": "light"
     },
     "output_type": "display_data"
    }
   ],
   "source": [
    "model1 =AdaBoostRegressor(n_estimators=50, loss='square', learning_rate=0.01)\n",
    "ytest2 = np.array(ytest2)\n",
    "#ytest1 =ytest1.reshape(-1,1)\n",
    "t = time.time()\n",
    "model1.fit(Xtrain2,ytrain2)\n",
    "print('Cluster 2')\n",
    "print('==============================')\n",
    "print('Time = ', time.time() - t)\n",
    "predict2 = model1.predict(Xtest2)\n",
    "print('==============================')\n",
    "print('R^2 score' ,metrics.r2_score(ytest2, predict2))\n",
    "print('==============================')\n",
    "print('MSE', np.sqrt(metrics.mean_squared_error(ytest2, predict2)))\n",
    "print('===================================')\n",
    "plt.figure(figsize=(10,8))\n",
    "plt.plot(ytest2)\n",
    "plt.plot(predict2)\n",
    "plt.legend(['True value', 'pedicted value'])\n",
    "plt.savefig('adaboostCl2.svg', dpi=2000)\n",
    "plt.show()\n",
    "#X.shape, y.shape, X1.shape, y1.shape"
   ]
  },
  {
   "cell_type": "markdown",
   "metadata": {},
   "source": [
    "# Cluster 3"
   ]
  },
  {
   "cell_type": "code",
   "execution_count": 35,
   "metadata": {},
   "outputs": [
    {
     "name": "stdout",
     "output_type": "stream",
     "text": [
      "Fitting 2 folds for each of 30 candidates, totalling 60 fits\n",
      "[CV] learning_rate=0.01, loss=linear, n_estimators=50 ................\n",
      "[CV] learning_rate=0.01, loss=linear, n_estimators=50 ................\n",
      "[CV] learning_rate=0.01, loss=linear, n_estimators=100 ...............\n",
      "[CV] learning_rate=0.01, loss=linear, n_estimators=100 ...............\n",
      "[CV] learning_rate=0.01, loss=square, n_estimators=50 ................\n",
      "[CV] learning_rate=0.01, loss=square, n_estimators=50 ................\n",
      "[CV] learning_rate=0.01, loss=square, n_estimators=100 ...............\n",
      "[CV] learning_rate=0.01, loss=square, n_estimators=100 ...............\n",
      "[CV] ....... learning_rate=0.01, loss=linear, n_estimators=50 -   0.5s\n",
      "[CV] learning_rate=0.01, loss=exponential, n_estimators=50 ...........\n",
      "[CV] ....... learning_rate=0.01, loss=linear, n_estimators=50 -   0.5s\n",
      "[CV] ....... learning_rate=0.01, loss=square, n_estimators=50 -   0.5s\n",
      "[CV] learning_rate=0.01, loss=exponential, n_estimators=50 ...........\n",
      "[CV] learning_rate=0.01, loss=exponential, n_estimators=100 ..........\n",
      "[CV] ....... learning_rate=0.01, loss=square, n_estimators=50 -   0.6s\n",
      "[CV] learning_rate=0.01, loss=exponential, n_estimators=100 ..........\n",
      "[CV] .. learning_rate=0.01, loss=exponential, n_estimators=50 -   0.5s\n",
      "[CV] learning_rate=0.05, loss=linear, n_estimators=50 ................\n",
      "[CV] ...... learning_rate=0.01, loss=linear, n_estimators=100 -   1.0s\n",
      "[CV] learning_rate=0.05, loss=linear, n_estimators=50 ................\n",
      "[CV] .. learning_rate=0.01, loss=exponential, n_estimators=50 -   0.5s\n",
      "[CV] learning_rate=0.05, loss=linear, n_estimators=100 ...............\n",
      "[CV] ...... learning_rate=0.01, loss=square, n_estimators=100 -   1.1s\n",
      "[CV] learning_rate=0.05, loss=linear, n_estimators=100 ...............\n",
      "[CV] ...... learning_rate=0.01, loss=linear, n_estimators=100 -   1.3s\n",
      "[CV] learning_rate=0.05, loss=square, n_estimators=50 ................\n",
      "[CV] ...... learning_rate=0.01, loss=square, n_estimators=100 -   1.3s\n",
      "[CV] learning_rate=0.05, loss=square, n_estimators=50 ................\n",
      "[CV] ....... learning_rate=0.05, loss=linear, n_estimators=50 -   0.7s\n",
      "[CV] learning_rate=0.05, loss=square, n_estimators=100 ...............\n",
      "[CV] ....... learning_rate=0.05, loss=linear, n_estimators=50 -   0.6s\n",
      "[CV] learning_rate=0.05, loss=square, n_estimators=100 ...............\n",
      "[CV] . learning_rate=0.01, loss=exponential, n_estimators=100 -   1.1s\n",
      "[CV] learning_rate=0.05, loss=exponential, n_estimators=50 ...........\n",
      "[CV] ....... learning_rate=0.05, loss=square, n_estimators=50 -   0.5s\n",
      "[CV] learning_rate=0.05, loss=exponential, n_estimators=50 ...........\n",
      "[CV] ....... learning_rate=0.05, loss=square, n_estimators=50 -   0.5s\n",
      "[CV] learning_rate=0.05, loss=exponential, n_estimators=100 ..........\n",
      "[CV] . learning_rate=0.01, loss=exponential, n_estimators=100 -   1.1s\n",
      "[CV] learning_rate=0.05, loss=exponential, n_estimators=100 ..........\n",
      "[CV] .. learning_rate=0.05, loss=exponential, n_estimators=50 -   0.5s\n",
      "[CV] learning_rate=0.1, loss=linear, n_estimators=50 .................\n",
      "[CV] .. learning_rate=0.05, loss=exponential, n_estimators=50 -   0.5s\n",
      "[CV] learning_rate=0.1, loss=linear, n_estimators=50 .................\n",
      "[CV] ...... learning_rate=0.05, loss=linear, n_estimators=100 -   1.1s\n",
      "[CV] learning_rate=0.1, loss=linear, n_estimators=100 ................\n",
      "[CV] ...... learning_rate=0.05, loss=linear, n_estimators=100 -   1.2s\n",
      "[CV] learning_rate=0.1, loss=linear, n_estimators=100 ................\n",
      "[CV] ...... learning_rate=0.05, loss=square, n_estimators=100 -   1.6s\n",
      "[CV] learning_rate=0.1, loss=square, n_estimators=50 .................\n",
      "[CV] ...... learning_rate=0.05, loss=square, n_estimators=100 -   1.9s\n",
      "[CV] learning_rate=0.1, loss=square, n_estimators=50 .................\n",
      "[CV] ........ learning_rate=0.1, loss=linear, n_estimators=50 -   0.9s\n",
      "[CV] learning_rate=0.1, loss=square, n_estimators=100 ................\n",
      "[CV] ........ learning_rate=0.1, loss=linear, n_estimators=50 -   0.8s\n",
      "[CV] learning_rate=0.1, loss=square, n_estimators=100 ................\n",
      "[CV] . learning_rate=0.05, loss=exponential, n_estimators=100 -   1.7s\n",
      "[CV] . learning_rate=0.05, loss=exponential, n_estimators=100 -   1.8s\n",
      "[CV] learning_rate=0.1, loss=exponential, n_estimators=50 ............\n",
      "[CV] learning_rate=0.1, loss=exponential, n_estimators=50 ............\n"
     ]
    },
    {
     "name": "stderr",
     "output_type": "stream",
     "text": [
      "[Parallel(n_jobs=-1)]: Done  25 tasks      | elapsed:  1.4min\n"
     ]
    },
    {
     "name": "stdout",
     "output_type": "stream",
     "text": [
      "[CV] ........ learning_rate=0.1, loss=square, n_estimators=50 -   0.5s\n",
      "[CV] learning_rate=0.1, loss=exponential, n_estimators=100 ...........\n",
      "[CV] ........ learning_rate=0.1, loss=square, n_estimators=50 -   0.5s\n",
      "[CV] learning_rate=0.1, loss=exponential, n_estimators=100 ...........\n",
      "[CV] ... learning_rate=0.1, loss=exponential, n_estimators=50 -   0.5s\n",
      "[CV] ... learning_rate=0.1, loss=exponential, n_estimators=50 -   0.6s\n",
      "[CV] learning_rate=0.3, loss=linear, n_estimators=50 .................\n",
      "[CV] learning_rate=0.3, loss=linear, n_estimators=50 .................\n",
      "[CV] ....... learning_rate=0.1, loss=linear, n_estimators=100 -   0.9s\n",
      "[CV] learning_rate=0.3, loss=linear, n_estimators=100 ................\n",
      "[CV] ....... learning_rate=0.1, loss=linear, n_estimators=100 -   0.9s\n",
      "[CV] learning_rate=0.3, loss=linear, n_estimators=100 ................\n",
      "[CV] ....... learning_rate=0.1, loss=square, n_estimators=100 -   1.0s\n",
      "[CV] learning_rate=0.3, loss=square, n_estimators=50 .................\n",
      "[CV] ....... learning_rate=0.1, loss=square, n_estimators=100 -   0.9s\n",
      "[CV] learning_rate=0.3, loss=square, n_estimators=50 .................\n",
      "[CV] ........ learning_rate=0.3, loss=linear, n_estimators=50 -   0.6s\n",
      "[CV] learning_rate=0.3, loss=square, n_estimators=100 ................\n",
      "[CV] ........ learning_rate=0.3, loss=linear, n_estimators=50 -   0.6s\n",
      "[CV] learning_rate=0.3, loss=square, n_estimators=100 ................\n",
      "[CV] ....... learning_rate=0.3, loss=linear, n_estimators=100 -   0.5s\n",
      "[CV] learning_rate=0.3, loss=exponential, n_estimators=50 ............\n",
      "[CV] ....... learning_rate=0.3, loss=linear, n_estimators=100 -   0.8s\n",
      "[CV] learning_rate=0.3, loss=exponential, n_estimators=50 ............\n",
      "[CV] ........ learning_rate=0.3, loss=square, n_estimators=50 -   0.5s\n",
      "[CV] learning_rate=0.3, loss=exponential, n_estimators=100 ...........\n",
      "[CV] ........ learning_rate=0.3, loss=square, n_estimators=50 -   0.5s\n",
      "[CV] learning_rate=0.3, loss=exponential, n_estimators=100 ...........\n",
      "[CV] .. learning_rate=0.1, loss=exponential, n_estimators=100 -   1.0s\n",
      "[CV] learning_rate=1, loss=linear, n_estimators=50 ...................\n",
      "[CV] .. learning_rate=0.1, loss=exponential, n_estimators=100 -   1.1s\n",
      "[CV] learning_rate=1, loss=linear, n_estimators=50 ...................\n",
      "[CV] ... learning_rate=0.3, loss=exponential, n_estimators=50 -   0.5s\n",
      "[CV] learning_rate=1, loss=linear, n_estimators=100 ..................\n",
      "[CV] .......... learning_rate=1, loss=linear, n_estimators=50 -   0.2s\n",
      "[CV] learning_rate=1, loss=linear, n_estimators=100 ..................\n",
      "[CV] ... learning_rate=0.3, loss=exponential, n_estimators=50 -   0.5s\n",
      "[CV] learning_rate=1, loss=square, n_estimators=50 ...................\n",
      "[CV] ......... learning_rate=1, loss=linear, n_estimators=100 -   0.2s\n",
      "[CV] learning_rate=1, loss=square, n_estimators=50 ...................\n",
      "[CV] ....... learning_rate=0.3, loss=square, n_estimators=100 -   0.9s\n",
      "[CV] learning_rate=1, loss=square, n_estimators=100 ..................\n",
      "[CV] .......... learning_rate=1, loss=linear, n_estimators=50 -   0.5s\n",
      "[CV] learning_rate=1, loss=square, n_estimators=100 ..................\n",
      "[CV] ....... learning_rate=0.3, loss=square, n_estimators=100 -   1.1s\n",
      "[CV] learning_rate=1, loss=exponential, n_estimators=50 ..............\n",
      "[CV] ......... learning_rate=1, loss=linear, n_estimators=100 -   0.5s\n",
      "[CV] learning_rate=1, loss=exponential, n_estimators=50 ..............\n",
      "[CV] .......... learning_rate=1, loss=square, n_estimators=50 -   0.5s\n",
      "[CV] learning_rate=1, loss=exponential, n_estimators=100 .............\n",
      "[CV] .......... learning_rate=1, loss=square, n_estimators=50 -   0.5s\n",
      "[CV] learning_rate=1, loss=exponential, n_estimators=100 .............\n",
      "[CV] .. learning_rate=0.3, loss=exponential, n_estimators=100 -   1.1s\n",
      "[CV] .. learning_rate=0.3, loss=exponential, n_estimators=100 -   1.0s\n",
      "[CV] ..... learning_rate=1, loss=exponential, n_estimators=50 -   0.4s\n",
      "[CV] ..... learning_rate=1, loss=exponential, n_estimators=50 -   0.5s\n",
      "[CV] ......... learning_rate=1, loss=square, n_estimators=100 -   0.6s\n",
      "[CV] ......... learning_rate=1, loss=square, n_estimators=100 -   1.0s\n",
      "[CV] .... learning_rate=1, loss=exponential, n_estimators=100 -   0.5s\n",
      "[CV] .... learning_rate=1, loss=exponential, n_estimators=100 -   0.6s\n"
     ]
    },
    {
     "name": "stderr",
     "output_type": "stream",
     "text": [
      "[Parallel(n_jobs=-1)]: Done  60 out of  60 | elapsed:  3.1min finished\n"
     ]
    },
    {
     "data": {
      "text/plain": [
       "GridSearchCV(cv=2, error_score='raise',\n",
       "       estimator=AdaBoostRegressor(base_estimator=None, learning_rate=1.0, loss='linear',\n",
       "         n_estimators=50, random_state=42),\n",
       "       fit_params={}, iid=True, n_jobs=-1,\n",
       "       param_grid={'n_estimators': [50, 100], 'learning_rate': [0.01, 0.05, 0.1, 0.3, 1], 'loss': ['linear', 'square', 'exponential']},\n",
       "       pre_dispatch='2*n_jobs', refit=True, return_train_score=True,\n",
       "       scoring=None, verbose=2)"
      ]
     },
     "execution_count": 35,
     "metadata": {},
     "output_type": "execute_result"
    }
   ],
   "source": [
    "pre_gs_inst.fit(Xtrain3, ytrain3)"
   ]
  },
  {
   "cell_type": "code",
   "execution_count": 36,
   "metadata": {},
   "outputs": [
    {
     "data": {
      "text/plain": [
       "{'learning_rate': 0.01, 'loss': 'exponential', 'n_estimators': 100}"
      ]
     },
     "execution_count": 36,
     "metadata": {},
     "output_type": "execute_result"
    }
   ],
   "source": [
    "pre_gs_inst.best_params_"
   ]
  },
  {
   "cell_type": "code",
   "execution_count": 51,
   "metadata": {},
   "outputs": [
    {
     "name": "stdout",
     "output_type": "stream",
     "text": [
      "Cluster 3\n",
      "==============================\n",
      "Time =  22.507927417755127\n",
      "==============================\n",
      "R^2 score 0.3068026540878305\n",
      "==============================\n",
      "MSE 17.068679506097432\n",
      "===================================\n"
     ]
    },
    {
     "data": {
      "image/png": "[encoded data removed]",
      "text/plain": [
       "<matplotlib.figure.Figure at 0x7f7cda565c88>"
      ]
     },
     "metadata": {
      "needs_background": "light"
     },
     "output_type": "display_data"
    }
   ],
   "source": [
    "model2 =AdaBoostRegressor(n_estimators=100, loss='exponential', learning_rate=0.01)\n",
    "ytest3 = np.array(ytest3)\n",
    "#ytest1 =ytest1.reshape(-1,1)\n",
    "t = time.time()\n",
    "model2.fit(Xtrain3,ytrain3)\n",
    "print('Cluster 3')\n",
    "print('==============================')\n",
    "print('Time = ', time.time() - t)\n",
    "predict3 = model2.predict(Xtest3)\n",
    "print('==============================')\n",
    "print('R^2 score' ,metrics.r2_score(ytest3, predict3))\n",
    "print('==============================')\n",
    "print('MSE', np.sqrt(metrics.mean_squared_error(ytest3, predict3)))\n",
    "print('===================================')\n",
    "plt.figure(figsize=(10,8))\n",
    "plt.plot(ytest3)\n",
    "plt.plot(predict3)\n",
    "plt.legend(['True value', 'pedicted value'])\n",
    "plt.savefig('adaboostCl3.svg', dpi=2000)\n",
    "plt.show()\n",
    "#X.shape, y.shape, X1.shape, y1.shape"
   ]
  },
  {
   "cell_type": "markdown",
   "metadata": {},
   "source": [
    "# cluster 4"
   ]
  },
  {
   "cell_type": "code",
   "execution_count": 39,
   "metadata": {},
   "outputs": [
    {
     "name": "stdout",
     "output_type": "stream",
     "text": [
      "Fitting 2 folds for each of 30 candidates, totalling 60 fits\n",
      "[CV] learning_rate=0.01, loss=linear, n_estimators=50 ................\n",
      "[CV] learning_rate=0.01, loss=linear, n_estimators=50 ................\n",
      "[CV] learning_rate=0.01, loss=linear, n_estimators=100 ...............\n",
      "[CV] learning_rate=0.01, loss=linear, n_estimators=100 ...............\n",
      "[CV] learning_rate=0.01, loss=square, n_estimators=50 ................\n",
      "[CV] learning_rate=0.01, loss=square, n_estimators=50 ................\n",
      "[CV] learning_rate=0.01, loss=square, n_estimators=100 ...............\n",
      "[CV] learning_rate=0.01, loss=square, n_estimators=100 ...............\n",
      "[CV] ....... learning_rate=0.01, loss=square, n_estimators=50 -   0.2s\n",
      "[CV] learning_rate=0.01, loss=exponential, n_estimators=50 ...........\n",
      "[CV] ....... learning_rate=0.01, loss=linear, n_estimators=50 -   0.2s\n",
      "[CV] learning_rate=0.01, loss=exponential, n_estimators=50 ...........\n",
      "[CV] ....... learning_rate=0.01, loss=linear, n_estimators=50 -   0.2s\n",
      "[CV] learning_rate=0.01, loss=exponential, n_estimators=100 ..........\n",
      "[CV] ....... learning_rate=0.01, loss=square, n_estimators=50 -   0.2s\n",
      "[CV] learning_rate=0.01, loss=exponential, n_estimators=100 ..........\n",
      "[CV] .. learning_rate=0.01, loss=exponential, n_estimators=50 -   0.1s\n",
      "[CV] learning_rate=0.05, loss=linear, n_estimators=50 ................\n",
      "[CV] ...... learning_rate=0.01, loss=square, n_estimators=100 -   0.3s\n",
      "[CV] learning_rate=0.05, loss=linear, n_estimators=50 ................\n",
      "[CV] ...... learning_rate=0.01, loss=linear, n_estimators=100 -   0.4s\n",
      "[CV] learning_rate=0.05, loss=linear, n_estimators=100 ...............\n",
      "[CV] .. learning_rate=0.01, loss=exponential, n_estimators=50 -   0.2s\n",
      "[CV] learning_rate=0.05, loss=linear, n_estimators=100 ...............\n",
      "[CV] ...... learning_rate=0.01, loss=square, n_estimators=100 -   0.4s\n",
      "[CV] learning_rate=0.05, loss=square, n_estimators=50 ................\n",
      "[CV] ...... learning_rate=0.01, loss=linear, n_estimators=100 -   0.5s\n",
      "[CV] learning_rate=0.05, loss=square, n_estimators=50 ................\n",
      "[CV] ....... learning_rate=0.05, loss=linear, n_estimators=50 -   0.2s\n",
      "[CV] ....... learning_rate=0.05, loss=linear, n_estimators=50 -   0.2s\n",
      "[CV] . learning_rate=0.01, loss=exponential, n_estimators=100 -   0.3s\n",
      "[CV] learning_rate=0.05, loss=square, n_estimators=100 ...............\n",
      "[CV] learning_rate=0.05, loss=square, n_estimators=100 ...............\n",
      "[CV] learning_rate=0.05, loss=exponential, n_estimators=50 ...........\n",
      "[CV] ....... learning_rate=0.05, loss=square, n_estimators=50 -   0.2s\n",
      "[CV] learning_rate=0.05, loss=exponential, n_estimators=50 ...........\n",
      "[CV] ....... learning_rate=0.05, loss=square, n_estimators=50 -   0.2s\n",
      "[CV] learning_rate=0.05, loss=exponential, n_estimators=100 ..........\n",
      "[CV] . learning_rate=0.01, loss=exponential, n_estimators=100 -   0.4s\n",
      "[CV] learning_rate=0.05, loss=exponential, n_estimators=100 ..........\n",
      "[CV] .. learning_rate=0.05, loss=exponential, n_estimators=50 -   0.2s\n",
      "[CV] learning_rate=0.1, loss=linear, n_estimators=50 .................\n",
      "[CV] ...... learning_rate=0.05, loss=linear, n_estimators=100 -   0.3s\n",
      "[CV] .. learning_rate=0.05, loss=exponential, n_estimators=50 -   0.2s\n",
      "[CV] learning_rate=0.1, loss=linear, n_estimators=50 .................\n",
      "[CV] learning_rate=0.1, loss=linear, n_estimators=100 ................\n",
      "[CV] ...... learning_rate=0.05, loss=linear, n_estimators=100 -   0.4s\n",
      "[CV] learning_rate=0.1, loss=linear, n_estimators=100 ................\n",
      "[CV] ...... learning_rate=0.05, loss=square, n_estimators=100 -   0.3s\n",
      "[CV] learning_rate=0.1, loss=square, n_estimators=50 .................\n",
      "[CV] ...... learning_rate=0.05, loss=square, n_estimators=100 -   0.3s\n",
      "[CV] learning_rate=0.1, loss=square, n_estimators=50 .................\n",
      "[CV] ........ learning_rate=0.1, loss=linear, n_estimators=50 -   0.2s\n",
      "[CV] ........ learning_rate=0.1, loss=linear, n_estimators=50 -   0.2s\n",
      "[CV] learning_rate=0.1, loss=square, n_estimators=100 ................\n",
      "[CV] learning_rate=0.1, loss=square, n_estimators=100 ................\n",
      "[CV] . learning_rate=0.05, loss=exponential, n_estimators=100 -   0.4s\n",
      "[CV] learning_rate=0.1, loss=exponential, n_estimators=50 ............\n"
     ]
    },
    {
     "name": "stderr",
     "output_type": "stream",
     "text": [
      "[Parallel(n_jobs=-1)]: Done  25 tasks      | elapsed:   25.5s\n"
     ]
    },
    {
     "name": "stdout",
     "output_type": "stream",
     "text": [
      "[CV] . learning_rate=0.05, loss=exponential, n_estimators=100 -   0.4s\n",
      "[CV] learning_rate=0.1, loss=exponential, n_estimators=50 ............\n",
      "[CV] ........ learning_rate=0.1, loss=square, n_estimators=50 -   0.2s\n",
      "[CV] learning_rate=0.1, loss=exponential, n_estimators=100 ...........\n",
      "[CV] ........ learning_rate=0.1, loss=square, n_estimators=50 -   0.2s\n",
      "[CV] learning_rate=0.1, loss=exponential, n_estimators=100 ...........\n",
      "[CV] ....... learning_rate=0.1, loss=linear, n_estimators=100 -   0.3s\n",
      "[CV] learning_rate=0.3, loss=linear, n_estimators=50 .................\n",
      "[CV] ....... learning_rate=0.1, loss=linear, n_estimators=100 -   0.3s\n",
      "[CV] ... learning_rate=0.1, loss=exponential, n_estimators=50 -   0.2s\n",
      "[CV] learning_rate=0.3, loss=linear, n_estimators=50 .................\n",
      "[CV] learning_rate=0.3, loss=linear, n_estimators=100 ................\n",
      "[CV] ... learning_rate=0.1, loss=exponential, n_estimators=50 -   0.2s\n",
      "[CV] learning_rate=0.3, loss=linear, n_estimators=100 ................\n",
      "[CV] ....... learning_rate=0.1, loss=square, n_estimators=100 -   0.4s\n",
      "[CV] learning_rate=0.3, loss=square, n_estimators=50 .................\n",
      "[CV] ........ learning_rate=0.3, loss=linear, n_estimators=50 -   0.2s\n",
      "[CV] learning_rate=0.3, loss=square, n_estimators=50 .................\n",
      "[CV] ....... learning_rate=0.1, loss=square, n_estimators=100 -   0.4s\n",
      "[CV] learning_rate=0.3, loss=square, n_estimators=100 ................\n",
      "[CV] ........ learning_rate=0.3, loss=linear, n_estimators=50 -   0.2s\n",
      "[CV] learning_rate=0.3, loss=square, n_estimators=100 ................\n",
      "[CV] ........ learning_rate=0.3, loss=square, n_estimators=50 -   0.2s\n",
      "[CV] learning_rate=0.3, loss=exponential, n_estimators=50 ............\n",
      "[CV] .. learning_rate=0.1, loss=exponential, n_estimators=100 -   0.3s\n",
      "[CV] learning_rate=0.3, loss=exponential, n_estimators=50 ............\n",
      "[CV] ....... learning_rate=0.3, loss=linear, n_estimators=100 -   0.2s\n",
      "[CV] learning_rate=0.3, loss=exponential, n_estimators=100 ...........\n",
      "[CV] .. learning_rate=0.1, loss=exponential, n_estimators=100 -   0.3s\n",
      "[CV] ........ learning_rate=0.3, loss=square, n_estimators=50 -   0.2s\n",
      "[CV] learning_rate=0.3, loss=exponential, n_estimators=100 ...........\n",
      "[CV] learning_rate=1, loss=linear, n_estimators=50 ...................\n",
      "[CV] ....... learning_rate=0.3, loss=linear, n_estimators=100 -   0.4s\n",
      "[CV] learning_rate=1, loss=linear, n_estimators=50 ...................\n",
      "[CV] ....... learning_rate=0.3, loss=square, n_estimators=100 -   0.3s\n",
      "[CV] learning_rate=1, loss=linear, n_estimators=100 ..................\n",
      "[CV] ... learning_rate=0.3, loss=exponential, n_estimators=50 -   0.2s\n",
      "[CV] learning_rate=1, loss=linear, n_estimators=100 ..................\n",
      "[CV] .......... learning_rate=1, loss=linear, n_estimators=50 -   0.2s\n",
      "[CV] learning_rate=1, loss=square, n_estimators=50 ...................\n",
      "[CV] ... learning_rate=0.3, loss=exponential, n_estimators=50 -   0.2s\n",
      "[CV] learning_rate=1, loss=square, n_estimators=50 ...................\n",
      "[CV] .......... learning_rate=1, loss=linear, n_estimators=50 -   0.2s\n",
      "[CV] learning_rate=1, loss=square, n_estimators=100 ..................\n",
      "[CV] ....... learning_rate=0.3, loss=square, n_estimators=100 -   0.4s\n",
      "[CV] learning_rate=1, loss=square, n_estimators=100 ..................\n",
      "[CV] .......... learning_rate=1, loss=square, n_estimators=50 -   0.2s\n",
      "[CV] learning_rate=1, loss=exponential, n_estimators=50 ..............\n",
      "[CV] .......... learning_rate=1, loss=square, n_estimators=50 -   0.1s\n",
      "[CV] learning_rate=1, loss=exponential, n_estimators=50 ..............\n",
      "[CV] .. learning_rate=0.3, loss=exponential, n_estimators=100 -   0.4s\n",
      "[CV] learning_rate=1, loss=exponential, n_estimators=100 .............\n",
      "[CV] .. learning_rate=0.3, loss=exponential, n_estimators=100 -   0.4s\n",
      "[CV] learning_rate=1, loss=exponential, n_estimators=100 .............\n",
      "[CV] ......... learning_rate=1, loss=linear, n_estimators=100 -   0.3s\n",
      "[CV] ......... learning_rate=1, loss=square, n_estimators=100 -   0.3s\n",
      "[CV] ......... learning_rate=1, loss=linear, n_estimators=100 -   0.3s\n",
      "[CV] ......... learning_rate=1, loss=square, n_estimators=100 -   0.3s\n",
      "[CV] ..... learning_rate=1, loss=exponential, n_estimators=50 -   0.1s\n",
      "[CV] ..... learning_rate=1, loss=exponential, n_estimators=50 -   0.2s\n",
      "[CV] .... learning_rate=1, loss=exponential, n_estimators=100 -   0.3s\n",
      "[CV] .... learning_rate=1, loss=exponential, n_estimators=100 -   0.2s\n"
     ]
    },
    {
     "name": "stderr",
     "output_type": "stream",
     "text": [
      "[Parallel(n_jobs=-1)]: Done  60 out of  60 | elapsed:   59.8s finished\n"
     ]
    },
    {
     "data": {
      "text/plain": [
       "GridSearchCV(cv=2, error_score='raise',\n",
       "       estimator=AdaBoostRegressor(base_estimator=None, learning_rate=1.0, loss='linear',\n",
       "         n_estimators=50, random_state=42),\n",
       "       fit_params={}, iid=True, n_jobs=-1,\n",
       "       param_grid={'n_estimators': [50, 100], 'learning_rate': [0.01, 0.05, 0.1, 0.3, 1], 'loss': ['linear', 'square', 'exponential']},\n",
       "       pre_dispatch='2*n_jobs', refit=True, return_train_score=True,\n",
       "       scoring=None, verbose=2)"
      ]
     },
     "execution_count": 39,
     "metadata": {},
     "output_type": "execute_result"
    }
   ],
   "source": [
    "pre_gs_inst.fit(Xtrain4, ytrain4)"
   ]
  },
  {
   "cell_type": "code",
   "execution_count": 40,
   "metadata": {},
   "outputs": [
    {
     "data": {
      "text/plain": [
       "{'learning_rate': 0.01, 'loss': 'linear', 'n_estimators': 50}"
      ]
     },
     "execution_count": 40,
     "metadata": {},
     "output_type": "execute_result"
    }
   ],
   "source": [
    "pre_gs_inst.best_params_"
   ]
  },
  {
   "cell_type": "code",
   "execution_count": 52,
   "metadata": {},
   "outputs": [
    {
     "name": "stdout",
     "output_type": "stream",
     "text": [
      "Cluster 4\n",
      "==============================\n",
      "Time =  4.641732931137085\n",
      "==============================\n",
      "R^2 score 0.3461296951012298\n",
      "==============================\n",
      "MSE 24.517337701381923\n",
      "===================================\n"
     ]
    },
    {
     "data": {
      "image/png": "[encoded data removed]",
      "text/plain": [
       "<matplotlib.figure.Figure at 0x7f7cda3deac8>"
      ]
     },
     "metadata": {
      "needs_background": "light"
     },
     "output_type": "display_data"
    }
   ],
   "source": [
    "model3 =AdaBoostRegressor(n_estimators=50, loss='linear', learning_rate=0.01)\n",
    "ytest4 = np.array(ytest4)\n",
    "#ytest1 =ytest1.reshape(-1,1)\n",
    "t = time.time()\n",
    "model3.fit(Xtrain4,ytrain4)\n",
    "print('Cluster 4')\n",
    "print('==============================')\n",
    "print('Time = ', time.time() - t)\n",
    "predict4 = model3.predict(Xtest4)\n",
    "print('==============================')\n",
    "print('R^2 score' ,metrics.r2_score(ytest4, predict4))\n",
    "print('==============================')\n",
    "print('MSE', np.sqrt(metrics.mean_squared_error(ytest4, predict4)))\n",
    "print('===================================')\n",
    "plt.figure(figsize=(10,8))\n",
    "plt.plot(ytest4)\n",
    "plt.plot(predict4)\n",
    "plt.legend(['True value', 'pedicted value'])\n",
    "plt.savefig('adaboostCl4.svg', dpi=2000)\n",
    "plt.show()\n",
    "#X.shape, y.shape, X1.shape, y1.shape"
   ]
  },
  {
   "cell_type": "code",
   "execution_count": null,
   "metadata": {},
   "outputs": [],
   "source": []
  }
 ],
 "metadata": {
  "kernelspec": {
   "display_name": "Python 3",
   "language": "python",
   "name": "python3"
  },
  "language_info": {
   "codemirror_mode": {
    "name": "ipython",
    "version": 3
   },
   "file_extension": ".py",
   "mimetype": "text/x-python",
   "name": "python",
   "nbconvert_exporter": "python",
   "pygments_lexer": "ipython3",
   "version": "3.7.0"
  }
 },
 "nbformat": 4,
 "nbformat_minor": 2
}
