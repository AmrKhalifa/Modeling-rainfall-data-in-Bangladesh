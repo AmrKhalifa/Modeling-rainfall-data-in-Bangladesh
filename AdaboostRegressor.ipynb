{
 "cells": [
  {
   "cell_type": "code",
   "execution_count": 3,
   "metadata": {},
   "outputs": [],
   "source": [
    "# import library\n",
    "import numpy as np\n",
    "import csv\n",
    "import matplotlib.pyplot as plt\n",
    "from math import pi\n",
    "\n",
    "import pandas as pd\n",
    "\n",
    "from sklearn.model_selection import train_test_split\n",
    "from sklearn import datasets\n",
    "from sklearn import svm\n",
    "from sklearn.model_selection import cross_val_score\n",
    "import sys\n",
    "\n",
    "if not sys.warnoptions:\n",
    "    import warnings\n",
    "    warnings.simplefilter(\"ignore\")\n",
    "    \n",
    "from sklearn.ensemble import AdaBoostRegressor\n",
    "from sklearn import metrics\n",
    "import time"
   ]
  },
  {
   "cell_type": "code",
   "execution_count": 4,
   "metadata": {},
   "outputs": [],
   "source": [
    "#IMPORTANT : import the DataPreprocessing class\n",
    "from DataPreprocessing import DataPreprocessing"
   ]
  },
  {
   "cell_type": "code",
   "execution_count": 5,
   "metadata": {},
   "outputs": [],
   "source": [
    "cluster1=pd.read_csv('./clustered_data/cluster_1.csv').sort_values(['Year', 'Month', 'Day'], ascending=[True, True,True])\n",
    "cluster2=pd.read_csv('./clustered_data/cluster_2.csv').sort_values(['Year', 'Month', 'Day'], ascending=[True, True,True])\n",
    "cluster3=pd.read_csv('./clustered_data/cluster_3.csv').sort_values(['Year', 'Month', 'Day'], ascending=[True, True,True])\n",
    "cluster4=pd.read_csv('./clustered_data/cluster_4.csv').sort_values(['Year', 'Month', 'Day'], ascending=[True, True,True])\n",
    "cluster5=pd.read_csv('./clustered_data/cluster_5.csv').sort_values(['Year', 'Month', 'Day'], ascending=[True, True,True])"
   ]
  },
  {
   "cell_type": "code",
   "execution_count": 6,
   "metadata": {},
   "outputs": [],
   "source": [
    "#Data preprocessing\n",
    "DP = DataPreprocessing()"
   ]
  },
  {
   "cell_type": "code",
   "execution_count": 7,
   "metadata": {},
   "outputs": [],
   "source": [
    "#We will only use the \"Rainfall\" column\n",
    "time_series_df1 = cluster1[[\"Rainfall\"]]\n",
    "time_series_df2 = cluster2[[\"Rainfall\"]]\n",
    "time_series_df3 = cluster3[[\"Rainfall\"]]\n",
    "time_series_df4 = cluster4[[\"Rainfall\"]]\n",
    "time_series_df5 = cluster5[[\"Rainfall\"]]"
   ]
  },
  {
   "cell_type": "code",
   "execution_count": 32,
   "metadata": {},
   "outputs": [],
   "source": [
    "#We need to specify the column that corresponds to the time series (Rainfall) and the time horizon (40)\n",
    "X1, y1 = DP.create_dataset_in_time_series_form(entire_dataframe=time_series_df1, time_series_column=\"Rainfall\", time_horizon=5)\n",
    "X2, y2 = DP.create_dataset_in_time_series_form(entire_dataframe=time_series_df2, time_series_column=\"Rainfall\", time_horizon=5)\n",
    "X3, y3 = DP.create_dataset_in_time_series_form(entire_dataframe=time_series_df3, time_series_column=\"Rainfall\", time_horizon=5)\n",
    "X4, y4 = DP.create_dataset_in_time_series_form(entire_dataframe=time_series_df4, time_series_column=\"Rainfall\", time_horizon=5)\n",
    "X5, y5 = DP.create_dataset_in_time_series_form(entire_dataframe=time_series_df5, time_series_column=\"Rainfall\", time_horizon=5)"
   ]
  },
  {
   "cell_type": "markdown",
   "metadata": {},
   "source": [
    "# split data in training, validation and  testing data.\n",
    "90% for training data\n",
    "\n",
    "20% for testing data"
   ]
  },
  {
   "cell_type": "code",
   "execution_count": 33,
   "metadata": {},
   "outputs": [],
   "source": [
    "Xtrain1,Xtest1, ytrain1, ytest1 = train_test_split(X1, y1,test_size=0.2 )\n",
    "Xtrain2,Xtest2, ytrain2, ytest2 = train_test_split(X2, y2,test_size=0.2 )\n",
    "Xtrain3,Xtest3, ytrain3, ytest3 = train_test_split(X3, y3,test_size=0.2 )\n",
    "Xtrain4,Xtest4, ytrain4, ytest4 = train_test_split(X4, y4,test_size=0.2 )\n",
    "Xtrain5,Xtest5, ytrain5, ytest5 = train_test_split(X5, y5,test_size=0.2 )"
   ]
  },
  {
   "cell_type": "code",
   "execution_count": 57,
   "metadata": {},
   "outputs": [],
   "source": [
    "from sklearn import preprocessing\n",
    "min_max_scaler = preprocessing.MinMaxScaler()\n",
    "X_train1,y_train1 = min_max_scaler.fit_transform(Xtrain1), min_max_scaler.fit_transform(ytrain1)\n",
    "X_test1, y_test1  = min_max_scaler.transform(Xtest1), min_max_scaler.transform(ytest1)\n",
    "\n",
    "X_train2,y_train2 = min_max_scaler.fit_transform(Xtrain2), min_max_scaler.fit_transform(ytrain2)\n",
    "X_test2, y_test2  = min_max_scaler.transform(Xtest2), min_max_scaler.transform(ytest2)\n",
    "\n",
    "X_train3,y_train3 = min_max_scaler.fit_transform(Xtrain3), min_max_scaler.fit_transform(ytrain3)\n",
    "X_test3, y_test3  = min_max_scaler.transform(Xtest3), min_max_scaler.transform(ytest3)\n",
    "\n",
    "X_train4,y_train4 = min_max_scaler.fit_transform(Xtrain4), min_max_scaler.fit_transform(ytrain4)\n",
    "X_test4, y_test4  = min_max_scaler.transform(Xtest4), min_max_scaler.transform(ytest4)\n",
    "\n",
    "X_train5,y_train5 = min_max_scaler.fit_transform(Xtrain5), min_max_scaler.fit_transform(ytrain5)\n",
    "X_test5, y_test5  = min_max_scaler.transform(Xtest5), min_max_scaler.transform(ytest5)"
   ]
  },
  {
   "cell_type": "code",
   "execution_count": 38,
   "metadata": {},
   "outputs": [
    {
     "name": "stdout",
     "output_type": "stream",
     "text": [
      "Fitting 2 folds for each of 30 candidates, totalling 60 fits\n",
      "[CV] learning_rate=0.01, loss=linear, n_estimators=50 ................\n",
      "[CV] learning_rate=0.01, loss=linear, n_estimators=50 ................\n",
      "[CV] learning_rate=0.01, loss=linear, n_estimators=100 ...............\n",
      "[CV] learning_rate=0.01, loss=linear, n_estimators=100 ...............\n",
      "[CV] learning_rate=0.01, loss=square, n_estimators=50 ................\n",
      "[CV] learning_rate=0.01, loss=square, n_estimators=50 ................\n",
      "[CV] learning_rate=0.01, loss=square, n_estimators=100 ...............\n",
      "[CV] learning_rate=0.01, loss=square, n_estimators=100 ...............\n",
      "[CV] ....... learning_rate=0.01, loss=linear, n_estimators=50 -   0.3s\n",
      "[CV] learning_rate=0.01, loss=exponential, n_estimators=50 ...........\n",
      "[CV] ....... learning_rate=0.01, loss=linear, n_estimators=50 -   0.3s\n",
      "[CV] learning_rate=0.01, loss=exponential, n_estimators=50 ...........\n",
      "[CV] ....... learning_rate=0.01, loss=square, n_estimators=50 -   0.3s\n",
      "[CV] learning_rate=0.01, loss=exponential, n_estimators=100 ..........\n",
      "[CV] ....... learning_rate=0.01, loss=square, n_estimators=50 -   0.3s\n",
      "[CV] learning_rate=0.01, loss=exponential, n_estimators=100 ..........\n",
      "[CV] ...... learning_rate=0.01, loss=linear, n_estimators=100 -   0.6s\n",
      "[CV] ...... learning_rate=0.01, loss=linear, n_estimators=100 -   0.6s\n",
      "[CV] learning_rate=0.05, loss=linear, n_estimators=50 ................\n",
      "[CV] learning_rate=0.05, loss=linear, n_estimators=50 ................\n",
      "[CV] .. learning_rate=0.01, loss=exponential, n_estimators=50 -   0.3s\n",
      "[CV] learning_rate=0.05, loss=linear, n_estimators=100 ...............\n",
      "[CV] .. learning_rate=0.01, loss=exponential, n_estimators=50 -   0.3s\n",
      "[CV] learning_rate=0.05, loss=linear, n_estimators=100 ...............\n",
      "[CV] ...... learning_rate=0.01, loss=square, n_estimators=100 -   0.6s\n",
      "[CV] learning_rate=0.05, loss=square, n_estimators=50 ................\n",
      "[CV] ...... learning_rate=0.01, loss=square, n_estimators=100 -   0.7s\n",
      "[CV] learning_rate=0.05, loss=square, n_estimators=50 ................\n",
      "[CV] ....... learning_rate=0.05, loss=linear, n_estimators=50 -   0.3s\n",
      "[CV] learning_rate=0.05, loss=square, n_estimators=100 ...............\n",
      "[CV] ....... learning_rate=0.05, loss=linear, n_estimators=50 -   0.3s\n",
      "[CV] learning_rate=0.05, loss=square, n_estimators=100 ...............\n",
      "[CV] . learning_rate=0.01, loss=exponential, n_estimators=100 -   0.6s\n",
      "[CV] . learning_rate=0.01, loss=exponential, n_estimators=100 -   0.7s\n",
      "[CV] learning_rate=0.05, loss=exponential, n_estimators=50 ...........\n",
      "[CV] learning_rate=0.05, loss=exponential, n_estimators=50 ...........\n",
      "[CV] ....... learning_rate=0.05, loss=square, n_estimators=50 -   0.3s\n",
      "[CV] learning_rate=0.05, loss=exponential, n_estimators=100 ..........\n",
      "[CV] ....... learning_rate=0.05, loss=square, n_estimators=50 -   0.3s\n",
      "[CV] learning_rate=0.05, loss=exponential, n_estimators=100 ..........\n",
      "[CV] .. learning_rate=0.05, loss=exponential, n_estimators=50 -   0.3s\n",
      "[CV] learning_rate=0.1, loss=linear, n_estimators=50 .................\n",
      "[CV] .. learning_rate=0.05, loss=exponential, n_estimators=50 -   0.3s\n",
      "[CV] learning_rate=0.1, loss=linear, n_estimators=50 .................\n",
      "[CV] ...... learning_rate=0.05, loss=linear, n_estimators=100 -   0.6s\n",
      "[CV] learning_rate=0.1, loss=linear, n_estimators=100 ................\n",
      "[CV] ...... learning_rate=0.05, loss=linear, n_estimators=100 -   0.7s\n",
      "[CV] learning_rate=0.1, loss=linear, n_estimators=100 ................\n",
      "[CV] ...... learning_rate=0.05, loss=square, n_estimators=100 -   0.7s\n",
      "[CV] learning_rate=0.1, loss=square, n_estimators=50 .................\n",
      "[CV] ........ learning_rate=0.1, loss=linear, n_estimators=50 -   0.3s\n",
      "[CV] learning_rate=0.1, loss=square, n_estimators=50 .................\n",
      "[CV] ...... learning_rate=0.05, loss=square, n_estimators=100 -   0.7s\n",
      "[CV] learning_rate=0.1, loss=square, n_estimators=100 ................\n",
      "[CV] ........ learning_rate=0.1, loss=linear, n_estimators=50 -   0.3s\n",
      "[CV] learning_rate=0.1, loss=square, n_estimators=100 ................\n",
      "[CV] . learning_rate=0.05, loss=exponential, n_estimators=100 -   0.7s\n",
      "[CV] learning_rate=0.1, loss=exponential, n_estimators=50 ............\n"
     ]
    },
    {
     "name": "stderr",
     "output_type": "stream",
     "text": [
      "[Parallel(n_jobs=-1)]: Done  25 tasks      | elapsed:   15.0s\n"
     ]
    },
    {
     "name": "stdout",
     "output_type": "stream",
     "text": [
      "[CV] . learning_rate=0.05, loss=exponential, n_estimators=100 -   0.8s\n",
      "[CV] learning_rate=0.1, loss=exponential, n_estimators=50 ............\n",
      "[CV] ........ learning_rate=0.1, loss=square, n_estimators=50 -   0.3s\n",
      "[CV] learning_rate=0.1, loss=exponential, n_estimators=100 ...........\n",
      "[CV] ........ learning_rate=0.1, loss=square, n_estimators=50 -   0.4s\n",
      "[CV] learning_rate=0.1, loss=exponential, n_estimators=100 ...........\n",
      "[CV] ....... learning_rate=0.1, loss=linear, n_estimators=100 -   0.7s\n",
      "[CV] learning_rate=0.3, loss=linear, n_estimators=50 .................\n",
      "[CV] ... learning_rate=0.1, loss=exponential, n_estimators=50 -   0.3s\n",
      "[CV] learning_rate=0.3, loss=linear, n_estimators=50 .................\n",
      "[CV] ... learning_rate=0.1, loss=exponential, n_estimators=50 -   0.4s\n",
      "[CV] learning_rate=0.3, loss=linear, n_estimators=100 ................\n",
      "[CV] ....... learning_rate=0.1, loss=linear, n_estimators=100 -   0.8s\n",
      "[CV] learning_rate=0.3, loss=linear, n_estimators=100 ................\n",
      "[CV] ........ learning_rate=0.3, loss=linear, n_estimators=50 -   0.2s\n",
      "[CV] learning_rate=0.3, loss=square, n_estimators=50 .................\n",
      "[CV] ....... learning_rate=0.1, loss=square, n_estimators=100 -   0.7s\n",
      "[CV] learning_rate=0.3, loss=square, n_estimators=50 .................\n",
      "[CV] ....... learning_rate=0.1, loss=square, n_estimators=100 -   0.7s\n",
      "[CV] learning_rate=0.3, loss=square, n_estimators=100 ................\n",
      "[CV] ....... learning_rate=0.3, loss=linear, n_estimators=100 -   0.2s\n",
      "[CV] learning_rate=0.3, loss=square, n_estimators=100 ................\n",
      "[CV] ........ learning_rate=0.3, loss=linear, n_estimators=50 -   0.3s\n",
      "[CV] learning_rate=0.3, loss=exponential, n_estimators=50 ............\n",
      "[CV] ........ learning_rate=0.3, loss=square, n_estimators=50 -   0.2s\n",
      "[CV] learning_rate=0.3, loss=exponential, n_estimators=50 ............\n",
      "[CV] ....... learning_rate=0.3, loss=square, n_estimators=100 -   0.2s\n",
      "[CV] learning_rate=0.3, loss=exponential, n_estimators=100 ...........\n",
      "[CV] ........ learning_rate=0.3, loss=square, n_estimators=50 -   0.3s\n",
      "[CV] learning_rate=0.3, loss=exponential, n_estimators=100 ...........\n",
      "[CV] .. learning_rate=0.1, loss=exponential, n_estimators=100 -   0.8s\n",
      "[CV] learning_rate=1, loss=linear, n_estimators=50 ...................\n",
      "[CV] .. learning_rate=0.1, loss=exponential, n_estimators=100 -   0.7s\n",
      "[CV] learning_rate=1, loss=linear, n_estimators=50 ...................\n",
      "[CV] ....... learning_rate=0.3, loss=linear, n_estimators=100 -   0.5s\n",
      "[CV] learning_rate=1, loss=linear, n_estimators=100 ..................\n",
      "[CV] .......... learning_rate=1, loss=linear, n_estimators=50 -   0.1s\n",
      "[CV] learning_rate=1, loss=linear, n_estimators=100 ..................\n",
      "[CV] ... learning_rate=0.3, loss=exponential, n_estimators=50 -   0.3s\n",
      "[CV] learning_rate=1, loss=square, n_estimators=50 ...................\n",
      "[CV] ......... learning_rate=1, loss=linear, n_estimators=100 -   0.1s\n",
      "[CV] learning_rate=1, loss=square, n_estimators=50 ...................\n",
      "[CV] ... learning_rate=0.3, loss=exponential, n_estimators=50 -   0.4s\n",
      "[CV] learning_rate=1, loss=square, n_estimators=100 ..................\n",
      "[CV] .......... learning_rate=1, loss=linear, n_estimators=50 -   0.2s\n",
      "[CV] .......... learning_rate=1, loss=square, n_estimators=50 -   0.1s\n",
      "[CV] learning_rate=1, loss=square, n_estimators=100 ..................\n",
      "[CV] learning_rate=1, loss=exponential, n_estimators=50 ..............\n",
      "[CV] ......... learning_rate=1, loss=square, n_estimators=100 -   0.1s\n",
      "[CV] learning_rate=1, loss=exponential, n_estimators=50 ..............\n",
      "[CV] ......... learning_rate=1, loss=linear, n_estimators=100 -   0.2s\n",
      "[CV] learning_rate=1, loss=exponential, n_estimators=100 .............\n",
      "[CV] ....... learning_rate=0.3, loss=square, n_estimators=100 -   0.7s\n",
      "[CV] learning_rate=1, loss=exponential, n_estimators=100 .............\n",
      "[CV] .......... learning_rate=1, loss=square, n_estimators=50 -   0.4s\n",
      "[CV] .. learning_rate=0.3, loss=exponential, n_estimators=100 -   0.8s\n",
      "[CV] .. learning_rate=0.3, loss=exponential, n_estimators=100 -   0.7s\n",
      "[CV] ..... learning_rate=1, loss=exponential, n_estimators=50 -   0.3s\n",
      "[CV] ..... learning_rate=1, loss=exponential, n_estimators=50 -   0.3s\n",
      "[CV] ......... learning_rate=1, loss=square, n_estimators=100 -   0.5s\n",
      "[CV] .... learning_rate=1, loss=exponential, n_estimators=100 -   0.5s\n",
      "[CV] .... learning_rate=1, loss=exponential, n_estimators=100 -   0.5s\n"
     ]
    },
    {
     "name": "stderr",
     "output_type": "stream",
     "text": [
      "[Parallel(n_jobs=-1)]: Done  60 out of  60 | elapsed:   32.7s finished\n"
     ]
    },
    {
     "data": {
      "text/plain": [
       "GridSearchCV(cv=2, error_score='raise',\n",
       "       estimator=AdaBoostRegressor(base_estimator=None, learning_rate=1.0, loss='linear',\n",
       "         n_estimators=50, random_state=42),\n",
       "       fit_params={}, iid=True, n_jobs=-1,\n",
       "       param_grid={'learning_rate': [0.01, 0.05, 0.1, 0.3, 1], 'loss': ['linear', 'square', 'exponential'], 'n_estimators': [50, 100]},\n",
       "       pre_dispatch='2*n_jobs', refit=True, return_train_score=True,\n",
       "       scoring=None, verbose=2)"
      ]
     },
     "execution_count": 38,
     "metadata": {},
     "output_type": "execute_result"
    }
   ],
   "source": [
    "from sklearn.model_selection import GridSearchCV\n",
    "param_grid = {\n",
    " 'n_estimators': [50, 100],\n",
    " 'learning_rate' : [0.01,0.05,0.1,0.3,1],\n",
    " 'loss' : ['linear', 'square', 'exponential']\n",
    " }\n",
    "adaboost = AdaBoostRegressor(random_state=42)\n",
    "pre_gs_inst = GridSearchCV(estimator=adaboost,\n",
    " param_grid = param_grid,\n",
    " cv=2,\n",
    " n_jobs=-1,\n",
    " verbose=2)\n",
    "\n",
    "pre_gs_inst.fit(X_train1, y_train1)"
   ]
  },
  {
   "cell_type": "code",
   "execution_count": 39,
   "metadata": {},
   "outputs": [
    {
     "data": {
      "text/plain": [
       "{'learning_rate': 0.01, 'loss': 'linear', 'n_estimators': 100}"
      ]
     },
     "execution_count": 39,
     "metadata": {},
     "output_type": "execute_result"
    }
   ],
   "source": [
    "pre_gs_inst.best_params_"
   ]
  },
  {
   "cell_type": "code",
   "execution_count": 60,
   "metadata": {
    "scrolled": false
   },
   "outputs": [
    {
     "name": "stdout",
     "output_type": "stream",
     "text": [
      "Cluster 1\n",
      "==============================\n",
      "Time =  5.071592330932617\n",
      "==============================\n",
      "R^2 score 0.2834275388332449\n",
      "==============================\n",
      "MSE 12.419679528175049\n",
      "===================================\n"
     ]
    },
    {
     "data": {
      "image/png": "[encoded data removed]",
      "text/plain": [
       "<matplotlib.figure.Figure at 0x7fef5aa2a940>"
      ]
     },
     "metadata": {
      "needs_background": "light"
     },
     "output_type": "display_data"
    }
   ],
   "source": [
    "model =AdaBoostRegressor(n_estimators=100, loss='linear', learning_rate=0.01)\n",
    "ytest1 = np.array(ytest1)\n",
    "#y_test1 = np.array(y_test1)\n",
    "#ytest1 =ytest1.reshape(-1,1)\n",
    "t = time.time()\n",
    "model.fit(X_train1,y_train1)\n",
    "print('Cluster 1')\n",
    "print('==============================')\n",
    "print('Time = ', time.time() - t)\n",
    "predict1 = model.predict(X_test1)\n",
    "predict1 = predict1 * ytest1.max()\n",
    "print('==============================')\n",
    "print('R^2 score' ,metrics.r2_score(ytest1, predict1))\n",
    "print('==============================')\n",
    "print('MSE', np.sqrt(metrics.mean_squared_error(ytest1, predict1)))\n",
    "print('===================================')\n",
    "plt.figure(figsize=(10,8))\n",
    "plt.plot(ytest1)\n",
    "plt.plot(predict1)\n",
    "plt.legend(['True value', 'pedicted value'])\n",
    "plt.savefig('adaboostCl1.svg', dpi=3000)\n",
    "plt.show()\n",
    "#X.shape, y.shape, X1.shape, y1.shape"
   ]
  },
  {
   "cell_type": "markdown",
   "metadata": {},
   "source": [
    "# cluster 2"
   ]
  },
  {
   "cell_type": "code",
   "execution_count": 41,
   "metadata": {},
   "outputs": [
    {
     "name": "stdout",
     "output_type": "stream",
     "text": [
      "Fitting 2 folds for each of 30 candidates, totalling 60 fits\n",
      "[CV] learning_rate=0.01, loss=linear, n_estimators=50 ................\n",
      "[CV] learning_rate=0.01, loss=linear, n_estimators=100 ...............\n",
      "[CV] learning_rate=0.01, loss=linear, n_estimators=50 ................\n",
      "[CV] learning_rate=0.01, loss=linear, n_estimators=100 ...............\n",
      "[CV] learning_rate=0.01, loss=square, n_estimators=50 ................\n",
      "[CV] learning_rate=0.01, loss=square, n_estimators=100 ...............\n",
      "[CV] learning_rate=0.01, loss=square, n_estimators=50 ................\n",
      "[CV] learning_rate=0.01, loss=square, n_estimators=100 ...............\n",
      "[CV] ....... learning_rate=0.01, loss=linear, n_estimators=50 -   0.0s\n",
      "[CV] learning_rate=0.01, loss=exponential, n_estimators=50 ...........\n",
      "[CV] ....... learning_rate=0.01, loss=square, n_estimators=50 -   0.0s\n",
      "[CV] learning_rate=0.01, loss=exponential, n_estimators=50 ...........\n",
      "[CV] ....... learning_rate=0.01, loss=square, n_estimators=50 -   0.0s\n",
      "[CV] learning_rate=0.01, loss=exponential, n_estimators=100 ..........\n",
      "[CV] ....... learning_rate=0.01, loss=linear, n_estimators=50 -   0.0s\n",
      "[CV] learning_rate=0.01, loss=exponential, n_estimators=100 ..........\n",
      "[CV] ...... learning_rate=0.01, loss=square, n_estimators=100 -   0.0s\n",
      "[CV] learning_rate=0.05, loss=linear, n_estimators=50 ................\n",
      "[CV] ...... learning_rate=0.01, loss=linear, n_estimators=100 -   0.0s\n",
      "[CV] learning_rate=0.05, loss=linear, n_estimators=50 ................\n",
      "[CV] ...... learning_rate=0.01, loss=linear, n_estimators=100 -   0.0s\n",
      "[CV] .. learning_rate=0.01, loss=exponential, n_estimators=50 -   0.0s\n",
      "[CV] learning_rate=0.05, loss=linear, n_estimators=100 ...............\n",
      "[CV] ...... learning_rate=0.01, loss=square, n_estimators=100 -   0.0s\n",
      "[CV] learning_rate=0.05, loss=linear, n_estimators=100 ...............\n",
      "[CV] .. learning_rate=0.01, loss=exponential, n_estimators=50 -   0.0s\n",
      "[CV] learning_rate=0.05, loss=square, n_estimators=50 ................\n",
      "[CV] learning_rate=0.05, loss=square, n_estimators=50 ................\n",
      "[CV] ....... learning_rate=0.05, loss=linear, n_estimators=50 -   0.0s\n",
      "[CV] learning_rate=0.05, loss=square, n_estimators=100 ...............\n",
      "[CV] ....... learning_rate=0.05, loss=square, n_estimators=50 -   0.0s\n",
      "[CV] learning_rate=0.05, loss=square, n_estimators=100 ...............\n",
      "[CV] ....... learning_rate=0.05, loss=square, n_estimators=50 -   0.0s\n",
      "[CV] learning_rate=0.05, loss=exponential, n_estimators=50 ...........\n",
      "[CV] ....... learning_rate=0.05, loss=linear, n_estimators=50 -   0.0s\n",
      "[CV] learning_rate=0.05, loss=exponential, n_estimators=50 ...........\n",
      "[CV] . learning_rate=0.01, loss=exponential, n_estimators=100 -   0.0s\n",
      "[CV] . learning_rate=0.01, loss=exponential, n_estimators=100 -   0.0s\n",
      "[CV] learning_rate=0.05, loss=exponential, n_estimators=100 ..........\n",
      "[CV] learning_rate=0.05, loss=exponential, n_estimators=100 ..........\n",
      "[CV] ...... learning_rate=0.05, loss=linear, n_estimators=100 -   0.0s\n",
      "[CV] ...... learning_rate=0.05, loss=linear, n_estimators=100 -   0.0s\n",
      "[CV] learning_rate=0.1, loss=linear, n_estimators=50 .................\n",
      "[CV] .. learning_rate=0.05, loss=exponential, n_estimators=50 -   0.0s\n",
      "[CV] learning_rate=0.1, loss=linear, n_estimators=100 ................\n",
      "[CV] learning_rate=0.1, loss=linear, n_estimators=50 .................\n",
      "[CV] .. learning_rate=0.05, loss=exponential, n_estimators=50 -   0.0s\n",
      "[CV] learning_rate=0.1, loss=linear, n_estimators=100 ................\n",
      "[CV] ...... learning_rate=0.05, loss=square, n_estimators=100 -   0.0s\n",
      "[CV] learning_rate=0.1, loss=square, n_estimators=50 .................\n",
      "[CV] ...... learning_rate=0.05, loss=square, n_estimators=100 -   0.0s\n",
      "[CV] learning_rate=0.1, loss=square, n_estimators=50 .................\n",
      "[CV] . learning_rate=0.05, loss=exponential, n_estimators=100 -   0.0s\n",
      "[CV] learning_rate=0.1, loss=square, n_estimators=100 ................\n",
      "[CV] ........ learning_rate=0.1, loss=linear, n_estimators=50 -   0.0s\n",
      "[CV] learning_rate=0.1, loss=square, n_estimators=100 ................\n",
      "[CV] ........ learning_rate=0.1, loss=linear, n_estimators=50 -   0.0s\n",
      "[CV] learning_rate=0.1, loss=exponential, n_estimators=50 ............\n",
      "[CV] . learning_rate=0.05, loss=exponential, n_estimators=100 -   0.0s\n",
      "[CV] learning_rate=0.1, loss=exponential, n_estimators=50 ............\n",
      "[CV] ........ learning_rate=0.1, loss=square, n_estimators=50 -   0.0s\n",
      "[CV] learning_rate=0.1, loss=exponential, n_estimators=100 ...........\n",
      "[CV] ........ learning_rate=0.1, loss=square, n_estimators=50 -   0.0s\n"
     ]
    },
    {
     "name": "stderr",
     "output_type": "stream",
     "text": [
      "[Parallel(n_jobs=-1)]: Done  25 tasks      | elapsed:    1.2s\n"
     ]
    },
    {
     "name": "stdout",
     "output_type": "stream",
     "text": [
      "[CV] learning_rate=0.1, loss=exponential, n_estimators=100 ...........\n",
      "[CV] ....... learning_rate=0.1, loss=linear, n_estimators=100 -   0.0s\n",
      "[CV] learning_rate=0.3, loss=linear, n_estimators=50 .................\n",
      "[CV] ....... learning_rate=0.1, loss=linear, n_estimators=100 -   0.0s\n",
      "[CV] learning_rate=0.3, loss=linear, n_estimators=50 .................\n",
      "[CV] ... learning_rate=0.1, loss=exponential, n_estimators=50 -   0.0s\n",
      "[CV] ... learning_rate=0.1, loss=exponential, n_estimators=50 -   0.0s\n",
      "[CV] learning_rate=0.3, loss=linear, n_estimators=100 ................\n",
      "[CV] learning_rate=0.3, loss=linear, n_estimators=100 ................\n",
      "[CV] ........ learning_rate=0.3, loss=linear, n_estimators=50 -   0.0s\n",
      "[CV] ....... learning_rate=0.1, loss=square, n_estimators=100 -   0.0s\n",
      "[CV] learning_rate=0.3, loss=square, n_estimators=50 .................\n",
      "[CV] learning_rate=0.3, loss=square, n_estimators=50 .................\n",
      "[CV] ........ learning_rate=0.3, loss=linear, n_estimators=50 -   0.0s\n",
      "[CV] ....... learning_rate=0.1, loss=square, n_estimators=100 -   0.0s\n",
      "[CV] learning_rate=0.3, loss=square, n_estimators=100 ................\n",
      "[CV] learning_rate=0.3, loss=square, n_estimators=100 ................\n",
      "[CV] ....... learning_rate=0.3, loss=linear, n_estimators=100 -   0.0s\n",
      "[CV] learning_rate=0.3, loss=exponential, n_estimators=50 ............\n",
      "[CV] ....... learning_rate=0.3, loss=linear, n_estimators=100 -   0.0s\n",
      "[CV] learning_rate=0.3, loss=exponential, n_estimators=50 ............\n",
      "[CV] .. learning_rate=0.1, loss=exponential, n_estimators=100 -   0.0s\n",
      "[CV] learning_rate=0.3, loss=exponential, n_estimators=100 ...........\n",
      "[CV] ........ learning_rate=0.3, loss=square, n_estimators=50 -   0.0s\n",
      "[CV] ........ learning_rate=0.3, loss=square, n_estimators=50 -   0.0s\n",
      "[CV] learning_rate=0.3, loss=exponential, n_estimators=100 ...........\n",
      "[CV] learning_rate=1, loss=linear, n_estimators=50 ...................\n",
      "[CV] .. learning_rate=0.1, loss=exponential, n_estimators=100 -   0.1s\n",
      "[CV] learning_rate=1, loss=linear, n_estimators=50 ...................\n",
      "[CV] .......... learning_rate=1, loss=linear, n_estimators=50 -   0.0s\n",
      "[CV] learning_rate=1, loss=linear, n_estimators=100 ..................\n",
      "[CV] ... learning_rate=0.3, loss=exponential, n_estimators=50 -   0.0s\n",
      "[CV] learning_rate=1, loss=linear, n_estimators=100 ..................\n",
      "[CV] ... learning_rate=0.3, loss=exponential, n_estimators=50 -   0.0s\n",
      "[CV] ......... learning_rate=1, loss=linear, n_estimators=100 -   0.0s\n",
      "[CV] learning_rate=1, loss=square, n_estimators=50 ...................\n",
      "[CV] learning_rate=1, loss=square, n_estimators=50 ...................\n",
      "[CV] .......... learning_rate=1, loss=linear, n_estimators=50 -   0.0s\n",
      "[CV] learning_rate=1, loss=square, n_estimators=100 ..................\n",
      "[CV] ....... learning_rate=0.3, loss=square, n_estimators=100 -   0.0s\n",
      "[CV] learning_rate=1, loss=square, n_estimators=100 ..................\n",
      "[CV] ......... learning_rate=1, loss=linear, n_estimators=100 -   0.0s\n",
      "[CV] learning_rate=1, loss=exponential, n_estimators=50 ..............\n",
      "[CV] .......... learning_rate=1, loss=square, n_estimators=50 -   0.0s\n",
      "[CV] learning_rate=1, loss=exponential, n_estimators=50 ..............\n",
      "[CV] ....... learning_rate=0.3, loss=square, n_estimators=100 -   0.0s\n",
      "[CV] .. learning_rate=0.3, loss=exponential, n_estimators=100 -   0.0s\n",
      "[CV] learning_rate=1, loss=exponential, n_estimators=100 .............\n",
      "[CV] .......... learning_rate=1, loss=square, n_estimators=50 -   0.0s\n",
      "[CV] learning_rate=1, loss=exponential, n_estimators=100 .............\n",
      "[CV] .. learning_rate=0.3, loss=exponential, n_estimators=100 -   0.1s\n",
      "[CV] ..... learning_rate=1, loss=exponential, n_estimators=50 -   0.0s\n",
      "[CV] ......... learning_rate=1, loss=square, n_estimators=100 -   0.0s\n",
      "[CV] ..... learning_rate=1, loss=exponential, n_estimators=50 -   0.0s\n",
      "[CV] ......... learning_rate=1, loss=square, n_estimators=100 -   0.0s\n",
      "[CV] .... learning_rate=1, loss=exponential, n_estimators=100 -   0.0s\n",
      "[CV] .... learning_rate=1, loss=exponential, n_estimators=100 -   0.0s\n"
     ]
    },
    {
     "name": "stderr",
     "output_type": "stream",
     "text": [
      "[Parallel(n_jobs=-1)]: Done  60 out of  60 | elapsed:    2.8s finished\n"
     ]
    },
    {
     "data": {
      "text/plain": [
       "GridSearchCV(cv=2, error_score='raise',\n",
       "       estimator=AdaBoostRegressor(base_estimator=None, learning_rate=1.0, loss='linear',\n",
       "         n_estimators=50, random_state=42),\n",
       "       fit_params={}, iid=True, n_jobs=-1,\n",
       "       param_grid={'learning_rate': [0.01, 0.05, 0.1, 0.3, 1], 'loss': ['linear', 'square', 'exponential'], 'n_estimators': [50, 100]},\n",
       "       pre_dispatch='2*n_jobs', refit=True, return_train_score=True,\n",
       "       scoring=None, verbose=2)"
      ]
     },
     "execution_count": 41,
     "metadata": {},
     "output_type": "execute_result"
    }
   ],
   "source": [
    "pre_gs_inst.fit(X_train2, y_train2)"
   ]
  },
  {
   "cell_type": "code",
   "execution_count": 42,
   "metadata": {},
   "outputs": [
    {
     "data": {
      "text/plain": [
       "{'learning_rate': 0.01, 'loss': 'exponential', 'n_estimators': 50}"
      ]
     },
     "execution_count": 42,
     "metadata": {},
     "output_type": "execute_result"
    }
   ],
   "source": [
    "pre_gs_inst.best_params_"
   ]
  },
  {
   "cell_type": "code",
   "execution_count": 61,
   "metadata": {},
   "outputs": [
    {
     "name": "stdout",
     "output_type": "stream",
     "text": [
      "Cluster 2\n",
      "==============================\n",
      "Time =  0.19729161262512207\n",
      "==============================\n",
      "R^2 score 0.08976006526070757\n",
      "==============================\n",
      "MSE 23.43510297055198\n",
      "===================================\n"
     ]
    },
    {
     "data": {
      "image/png": "[encoded data removed]",
      "text/plain": [
       "<matplotlib.figure.Figure at 0x7fef59c6d208>"
      ]
     },
     "metadata": {
      "needs_background": "light"
     },
     "output_type": "display_data"
    }
   ],
   "source": [
    "model1 =AdaBoostRegressor(n_estimators=50, loss='exponential', learning_rate=0.01)\n",
    "ytest2 = np.array(ytest2)\n",
    "y_test2 = np.array(y_test2)\n",
    "#ytest1 =ytest1.reshape(-1,1)\n",
    "t = time.time()\n",
    "model1.fit(X_train2,y_train2)\n",
    "print('Cluster 2')\n",
    "print('==============================')\n",
    "print('Time = ', time.time() - t)\n",
    "predict2 = model1.predict(X_test2)\n",
    "predict2= predict2*ytest2.max()\n",
    "print('==============================')\n",
    "print('R^2 score' ,metrics.r2_score(ytest2, predict2))\n",
    "print('==============================')\n",
    "print('MSE', np.sqrt(metrics.mean_squared_error(ytest2, predict2)))\n",
    "print('===================================')\n",
    "plt.figure(figsize=(10,8))\n",
    "plt.plot(ytest2)\n",
    "plt.plot(predict2)\n",
    "plt.legend(['True value', 'pedicted value'])\n",
    "plt.savefig('adaboostCl2.svg', dpi=3000)\n",
    "plt.show()\n",
    "#X.shape, y.shape, X1.shape, y1.shape"
   ]
  },
  {
   "cell_type": "markdown",
   "metadata": {},
   "source": [
    "# Cluster 3"
   ]
  },
  {
   "cell_type": "code",
   "execution_count": 48,
   "metadata": {},
   "outputs": [
    {
     "name": "stdout",
     "output_type": "stream",
     "text": [
      "Fitting 2 folds for each of 30 candidates, totalling 60 fits\n",
      "[CV] learning_rate=0.01, loss=linear, n_estimators=50 ................\n",
      "[CV] learning_rate=0.01, loss=linear, n_estimators=50 ................\n",
      "[CV] learning_rate=0.01, loss=linear, n_estimators=100 ...............\n",
      "[CV] learning_rate=0.01, loss=linear, n_estimators=100 ...............\n",
      "[CV] learning_rate=0.01, loss=square, n_estimators=50 ................\n",
      "[CV] learning_rate=0.01, loss=square, n_estimators=50 ................\n",
      "[CV] learning_rate=0.01, loss=square, n_estimators=100 ...............\n",
      "[CV] learning_rate=0.01, loss=square, n_estimators=100 ...............\n",
      "[CV] ....... learning_rate=0.01, loss=linear, n_estimators=50 -   0.2s\n",
      "[CV] learning_rate=0.01, loss=exponential, n_estimators=50 ...........\n",
      "[CV] ....... learning_rate=0.01, loss=linear, n_estimators=50 -   0.2s\n",
      "[CV] learning_rate=0.01, loss=exponential, n_estimators=50 ...........\n",
      "[CV] ....... learning_rate=0.01, loss=square, n_estimators=50 -   0.2s\n",
      "[CV] learning_rate=0.01, loss=exponential, n_estimators=100 ..........\n",
      "[CV] ....... learning_rate=0.01, loss=square, n_estimators=50 -   0.3s\n",
      "[CV] learning_rate=0.01, loss=exponential, n_estimators=100 ..........\n",
      "[CV] ...... learning_rate=0.01, loss=linear, n_estimators=100 -   0.4s\n",
      "[CV] learning_rate=0.05, loss=linear, n_estimators=50 ................\n",
      "[CV] .. learning_rate=0.01, loss=exponential, n_estimators=50 -   0.2s\n",
      "[CV] learning_rate=0.05, loss=linear, n_estimators=50 ................\n",
      "[CV] .. learning_rate=0.01, loss=exponential, n_estimators=50 -   0.3s\n",
      "[CV] learning_rate=0.05, loss=linear, n_estimators=100 ...............\n",
      "[CV] ...... learning_rate=0.01, loss=square, n_estimators=100 -   0.5s\n",
      "[CV] learning_rate=0.05, loss=linear, n_estimators=100 ...............\n",
      "[CV] ...... learning_rate=0.01, loss=square, n_estimators=100 -   0.7s\n",
      "[CV] ...... learning_rate=0.01, loss=linear, n_estimators=100 -   0.6s\n",
      "[CV] learning_rate=0.05, loss=square, n_estimators=50 ................\n",
      "[CV] learning_rate=0.05, loss=square, n_estimators=50 ................\n",
      "[CV] ....... learning_rate=0.05, loss=linear, n_estimators=50 -   0.1s\n",
      "[CV] learning_rate=0.05, loss=square, n_estimators=100 ...............\n",
      "[CV] ....... learning_rate=0.05, loss=linear, n_estimators=50 -   0.2s\n",
      "[CV] learning_rate=0.05, loss=square, n_estimators=100 ...............\n",
      "[CV] ....... learning_rate=0.05, loss=square, n_estimators=50 -   0.1s\n",
      "[CV] learning_rate=0.05, loss=exponential, n_estimators=50 ...........\n",
      "[CV] ....... learning_rate=0.05, loss=square, n_estimators=50 -   0.2s\n",
      "[CV] . learning_rate=0.01, loss=exponential, n_estimators=100 -   0.3s\n",
      "[CV] learning_rate=0.05, loss=exponential, n_estimators=100 ..........\n",
      "[CV] learning_rate=0.05, loss=exponential, n_estimators=50 ...........\n",
      "[CV] . learning_rate=0.01, loss=exponential, n_estimators=100 -   0.4s\n",
      "[CV] learning_rate=0.05, loss=exponential, n_estimators=100 ..........\n",
      "[CV] ...... learning_rate=0.05, loss=linear, n_estimators=100 -   0.3s\n",
      "[CV] learning_rate=0.1, loss=linear, n_estimators=50 .................\n",
      "[CV] .. learning_rate=0.05, loss=exponential, n_estimators=50 -   0.1s\n",
      "[CV] learning_rate=0.1, loss=linear, n_estimators=50 .................\n",
      "[CV] .. learning_rate=0.05, loss=exponential, n_estimators=50 -   0.2s\n",
      "[CV] learning_rate=0.1, loss=linear, n_estimators=100 ................\n",
      "[CV] ...... learning_rate=0.05, loss=linear, n_estimators=100 -   0.3s\n",
      "[CV] learning_rate=0.1, loss=linear, n_estimators=100 ................\n",
      "[CV] ...... learning_rate=0.05, loss=square, n_estimators=100 -   0.3s\n",
      "[CV] learning_rate=0.1, loss=square, n_estimators=50 .................\n",
      "[CV] ...... learning_rate=0.05, loss=square, n_estimators=100 -   0.3s\n",
      "[CV] learning_rate=0.1, loss=square, n_estimators=50 .................\n",
      "[CV] ........ learning_rate=0.1, loss=linear, n_estimators=50 -   0.2s\n",
      "[CV] learning_rate=0.1, loss=square, n_estimators=100 ................\n",
      "[CV] ........ learning_rate=0.1, loss=linear, n_estimators=50 -   0.1s\n",
      "[CV] learning_rate=0.1, loss=square, n_estimators=100 ................\n",
      "[CV] . learning_rate=0.05, loss=exponential, n_estimators=100 -   0.3s\n",
      "[CV] learning_rate=0.1, loss=exponential, n_estimators=50 ............\n",
      "[CV] . learning_rate=0.05, loss=exponential, n_estimators=100 -   0.3s\n",
      "[CV] learning_rate=0.1, loss=exponential, n_estimators=50 ............\n"
     ]
    },
    {
     "name": "stderr",
     "output_type": "stream",
     "text": [
      "[Parallel(n_jobs=-1)]: Done  25 tasks      | elapsed:    7.5s\n"
     ]
    },
    {
     "name": "stdout",
     "output_type": "stream",
     "text": [
      "[CV] ....... learning_rate=0.1, loss=linear, n_estimators=100 -   0.2s\n",
      "[CV] learning_rate=0.1, loss=exponential, n_estimators=100 ...........\n",
      "[CV] ........ learning_rate=0.1, loss=square, n_estimators=50 -   0.2s\n",
      "[CV] learning_rate=0.1, loss=exponential, n_estimators=100 ...........\n",
      "[CV] ........ learning_rate=0.1, loss=square, n_estimators=50 -   0.1s\n",
      "[CV] learning_rate=0.3, loss=linear, n_estimators=50 .................\n",
      "[CV] ... learning_rate=0.1, loss=exponential, n_estimators=50 -   0.2s\n",
      "[CV] learning_rate=0.3, loss=linear, n_estimators=50 .................\n",
      "[CV] ....... learning_rate=0.1, loss=linear, n_estimators=100 -   0.3s\n",
      "[CV] learning_rate=0.3, loss=linear, n_estimators=100 ................\n",
      "[CV] ... learning_rate=0.1, loss=exponential, n_estimators=50 -   0.2s\n",
      "[CV] learning_rate=0.3, loss=linear, n_estimators=100 ................\n",
      "[CV] ........ learning_rate=0.3, loss=linear, n_estimators=50 -   0.1s\n",
      "[CV] learning_rate=0.3, loss=square, n_estimators=50 .................\n",
      "[CV] ........ learning_rate=0.3, loss=linear, n_estimators=50 -   0.1s\n",
      "[CV] learning_rate=0.3, loss=square, n_estimators=50 .................\n",
      "[CV] ....... learning_rate=0.3, loss=linear, n_estimators=100 -   0.1s\n",
      "[CV] learning_rate=0.3, loss=square, n_estimators=100 ................\n",
      "[CV] ....... learning_rate=0.1, loss=square, n_estimators=100 -   0.3s\n",
      "[CV] learning_rate=0.3, loss=square, n_estimators=100 ................\n",
      "[CV] ....... learning_rate=0.1, loss=square, n_estimators=100 -   0.4s\n",
      "[CV] learning_rate=0.3, loss=exponential, n_estimators=50 ............\n",
      "[CV] ....... learning_rate=0.3, loss=linear, n_estimators=100 -   0.1s\n",
      "[CV] learning_rate=0.3, loss=exponential, n_estimators=50 ............\n",
      "[CV] ........ learning_rate=0.3, loss=square, n_estimators=50 -   0.1s\n",
      "[CV] learning_rate=0.3, loss=exponential, n_estimators=100 ...........\n",
      "[CV] ........ learning_rate=0.3, loss=square, n_estimators=50 -   0.2s\n",
      "[CV] learning_rate=0.3, loss=exponential, n_estimators=100 ...........\n",
      "[CV] ....... learning_rate=0.3, loss=square, n_estimators=100 -   0.1s\n",
      "[CV] learning_rate=1, loss=linear, n_estimators=50 ...................\n",
      "[CV] .......... learning_rate=1, loss=linear, n_estimators=50 -   0.0s\n",
      "[CV] ....... learning_rate=0.3, loss=square, n_estimators=100 -   0.2s\n",
      "[CV] learning_rate=1, loss=linear, n_estimators=50 ...................\n",
      "[CV] learning_rate=1, loss=linear, n_estimators=100 ..................\n",
      "[CV] .. learning_rate=0.1, loss=exponential, n_estimators=100 -   0.4s\n",
      "[CV] learning_rate=1, loss=linear, n_estimators=100 ..................\n",
      "[CV] .. learning_rate=0.1, loss=exponential, n_estimators=100 -   0.4s\n",
      "[CV] learning_rate=1, loss=square, n_estimators=50 ...................\n",
      "[CV] ......... learning_rate=1, loss=linear, n_estimators=100 -   0.0s\n",
      "[CV] learning_rate=1, loss=square, n_estimators=50 ...................\n",
      "[CV] .......... learning_rate=1, loss=linear, n_estimators=50 -   0.0s\n",
      "[CV] ... learning_rate=0.3, loss=exponential, n_estimators=50 -   0.2s\n",
      "[CV] learning_rate=1, loss=square, n_estimators=100 ..................\n",
      "[CV] learning_rate=1, loss=square, n_estimators=100 ..................\n",
      "[CV] ......... learning_rate=1, loss=linear, n_estimators=100 -   0.0s\n",
      "[CV] learning_rate=1, loss=exponential, n_estimators=50 ..............\n",
      "[CV] ... learning_rate=0.3, loss=exponential, n_estimators=50 -   0.2s\n",
      "[CV] learning_rate=1, loss=exponential, n_estimators=50 ..............\n",
      "[CV] .......... learning_rate=1, loss=square, n_estimators=50 -   0.0s\n",
      "[CV] learning_rate=1, loss=exponential, n_estimators=100 .............\n",
      "[CV] ......... learning_rate=1, loss=square, n_estimators=100 -   0.0s\n",
      "[CV] learning_rate=1, loss=exponential, n_estimators=100 .............\n",
      "[CV] .......... learning_rate=1, loss=square, n_estimators=50 -   0.1s\n",
      "[CV] ......... learning_rate=1, loss=square, n_estimators=100 -   0.1s\n",
      "[CV] ..... learning_rate=1, loss=exponential, n_estimators=50 -   0.1s\n",
      "[CV] .... learning_rate=1, loss=exponential, n_estimators=100 -   0.1s\n",
      "[CV] .... learning_rate=1, loss=exponential, n_estimators=100 -   0.1s\n",
      "[CV] ..... learning_rate=1, loss=exponential, n_estimators=50 -   0.1s\n",
      "[CV] .. learning_rate=0.3, loss=exponential, n_estimators=100 -   0.2s\n",
      "[CV] .. learning_rate=0.3, loss=exponential, n_estimators=100 -   0.2s\n"
     ]
    },
    {
     "name": "stderr",
     "output_type": "stream",
     "text": [
      "[Parallel(n_jobs=-1)]: Done  60 out of  60 | elapsed:   13.7s finished\n"
     ]
    },
    {
     "data": {
      "text/plain": [
       "GridSearchCV(cv=2, error_score='raise',\n",
       "       estimator=AdaBoostRegressor(base_estimator=None, learning_rate=1.0, loss='linear',\n",
       "         n_estimators=50, random_state=42),\n",
       "       fit_params={}, iid=True, n_jobs=-1,\n",
       "       param_grid={'learning_rate': [0.01, 0.05, 0.1, 0.3, 1], 'loss': ['linear', 'square', 'exponential'], 'n_estimators': [50, 100]},\n",
       "       pre_dispatch='2*n_jobs', refit=True, return_train_score=True,\n",
       "       scoring=None, verbose=2)"
      ]
     },
     "execution_count": 48,
     "metadata": {},
     "output_type": "execute_result"
    }
   ],
   "source": [
    "pre_gs_inst.fit(X_train3, y_train3)"
   ]
  },
  {
   "cell_type": "code",
   "execution_count": 49,
   "metadata": {},
   "outputs": [
    {
     "data": {
      "text/plain": [
       "{'learning_rate': 0.01, 'loss': 'linear', 'n_estimators': 100}"
      ]
     },
     "execution_count": 49,
     "metadata": {},
     "output_type": "execute_result"
    }
   ],
   "source": [
    "pre_gs_inst.best_params_"
   ]
  },
  {
   "cell_type": "code",
   "execution_count": 62,
   "metadata": {},
   "outputs": [
    {
     "name": "stdout",
     "output_type": "stream",
     "text": [
      "Cluster 3\n",
      "==============================\n",
      "Time =  2.766026735305786\n",
      "==============================\n",
      "R^2 score 0.2627455643070318\n",
      "==============================\n",
      "MSE 17.43045765804165\n",
      "===================================\n"
     ]
    },
    {
     "data": {
      "image/png": "[encoded data removed]",
      "text/plain": [
       "<matplotlib.figure.Figure at 0x7fef5a8f22e8>"
      ]
     },
     "metadata": {
      "needs_background": "light"
     },
     "output_type": "display_data"
    }
   ],
   "source": [
    "model2 =AdaBoostRegressor(n_estimators=100, loss='linear', learning_rate=0.01)\n",
    "ytest3 = np.array(ytest3)\n",
    "y_test3 = np.array(y_test3)\n",
    "#ytest1 =ytest1.reshape(-1,1)\n",
    "t = time.time()\n",
    "model2.fit(X_train3,y_train3)\n",
    "print('Cluster 3')\n",
    "print('==============================')\n",
    "print('Time = ', time.time() - t)\n",
    "predict3 = model2.predict(X_test3)\n",
    "predict3 = predict3*ytest3.max()\n",
    "print('==============================')\n",
    "print('R^2 score' ,metrics.r2_score(ytest3, predict3))\n",
    "print('==============================')\n",
    "print('MSE', np.sqrt(metrics.mean_squared_error(ytest3, predict3)))\n",
    "print('===================================')\n",
    "plt.figure(figsize=(10,8))\n",
    "plt.plot(ytest3)\n",
    "plt.plot(predict3)\n",
    "plt.legend(['True value', 'pedicted value'])\n",
    "plt.savefig('adaboostCl3.svg', dpi=3000)\n",
    "plt.show()\n",
    "#X.shape, y.shape, X1.shape, y1.shape"
   ]
  },
  {
   "cell_type": "markdown",
   "metadata": {},
   "source": [
    "# cluster 4"
   ]
  },
  {
   "cell_type": "code",
   "execution_count": 51,
   "metadata": {},
   "outputs": [
    {
     "name": "stdout",
     "output_type": "stream",
     "text": [
      "Fitting 2 folds for each of 30 candidates, totalling 60 fits\n",
      "[CV] learning_rate=0.01, loss=linear, n_estimators=50 ................\n",
      "[CV] learning_rate=0.01, loss=linear, n_estimators=50 ................\n",
      "[CV] learning_rate=0.01, loss=linear, n_estimators=100 ...............\n",
      "[CV] learning_rate=0.01, loss=linear, n_estimators=100 ...............\n",
      "[CV] learning_rate=0.01, loss=square, n_estimators=50 ................\n",
      "[CV] learning_rate=0.01, loss=square, n_estimators=50 ................\n",
      "[CV] learning_rate=0.01, loss=square, n_estimators=100 ...............\n",
      "[CV] learning_rate=0.01, loss=square, n_estimators=100 ...............\n",
      "[CV] ....... learning_rate=0.01, loss=linear, n_estimators=50 -   0.1s\n",
      "[CV] learning_rate=0.01, loss=exponential, n_estimators=50 ...........\n",
      "[CV] ....... learning_rate=0.01, loss=linear, n_estimators=50 -   0.1s\n",
      "[CV] learning_rate=0.01, loss=exponential, n_estimators=50 ...........\n",
      "[CV] ....... learning_rate=0.01, loss=square, n_estimators=50 -   0.1s\n",
      "[CV] learning_rate=0.01, loss=exponential, n_estimators=100 ..........\n",
      "[CV] ....... learning_rate=0.01, loss=square, n_estimators=50 -   0.1s\n",
      "[CV] learning_rate=0.01, loss=exponential, n_estimators=100 ..........\n",
      "[CV] ...... learning_rate=0.01, loss=square, n_estimators=100 -   0.1s\n",
      "[CV] learning_rate=0.05, loss=linear, n_estimators=50 ................\n",
      "[CV] ...... learning_rate=0.01, loss=linear, n_estimators=100 -   0.1s\n",
      "[CV] .. learning_rate=0.01, loss=exponential, n_estimators=50 -   0.1s\n",
      "[CV] learning_rate=0.05, loss=linear, n_estimators=100 ...............\n",
      "[CV] learning_rate=0.05, loss=linear, n_estimators=50 ................\n",
      "[CV] .. learning_rate=0.01, loss=exponential, n_estimators=50 -   0.1s\n",
      "[CV] learning_rate=0.05, loss=linear, n_estimators=100 ...............\n",
      "[CV] ...... learning_rate=0.01, loss=linear, n_estimators=100 -   0.2s\n",
      "[CV] learning_rate=0.05, loss=square, n_estimators=50 ................\n",
      "[CV] ....... learning_rate=0.05, loss=linear, n_estimators=50 -   0.1s\n",
      "[CV] learning_rate=0.05, loss=square, n_estimators=50 ................\n",
      "[CV] ...... learning_rate=0.01, loss=square, n_estimators=100 -   0.2s\n",
      "[CV] learning_rate=0.05, loss=square, n_estimators=100 ...............\n",
      "[CV] ....... learning_rate=0.05, loss=square, n_estimators=50 -   0.1s\n",
      "[CV] learning_rate=0.05, loss=square, n_estimators=100 ...............\n",
      "[CV] ....... learning_rate=0.05, loss=linear, n_estimators=50 -   0.1s\n",
      "[CV] learning_rate=0.05, loss=exponential, n_estimators=50 ...........\n",
      "[CV] . learning_rate=0.01, loss=exponential, n_estimators=100 -   0.1s\n",
      "[CV] learning_rate=0.05, loss=exponential, n_estimators=50 ...........\n",
      "[CV] . learning_rate=0.01, loss=exponential, n_estimators=100 -   0.2s\n",
      "[CV] learning_rate=0.05, loss=exponential, n_estimators=100 ..........\n",
      "[CV] ....... learning_rate=0.05, loss=square, n_estimators=50 -   0.1s\n",
      "[CV] learning_rate=0.05, loss=exponential, n_estimators=100 ..........\n",
      "[CV] .. learning_rate=0.05, loss=exponential, n_estimators=50 -   0.1s\n",
      "[CV] ...... learning_rate=0.05, loss=linear, n_estimators=100 -   0.1s\n",
      "[CV] learning_rate=0.1, loss=linear, n_estimators=50 .................\n",
      "[CV] learning_rate=0.1, loss=linear, n_estimators=50 .................\n",
      "[CV] .. learning_rate=0.05, loss=exponential, n_estimators=50 -   0.1s\n",
      "[CV] learning_rate=0.1, loss=linear, n_estimators=100 ................\n",
      "[CV] ...... learning_rate=0.05, loss=linear, n_estimators=100 -   0.2s\n",
      "[CV] learning_rate=0.1, loss=linear, n_estimators=100 ................\n",
      "[CV] ...... learning_rate=0.05, loss=square, n_estimators=100 -   0.1s\n",
      "[CV] learning_rate=0.1, loss=square, n_estimators=50 .................\n",
      "[CV] ...... learning_rate=0.05, loss=square, n_estimators=100 -   0.2s\n",
      "[CV] learning_rate=0.1, loss=square, n_estimators=50 .................\n",
      "[CV] ........ learning_rate=0.1, loss=linear, n_estimators=50 -   0.1s\n",
      "[CV] learning_rate=0.1, loss=square, n_estimators=100 ................\n",
      "[CV] ........ learning_rate=0.1, loss=linear, n_estimators=50 -   0.1s\n",
      "[CV] learning_rate=0.1, loss=square, n_estimators=100 ................\n",
      "[CV] . learning_rate=0.05, loss=exponential, n_estimators=100 -   0.1s\n",
      "[CV] learning_rate=0.1, loss=exponential, n_estimators=50 ............\n"
     ]
    },
    {
     "name": "stderr",
     "output_type": "stream",
     "text": [
      "[Parallel(n_jobs=-1)]: Done  25 tasks      | elapsed:    3.6s\n"
     ]
    },
    {
     "name": "stdout",
     "output_type": "stream",
     "text": [
      "[CV] . learning_rate=0.05, loss=exponential, n_estimators=100 -   0.1s\n",
      "[CV] ........ learning_rate=0.1, loss=square, n_estimators=50 -   0.1s\n",
      "[CV] learning_rate=0.1, loss=exponential, n_estimators=50 ............\n",
      "[CV] learning_rate=0.1, loss=exponential, n_estimators=100 ...........\n",
      "[CV] ....... learning_rate=0.1, loss=linear, n_estimators=100 -   0.1s\n",
      "[CV] learning_rate=0.1, loss=exponential, n_estimators=100 ...........\n",
      "[CV] ........ learning_rate=0.1, loss=square, n_estimators=50 -   0.1s\n",
      "[CV] learning_rate=0.3, loss=linear, n_estimators=50 .................\n",
      "[CV] ... learning_rate=0.1, loss=exponential, n_estimators=50 -   0.1s\n",
      "[CV] learning_rate=0.3, loss=linear, n_estimators=50 .................\n",
      "[CV] ....... learning_rate=0.1, loss=linear, n_estimators=100 -   0.1s\n",
      "[CV] learning_rate=0.3, loss=linear, n_estimators=100 ................\n",
      "[CV] ... learning_rate=0.1, loss=exponential, n_estimators=50 -   0.1s\n",
      "[CV] learning_rate=0.3, loss=linear, n_estimators=100 ................\n",
      "[CV] ........ learning_rate=0.3, loss=linear, n_estimators=50 -   0.1s\n",
      "[CV] learning_rate=0.3, loss=square, n_estimators=50 .................\n",
      "[CV] ........ learning_rate=0.3, loss=linear, n_estimators=50 -   0.0s\n",
      "[CV] learning_rate=0.3, loss=square, n_estimators=50 .................\n",
      "[CV] ....... learning_rate=0.1, loss=square, n_estimators=100 -   0.2s\n",
      "[CV] ....... learning_rate=0.3, loss=linear, n_estimators=100 -   0.1s\n",
      "[CV] learning_rate=0.3, loss=square, n_estimators=100 ................\n",
      "[CV] learning_rate=0.3, loss=square, n_estimators=100 ................\n",
      "[CV] ....... learning_rate=0.1, loss=square, n_estimators=100 -   0.2s\n",
      "[CV] learning_rate=0.3, loss=exponential, n_estimators=50 ............\n",
      "[CV] .. learning_rate=0.1, loss=exponential, n_estimators=100 -   0.1s\n",
      "[CV] learning_rate=0.3, loss=exponential, n_estimators=50 ............\n",
      "[CV] ........ learning_rate=0.3, loss=square, n_estimators=50 -   0.1s\n",
      "[CV] learning_rate=0.3, loss=exponential, n_estimators=100 ...........\n",
      "[CV] .. learning_rate=0.1, loss=exponential, n_estimators=100 -   0.1s\n",
      "[CV] learning_rate=0.3, loss=exponential, n_estimators=100 ...........\n",
      "[CV] ....... learning_rate=0.3, loss=linear, n_estimators=100 -   0.1s\n",
      "[CV] learning_rate=1, loss=linear, n_estimators=50 ...................\n",
      "[CV] ........ learning_rate=0.3, loss=square, n_estimators=50 -   0.1s\n",
      "[CV] learning_rate=1, loss=linear, n_estimators=50 ...................\n",
      "[CV] ... learning_rate=0.3, loss=exponential, n_estimators=50 -   0.1s\n",
      "[CV] learning_rate=1, loss=linear, n_estimators=100 ..................\n",
      "[CV] ... learning_rate=0.3, loss=exponential, n_estimators=50 -   0.1s\n",
      "[CV] learning_rate=1, loss=linear, n_estimators=100 ..................\n",
      "[CV] .......... learning_rate=1, loss=linear, n_estimators=50 -   0.0s\n",
      "[CV] learning_rate=1, loss=square, n_estimators=50 ...................\n",
      "[CV] .......... learning_rate=1, loss=linear, n_estimators=50 -   0.1s\n",
      "[CV] learning_rate=1, loss=square, n_estimators=50 ...................\n",
      "[CV] ......... learning_rate=1, loss=linear, n_estimators=100 -   0.0s\n",
      "[CV] ....... learning_rate=0.3, loss=square, n_estimators=100 -   0.1s\n",
      "[CV] learning_rate=1, loss=square, n_estimators=100 ..................\n",
      "[CV] learning_rate=1, loss=square, n_estimators=100 ..................\n",
      "[CV] .. learning_rate=0.3, loss=exponential, n_estimators=100 -   0.1s\n",
      "[CV] ....... learning_rate=0.3, loss=square, n_estimators=100 -   0.1s\n",
      "[CV] learning_rate=1, loss=exponential, n_estimators=50 ..............\n",
      "[CV] learning_rate=1, loss=exponential, n_estimators=50 ..............\n",
      "[CV] ......... learning_rate=1, loss=linear, n_estimators=100 -   0.1s\n",
      "[CV] learning_rate=1, loss=exponential, n_estimators=100 .............\n",
      "[CV] .......... learning_rate=1, loss=square, n_estimators=50 -   0.1s\n",
      "[CV] learning_rate=1, loss=exponential, n_estimators=100 .............\n",
      "[CV] .......... learning_rate=1, loss=square, n_estimators=50 -   0.1s\n",
      "[CV] .. learning_rate=0.3, loss=exponential, n_estimators=100 -   0.1s\n",
      "[CV] ..... learning_rate=1, loss=exponential, n_estimators=50 -   0.1s\n",
      "[CV] ..... learning_rate=1, loss=exponential, n_estimators=50 -   0.1s\n",
      "[CV] ......... learning_rate=1, loss=square, n_estimators=100 -   0.1s\n",
      "[CV] ......... learning_rate=1, loss=square, n_estimators=100 -   0.1s\n",
      "[CV] .... learning_rate=1, loss=exponential, n_estimators=100 -   0.1s\n",
      "[CV] .... learning_rate=1, loss=exponential, n_estimators=100 -   0.1s\n"
     ]
    },
    {
     "name": "stderr",
     "output_type": "stream",
     "text": [
      "[Parallel(n_jobs=-1)]: Done  60 out of  60 | elapsed:    7.7s finished\n"
     ]
    },
    {
     "data": {
      "text/plain": [
       "GridSearchCV(cv=2, error_score='raise',\n",
       "       estimator=AdaBoostRegressor(base_estimator=None, learning_rate=1.0, loss='linear',\n",
       "         n_estimators=50, random_state=42),\n",
       "       fit_params={}, iid=True, n_jobs=-1,\n",
       "       param_grid={'learning_rate': [0.01, 0.05, 0.1, 0.3, 1], 'loss': ['linear', 'square', 'exponential'], 'n_estimators': [50, 100]},\n",
       "       pre_dispatch='2*n_jobs', refit=True, return_train_score=True,\n",
       "       scoring=None, verbose=2)"
      ]
     },
     "execution_count": 51,
     "metadata": {},
     "output_type": "execute_result"
    }
   ],
   "source": [
    "pre_gs_inst.fit(X_train4, y_train4)"
   ]
  },
  {
   "cell_type": "code",
   "execution_count": 52,
   "metadata": {},
   "outputs": [
    {
     "data": {
      "text/plain": [
       "{'learning_rate': 0.01, 'loss': 'exponential', 'n_estimators': 50}"
      ]
     },
     "execution_count": 52,
     "metadata": {},
     "output_type": "execute_result"
    }
   ],
   "source": [
    "pre_gs_inst.best_params_"
   ]
  },
  {
   "cell_type": "code",
   "execution_count": 65,
   "metadata": {},
   "outputs": [
    {
     "name": "stdout",
     "output_type": "stream",
     "text": [
      "Cluster 4\n",
      "==============================\n",
      "Time =  0.45001673698425293\n",
      "==============================\n",
      "R^2 score 0.3156812333379436\n",
      "==============================\n",
      "MSE 24.947693808942784\n",
      "===================================\n"
     ]
    },
    {
     "data": {
      "image/png": "[encoded data removed]",
      "text/plain": [
       "<matplotlib.figure.Figure at 0x7fef5a658a20>"
      ]
     },
     "metadata": {
      "needs_background": "light"
     },
     "output_type": "display_data"
    }
   ],
   "source": [
    "model3 =AdaBoostRegressor(n_estimators=50, loss='exponential', learning_rate=0.01)\n",
    "ytest4 = np.array(ytest4)\n",
    "y_test4 = np.array(y_test4)\n",
    "#ytest1 =ytest1.reshape(-1,1)\n",
    "t = time.time()\n",
    "model3.fit(X_train4,y_train4)\n",
    "print('Cluster 4')\n",
    "print('==============================')\n",
    "print('Time = ', time.time() - t)\n",
    "predict4 = model3.predict(X_test4)\n",
    "predict4 = predict4*ytest4.max()\n",
    "print('==============================')\n",
    "print('R^2 score' ,metrics.r2_score(ytest4, predict4))\n",
    "print('==============================')\n",
    "print('MSE', np.sqrt(metrics.mean_squared_error(ytest4, predict4)))\n",
    "print('===================================')\n",
    "plt.figure(figsize=(10,8))\n",
    "plt.plot(ytest4)\n",
    "plt.plot(predict4)\n",
    "plt.legend(['True value', 'pedicted value'])\n",
    "plt.savefig('adaboostCl4.svg', dpi=3000)\n",
    "plt.show()\n",
    "#X.shape, y.shape, X1.shape, y1.shape"
   ]
  },
  {
   "cell_type": "code",
   "execution_count": 54,
   "metadata": {},
   "outputs": [
    {
     "name": "stdout",
     "output_type": "stream",
     "text": [
      "Fitting 2 folds for each of 30 candidates, totalling 60 fits\n",
      "[CV] learning_rate=0.01, loss=linear, n_estimators=50 ................\n",
      "[CV] learning_rate=0.01, loss=linear, n_estimators=50 ................\n",
      "[CV] learning_rate=0.01, loss=linear, n_estimators=100 ...............\n",
      "[CV] learning_rate=0.01, loss=linear, n_estimators=100 ...............\n",
      "[CV] learning_rate=0.01, loss=square, n_estimators=50 ................\n",
      "[CV] learning_rate=0.01, loss=square, n_estimators=100 ...............\n",
      "[CV] learning_rate=0.01, loss=square, n_estimators=50 ................\n",
      "[CV] learning_rate=0.01, loss=square, n_estimators=100 ...............\n",
      "[CV] ....... learning_rate=0.01, loss=linear, n_estimators=50 -   0.1s\n",
      "[CV] ....... learning_rate=0.01, loss=linear, n_estimators=50 -   0.1s\n",
      "[CV] learning_rate=0.01, loss=exponential, n_estimators=50 ...........\n",
      "[CV] learning_rate=0.01, loss=exponential, n_estimators=50 ...........\n",
      "[CV] ....... learning_rate=0.01, loss=square, n_estimators=50 -   0.1s\n",
      "[CV] ....... learning_rate=0.01, loss=square, n_estimators=50 -   0.1s\n",
      "[CV] learning_rate=0.01, loss=exponential, n_estimators=100 ..........\n",
      "[CV] learning_rate=0.01, loss=exponential, n_estimators=100 ..........\n",
      "[CV] .. learning_rate=0.01, loss=exponential, n_estimators=50 -   0.1s\n",
      "[CV] ...... learning_rate=0.01, loss=linear, n_estimators=100 -   0.2s\n",
      "[CV] learning_rate=0.05, loss=linear, n_estimators=50 ................\n",
      "[CV] .. learning_rate=0.01, loss=exponential, n_estimators=50 -   0.1s\n",
      "[CV] learning_rate=0.05, loss=linear, n_estimators=50 ................\n",
      "[CV] learning_rate=0.05, loss=linear, n_estimators=100 ...............\n",
      "[CV] ...... learning_rate=0.01, loss=square, n_estimators=100 -   0.2s\n",
      "[CV] learning_rate=0.05, loss=linear, n_estimators=100 ...............\n",
      "[CV] ...... learning_rate=0.01, loss=linear, n_estimators=100 -   0.2s\n",
      "[CV] learning_rate=0.05, loss=square, n_estimators=50 ................\n",
      "[CV] ...... learning_rate=0.01, loss=square, n_estimators=100 -   0.3s\n",
      "[CV] learning_rate=0.05, loss=square, n_estimators=50 ................\n",
      "[CV] ....... learning_rate=0.05, loss=linear, n_estimators=50 -   0.1s\n",
      "[CV] learning_rate=0.05, loss=square, n_estimators=100 ...............\n",
      "[CV] ....... learning_rate=0.05, loss=linear, n_estimators=50 -   0.1s\n",
      "[CV] learning_rate=0.05, loss=square, n_estimators=100 ...............\n",
      "[CV] . learning_rate=0.01, loss=exponential, n_estimators=100 -   0.2s\n",
      "[CV] learning_rate=0.05, loss=exponential, n_estimators=50 ...........\n",
      "[CV] . learning_rate=0.01, loss=exponential, n_estimators=100 -   0.2s\n",
      "[CV] learning_rate=0.05, loss=exponential, n_estimators=50 ...........\n",
      "[CV] ....... learning_rate=0.05, loss=square, n_estimators=50 -   0.1s\n",
      "[CV] learning_rate=0.05, loss=exponential, n_estimators=100 ..........\n",
      "[CV] ....... learning_rate=0.05, loss=square, n_estimators=50 -   0.1s\n",
      "[CV] learning_rate=0.05, loss=exponential, n_estimators=100 ..........\n",
      "[CV] .. learning_rate=0.05, loss=exponential, n_estimators=50 -   0.1s\n",
      "[CV] ...... learning_rate=0.05, loss=linear, n_estimators=100 -   0.2s\n",
      "[CV] learning_rate=0.1, loss=linear, n_estimators=50 .................\n",
      "[CV] learning_rate=0.1, loss=linear, n_estimators=50 .................\n",
      "[CV] .. learning_rate=0.05, loss=exponential, n_estimators=50 -   0.1s\n",
      "[CV] learning_rate=0.1, loss=linear, n_estimators=100 ................\n",
      "[CV] ...... learning_rate=0.05, loss=linear, n_estimators=100 -   0.2s\n",
      "[CV] learning_rate=0.1, loss=linear, n_estimators=100 ................\n",
      "[CV] ...... learning_rate=0.05, loss=square, n_estimators=100 -   0.2s\n",
      "[CV] learning_rate=0.1, loss=square, n_estimators=50 .................\n",
      "[CV] ...... learning_rate=0.05, loss=square, n_estimators=100 -   0.2s\n",
      "[CV] learning_rate=0.1, loss=square, n_estimators=50 .................\n",
      "[CV] ........ learning_rate=0.1, loss=linear, n_estimators=50 -   0.1s\n",
      "[CV] learning_rate=0.1, loss=square, n_estimators=100 ................\n",
      "[CV] ........ learning_rate=0.1, loss=linear, n_estimators=50 -   0.1s\n",
      "[CV] learning_rate=0.1, loss=square, n_estimators=100 ................\n",
      "[CV] . learning_rate=0.05, loss=exponential, n_estimators=100 -   0.2s\n",
      "[CV] learning_rate=0.1, loss=exponential, n_estimators=50 ............\n",
      "[CV] . learning_rate=0.05, loss=exponential, n_estimators=100 -   0.2s\n",
      "[CV] learning_rate=0.1, loss=exponential, n_estimators=50 ............\n"
     ]
    },
    {
     "name": "stderr",
     "output_type": "stream",
     "text": [
      "[Parallel(n_jobs=-1)]: Done  25 tasks      | elapsed:    4.2s\n"
     ]
    },
    {
     "name": "stdout",
     "output_type": "stream",
     "text": [
      "[CV] ........ learning_rate=0.1, loss=square, n_estimators=50 -   0.1s\n",
      "[CV] ........ learning_rate=0.1, loss=square, n_estimators=50 -   0.1s\n",
      "[CV] learning_rate=0.1, loss=exponential, n_estimators=100 ...........\n",
      "[CV] learning_rate=0.1, loss=exponential, n_estimators=100 ...........\n",
      "[CV] ....... learning_rate=0.1, loss=linear, n_estimators=100 -   0.2s\n",
      "[CV] learning_rate=0.3, loss=linear, n_estimators=50 .................\n",
      "[CV] ....... learning_rate=0.1, loss=linear, n_estimators=100 -   0.2s\n",
      "[CV] learning_rate=0.3, loss=linear, n_estimators=50 .................\n",
      "[CV] ... learning_rate=0.1, loss=exponential, n_estimators=50 -   0.1s\n",
      "[CV] learning_rate=0.3, loss=linear, n_estimators=100 ................\n",
      "[CV] ... learning_rate=0.1, loss=exponential, n_estimators=50 -   0.1s\n",
      "[CV] learning_rate=0.3, loss=linear, n_estimators=100 ................\n",
      "[CV] ........ learning_rate=0.3, loss=linear, n_estimators=50 -   0.0s\n",
      "[CV] learning_rate=0.3, loss=square, n_estimators=50 .................\n",
      "[CV] ....... learning_rate=0.1, loss=square, n_estimators=100 -   0.2s\n",
      "[CV] learning_rate=0.3, loss=square, n_estimators=50 .................\n",
      "[CV] ....... learning_rate=0.1, loss=square, n_estimators=100 -   0.2s\n",
      "[CV] learning_rate=0.3, loss=square, n_estimators=100 ................\n",
      "[CV] ....... learning_rate=0.3, loss=linear, n_estimators=100 -   0.0s\n",
      "[CV] learning_rate=0.3, loss=square, n_estimators=100 ................\n",
      "[CV] ........ learning_rate=0.3, loss=linear, n_estimators=50 -   0.1s\n",
      "[CV] learning_rate=0.3, loss=exponential, n_estimators=50 ............\n",
      "[CV] ........ learning_rate=0.3, loss=square, n_estimators=50 -   0.1s\n",
      "[CV] learning_rate=0.3, loss=exponential, n_estimators=50 ............\n",
      "[CV] ........ learning_rate=0.3, loss=square, n_estimators=50 -   0.1s\n",
      "[CV] learning_rate=0.3, loss=exponential, n_estimators=100 ...........\n",
      "[CV] .. learning_rate=0.1, loss=exponential, n_estimators=100 -   0.2s\n",
      "[CV] learning_rate=0.3, loss=exponential, n_estimators=100 ...........\n",
      "[CV] .. learning_rate=0.1, loss=exponential, n_estimators=100 -   0.2s\n",
      "[CV] learning_rate=1, loss=linear, n_estimators=50 ...................\n",
      "[CV] ... learning_rate=0.3, loss=exponential, n_estimators=50 -   0.1s\n",
      "[CV] learning_rate=1, loss=linear, n_estimators=50 ...................\n",
      "[CV] ....... learning_rate=0.3, loss=linear, n_estimators=100 -   0.2s\n",
      "[CV] learning_rate=1, loss=linear, n_estimators=100 ..................\n",
      "[CV] .......... learning_rate=1, loss=linear, n_estimators=50 -   0.0s\n",
      "[CV] learning_rate=1, loss=linear, n_estimators=100 ..................\n",
      "[CV] ......... learning_rate=1, loss=linear, n_estimators=100 -   0.0s\n",
      "[CV] learning_rate=1, loss=square, n_estimators=50 ...................\n",
      "[CV] ... learning_rate=0.3, loss=exponential, n_estimators=50 -   0.1s\n",
      "[CV] learning_rate=1, loss=square, n_estimators=50 ...................\n",
      "[CV] ....... learning_rate=0.3, loss=square, n_estimators=100 -   0.2s\n",
      "[CV] learning_rate=1, loss=square, n_estimators=100 ..................\n",
      "[CV] ....... learning_rate=0.3, loss=square, n_estimators=100 -   0.2s\n",
      "[CV] learning_rate=1, loss=square, n_estimators=100 ..................\n",
      "[CV] .......... learning_rate=1, loss=linear, n_estimators=50 -   0.1s\n",
      "[CV] learning_rate=1, loss=exponential, n_estimators=50 ..............\n",
      "[CV] .......... learning_rate=1, loss=square, n_estimators=50 -   0.1s\n",
      "[CV] learning_rate=1, loss=exponential, n_estimators=50 ..............\n",
      "[CV] ......... learning_rate=1, loss=square, n_estimators=100 -   0.1s\n",
      "[CV] learning_rate=1, loss=exponential, n_estimators=100 .............\n",
      "[CV] .......... learning_rate=1, loss=square, n_estimators=50 -   0.1s\n",
      "[CV] learning_rate=1, loss=exponential, n_estimators=100 .............\n",
      "[CV] .. learning_rate=0.3, loss=exponential, n_estimators=100 -   0.2s\n",
      "[CV] .. learning_rate=0.3, loss=exponential, n_estimators=100 -   0.2s\n",
      "[CV] ..... learning_rate=1, loss=exponential, n_estimators=50 -   0.1s\n",
      "[CV] ......... learning_rate=1, loss=linear, n_estimators=100 -   0.2s\n",
      "[CV] ..... learning_rate=1, loss=exponential, n_estimators=50 -   0.1s\n",
      "[CV] ......... learning_rate=1, loss=square, n_estimators=100 -   0.2s\n",
      "[CV] .... learning_rate=1, loss=exponential, n_estimators=100 -   0.1s\n",
      "[CV] .... learning_rate=1, loss=exponential, n_estimators=100 -   0.1s\n"
     ]
    },
    {
     "name": "stderr",
     "output_type": "stream",
     "text": [
      "[Parallel(n_jobs=-1)]: Done  60 out of  60 | elapsed:    9.0s finished\n"
     ]
    },
    {
     "data": {
      "text/plain": [
       "GridSearchCV(cv=2, error_score='raise',\n",
       "       estimator=AdaBoostRegressor(base_estimator=None, learning_rate=1.0, loss='linear',\n",
       "         n_estimators=50, random_state=42),\n",
       "       fit_params={}, iid=True, n_jobs=-1,\n",
       "       param_grid={'learning_rate': [0.01, 0.05, 0.1, 0.3, 1], 'loss': ['linear', 'square', 'exponential'], 'n_estimators': [50, 100]},\n",
       "       pre_dispatch='2*n_jobs', refit=True, return_train_score=True,\n",
       "       scoring=None, verbose=2)"
      ]
     },
     "execution_count": 54,
     "metadata": {},
     "output_type": "execute_result"
    }
   ],
   "source": [
    "pre_gs_inst.fit(X_train5, y_train5)"
   ]
  },
  {
   "cell_type": "code",
   "execution_count": 55,
   "metadata": {},
   "outputs": [
    {
     "data": {
      "text/plain": [
       "{'learning_rate': 0.01, 'loss': 'exponential', 'n_estimators': 100}"
      ]
     },
     "execution_count": 55,
     "metadata": {},
     "output_type": "execute_result"
    }
   ],
   "source": [
    "pre_gs_inst.best_params_"
   ]
  },
  {
   "cell_type": "code",
   "execution_count": 64,
   "metadata": {},
   "outputs": [
    {
     "name": "stdout",
     "output_type": "stream",
     "text": [
      "Cluster 5\n",
      "==============================\n",
      "Time =  1.5463659763336182\n",
      "==============================\n",
      "R^2 score 0.30560923404487417\n",
      "==============================\n",
      "MSE 19.934274941573612\n",
      "===================================\n"
     ]
    },
    {
     "data": {
      "image/png": "[encoded data removed]",
      "text/plain": [
       "<matplotlib.figure.Figure at 0x7fef59ca94e0>"
      ]
     },
     "metadata": {
      "needs_background": "light"
     },
     "output_type": "display_data"
    }
   ],
   "source": [
    "model5 =AdaBoostRegressor(n_estimators=100, loss='exponential', learning_rate=0.01)\n",
    "ytest5 = np.array(ytest5)\n",
    "y_test5 = np.array(y_test5)\n",
    "#ytest1 =ytest1.reshape(-1,1)\n",
    "t = time.time()\n",
    "model5.fit(X_train5,y_train5)\n",
    "print('Cluster 5')\n",
    "print('==============================')\n",
    "print('Time = ', time.time() - t)\n",
    "predict5 = model3.predict(X_test5)\n",
    "predict5 = predict5*ytest5.max()\n",
    "print('==============================')\n",
    "print('R^2 score' ,metrics.r2_score(ytest5, predict5))\n",
    "print('==============================')\n",
    "print('MSE', np.sqrt(metrics.mean_squared_error(ytest5, predict5)))\n",
    "print('===================================')\n",
    "plt.figure(figsize=(10,8))\n",
    "plt.plot(ytest5)\n",
    "plt.plot(predict5)\n",
    "plt.legend(['True value', 'pedicted value'])\n",
    "plt.savefig('adaboostCl5.svg', dpi=3000)\n",
    "plt.show()\n",
    "#X.shape, y.shape, X1.shape, y1.shape"
   ]
  },
  {
   "cell_type": "code",
   "execution_count": null,
   "metadata": {},
   "outputs": [],
   "source": []
  }
 ],
 "metadata": {
  "kernelspec": {
   "display_name": "Python 3",
   "language": "python",
   "name": "python3"
  },
  "language_info": {
   "codemirror_mode": {
    "name": "ipython",
    "version": 3
   },
   "file_extension": ".py",
   "mimetype": "text/x-python",
   "name": "python",
   "nbconvert_exporter": "python",
   "pygments_lexer": "ipython3",
   "version": "3.7.0"
  }
 },
 "nbformat": 4,
 "nbformat_minor": 2
}
